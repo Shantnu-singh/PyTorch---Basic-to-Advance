{
 "cells": [
  {
   "cell_type": "code",
   "execution_count": 4,
   "metadata": {},
   "outputs": [],
   "source": [
    "import pandas as pd\n",
    "import matplotlib.pyplot as plt\n",
    "from sklearn.datasets import load_iris"
   ]
  },
  {
   "cell_type": "code",
   "execution_count": null,
   "metadata": {},
   "outputs": [],
   "source": [
    "# namespaces {a : 3 , idetifier : values}\n",
    "# scope = area at which namespace is active\n",
    "\n",
    "# LEGB rule : first check local space , then encoger , global , built in"
   ]
  },
  {
   "cell_type": "code",
   "execution_count": 13,
   "metadata": {},
   "outputs": [
    {
     "name": "stdout",
     "output_type": "stream",
     "text": [
      "0\n"
     ]
    },
    {
     "data": {
      "text/plain": [
       "2"
      ]
     },
     "execution_count": 13,
     "metadata": {},
     "output_type": "execute_result"
    }
   ],
   "source": [
    "a = 2 # Global space \n",
    "\n",
    "def foo():\n",
    "    b = 0\n",
    "    print(b) # local scope\n",
    "    \n",
    "foo()\n",
    "a"
   ]
  },
  {
   "cell_type": "code",
   "execution_count": 15,
   "metadata": {},
   "outputs": [
    {
     "name": "stdout",
     "output_type": "stream",
     "text": [
      "2\n"
     ]
    },
    {
     "data": {
      "text/plain": [
       "2"
      ]
     },
     "execution_count": 15,
     "metadata": {},
     "output_type": "execute_result"
    }
   ],
   "source": [
    "a = 2 # Global space \n",
    "\n",
    "def foo():\n",
    "    global a \n",
    "    a += 0  # need global to do this\n",
    "    print(a) # local scope\n",
    "    \n",
    "foo()\n",
    "a\n",
    "\n",
    "# paramters are local varibale"
   ]
  },
  {
   "cell_type": "code",
   "execution_count": 16,
   "metadata": {},
   "outputs": [
    {
     "name": "stdout",
     "output_type": "stream",
     "text": [
      "this is local\n",
      "this is outter\n",
      "inside the main fucntion\n"
     ]
    }
   ],
   "source": [
    "# built in scope \n",
    "# like print  sorted , dict\n",
    "\n",
    "# enclosing scope\n",
    "def outer():\n",
    "    def innner():\n",
    "        print(\"this is local\")\n",
    "    innner()\n",
    "    print(\"this is outter\")\n",
    "\n",
    "outer()\n",
    "print(\"inside the main fucntion\")"
   ]
  },
  {
   "cell_type": "code",
   "execution_count": 17,
   "metadata": {},
   "outputs": [],
   "source": [
    "# Decorators\n",
    "# are fun that take fucntion an mododify this\n",
    "# becure in python fucntion are 1st class citizes\n",
    "\n",
    "# two types , --> prebuilt and user defines"
   ]
  },
  {
   "cell_type": "code",
   "execution_count": 20,
   "metadata": {},
   "outputs": [
    {
     "name": "stdout",
     "output_type": "stream",
     "text": [
      "********\n",
      "Hey\n",
      "*****\n"
     ]
    }
   ],
   "source": [
    "def my_decorator(func): # clsoure, inner function can use this even when outer fuction is dead\n",
    "    def wrapper():\n",
    "        print(\"********\")\n",
    "        func()\n",
    "        print(\"*****\")\n",
    "    return wrapper\n",
    "\n",
    "def hellow():\n",
    "    print(\"Hey\")\n",
    "\n",
    "a = my_decorator(hellow)\n",
    "a()"
   ]
  },
  {
   "cell_type": "code",
   "execution_count": 22,
   "metadata": {},
   "outputs": [
    {
     "name": "stdout",
     "output_type": "stream",
     "text": [
      "********\n",
      "Hey\n",
      "*****\n"
     ]
    }
   ],
   "source": [
    "def my_decorator(func): # clsoure, inner function can use this even when outer fuction is dead\n",
    "    def wrapper():\n",
    "        print(\"********\")\n",
    "        func()\n",
    "        print(\"*****\")\n",
    "    return wrapper\n",
    "\n",
    "@my_decorator\n",
    "def hellow():\n",
    "    print(\"Hey\")\n",
    "    \n",
    "hellow()"
   ]
  },
  {
   "cell_type": "code",
   "execution_count": 32,
   "metadata": {},
   "outputs": [
    {
     "name": "stdout",
     "output_type": "stream",
     "text": [
      "4\n",
      "time taken by the square 1.0009448528289795\n"
     ]
    }
   ],
   "source": [
    "# execusion time\n",
    "import time\n",
    "def timer(fucn):\n",
    "    def wrapper(*args):\n",
    "        start = time.time()\n",
    "        fucn(*args)\n",
    "        print(f\"time taken by the\" , fucn.__name__, time.time()-start)\n",
    "    return wrapper\n",
    "\n",
    "@timer\n",
    "def hello():\n",
    "    print(\"hello world\")\n",
    "    time.sleep(2)\n",
    "\n",
    "@timer\n",
    "def square(num):\n",
    "    print(num**2)\n",
    "    time.sleep(1)\n",
    "    \n",
    "square(2)\n"
   ]
  },
  {
   "cell_type": "code",
   "execution_count": null,
   "metadata": {},
   "outputs": [],
   "source": [
    "# Decorator to make the right data format\n",
    "\n",
    "def checker(func , datatype):\n",
    "    def outer_wrapper(func):\n",
    "        def inner_wrapper(*args):\n",
    "            if type(args[0]) == datatype:\n",
    "                func(args[0])\n",
    "                \n",
    "            else:\n",
    "                raise ValueError(\"this is wrong\")\n",
    "        return inner_wrapper()\n",
    "    return outer_wrapper\n"
   ]
  },
  {
   "cell_type": "code",
   "execution_count": 3,
   "metadata": {},
   "outputs": [
    {
     "data": {
      "text/plain": [
       "0"
      ]
     },
     "execution_count": 3,
     "metadata": {},
     "output_type": "execute_result"
    }
   ],
   "source": [
    "def foo(n):\n",
    "    for i in range(10):\n",
    "        yield i\n",
    "\n",
    "a = foo(10)\n",
    "next(a)"
   ]
  },
  {
   "cell_type": "code",
   "execution_count": 9,
   "metadata": {},
   "outputs": [
    {
     "data": {
      "text/plain": [
       "6"
      ]
     },
     "execution_count": 9,
     "metadata": {},
     "output_type": "execute_result"
    }
   ],
   "source": [
    "next(a)"
   ]
  },
  {
   "cell_type": "code",
   "execution_count": null,
   "metadata": {},
   "outputs": [],
   "source": []
  }
 ],
 "metadata": {
  "kernelspec": {
   "display_name": "Python 3",
   "language": "python",
   "name": "python3"
  },
  "language_info": {
   "codemirror_mode": {
    "name": "ipython",
    "version": 3
   },
   "file_extension": ".py",
   "mimetype": "text/x-python",
   "name": "python",
   "nbconvert_exporter": "python",
   "pygments_lexer": "ipython3",
   "version": "3.12.2"
  }
 },
 "nbformat": 4,
 "nbformat_minor": 2
}
