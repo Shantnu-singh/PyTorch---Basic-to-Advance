{
 "cells": [
  {
   "cell_type": "markdown",
   "metadata": {},
   "source": [
    "### Why: To calculate derivatives in neural networks "
   ]
  },
  {
   "cell_type": "code",
   "execution_count": 1,
   "metadata": {},
   "outputs": [],
   "source": [
    "import torch\n",
    "import numpy as np"
   ]
  },
  {
   "cell_type": "code",
   "execution_count": 2,
   "metadata": {},
   "outputs": [
    {
     "data": {
      "text/plain": [
       "tensor(4., dtype=torch.float64)"
      ]
     },
     "execution_count": 2,
     "metadata": {},
     "output_type": "execute_result"
    }
   ],
   "source": [
    "# define tensor \n",
    "x = torch.tensor(2 , requires_grad= True , dtype= torch.float64 ) \n",
    "y = x**2\n",
    "\n",
    "y.backward()\n",
    "x.grad"
   ]
  },
  {
   "cell_type": "code",
   "execution_count": 3,
   "metadata": {},
   "outputs": [
    {
     "data": {
      "text/plain": [
       "tensor(-7.6613, dtype=torch.float64)"
      ]
     },
     "execution_count": 3,
     "metadata": {},
     "output_type": "execute_result"
    }
   ],
   "source": [
    "# function z = sin(y)\n",
    "x = torch.tensor(4 , requires_grad= True , dtype= torch.float64 ) \n",
    "y = x**2\n",
    "z = torch.sin(y)\n",
    "z # tensor(-0.7568, dtype=torch.float64, grad_fn=<SinBackward0>)\n",
    "y # tensor(-0.7568, dtype=torch.float64, grad_fn=<SinBackward0>)\n",
    "\n",
    "z.backward()\n",
    "x.grad"
   ]
  },
  {
   "cell_type": "code",
   "execution_count": 4,
   "metadata": {},
   "outputs": [
    {
     "name": "stderr",
     "output_type": "stream",
     "text": [
      "C:\\Users\\singh\\AppData\\Local\\Temp\\ipykernel_17196\\2144202142.py:1: UserWarning: The .grad attribute of a Tensor that is not a leaf Tensor is being accessed. Its .grad attribute won't be populated during autograd.backward(). If you indeed want the .grad field to be populated for a non-leaf Tensor, use .retain_grad() on the non-leaf Tensor. If you access the non-leaf Tensor by mistake, make sure you access the leaf Tensor instead. See github.com/pytorch/pytorch/pull/30531 for more informations. (Triggered internally at C:\\actions-runner\\_work\\pytorch\\pytorch\\builder\\windows\\pytorch\\build\\aten\\src\\ATen/core/TensorBody.h:494.)\n",
      "  y.grad # not possible as you can only find derivatives for leaf nodes\n"
     ]
    }
   ],
   "source": [
    "y.grad # not possible as you can only find derivatives for leaf nodes"
   ]
  },
  {
   "cell_type": "code",
   "execution_count": 5,
   "metadata": {},
   "outputs": [],
   "source": [
    "# binary_cross_entropy_loss\n",
    "def binary_cross_entropy_loss(prediction, target):\n",
    "    epsilon = 1e-8  # To prevent log(0)\n",
    "    prediction = torch.clamp(prediction, epsilon, 1 - epsilon)\n",
    "    return -(target * torch.log(prediction) + (1 - target) * torch.log(1 - prediction))\n"
   ]
  },
  {
   "cell_type": "code",
   "execution_count": 6,
   "metadata": {},
   "outputs": [],
   "source": [
    "# Exmple of a simple  neural network\n",
    "x = torch.tensor(2.3)\n",
    "y = torch.tensor(0.0)\n",
    "\n",
    "w = torch.tensor(1 , dtype= torch.float64, requires_grad= True)\n",
    "b = torch.tensor(0 , dtype= torch.float64 , requires_grad= True)\n",
    "\n",
    "z = w*x + b\n",
    "\n",
    "y_pred = torch.sigmoid(z)\n",
    "y_pred\n",
    "\n",
    "\n",
    "\n",
    "loss = binary_cross_entropy_loss(y_pred , y)"
   ]
  },
  {
   "cell_type": "code",
   "execution_count": 7,
   "metadata": {},
   "outputs": [
    {
     "name": "stdout",
     "output_type": "stream",
     "text": [
      "tensor(2.0904, dtype=torch.float64) tensor(0.9089, dtype=torch.float64)\n"
     ]
    }
   ],
   "source": [
    "loss.backward()\n",
    "\n",
    "print(w.grad , b.grad)"
   ]
  },
  {
   "cell_type": "code",
   "execution_count": 8,
   "metadata": {},
   "outputs": [
    {
     "data": {
      "text/plain": [
       "tensor([0.5000, 1.0000, 1.5000, 2.0000], dtype=torch.float64)"
      ]
     },
     "execution_count": 8,
     "metadata": {},
     "output_type": "execute_result"
    }
   ],
   "source": [
    "# Autograd with Vectors\n",
    "temp = torch.tensor([1,2 , 3,4 ] , dtype= torch.float64 , requires_grad= True)\n",
    "\n",
    "y = (temp**2).mean() # y = (x1^2 + x2^2 + x3^2 + x4^2) / 4\n",
    "y\n",
    "\n",
    "y.backward()\n",
    "temp.grad"
   ]
  },
  {
   "cell_type": "code",
   "execution_count": 9,
   "metadata": {},
   "outputs": [
    {
     "data": {
      "text/plain": [
       "tensor(0.)"
      ]
     },
     "execution_count": 9,
     "metadata": {},
     "output_type": "execute_result"
    }
   ],
   "source": [
    "# Gradient Accumuation\n",
    "x = torch.tensor(2.0 ,requires_grad= True)\n",
    "y = x**2 \n",
    "y.backward()\n",
    "x.grad\n",
    "x.grad.zero_() # to make grad 0 and not let accumulate\n"
   ]
  },
  {
   "cell_type": "code",
   "execution_count": 11,
   "metadata": {},
   "outputs": [
    {
     "data": {
      "text/plain": [
       "tensor(4.)"
      ]
     },
     "execution_count": 11,
     "metadata": {},
     "output_type": "execute_result"
    }
   ],
   "source": [
    "# How to remove gradient Tracking\n",
    "\n",
    "# 1. using requires_grad = False\n",
    "x = torch.tensor(2.0 ,requires_grad= True)\n",
    "y = x**2 \n",
    "x.requires_grad_(False)\n",
    "x\n",
    "y.backward() #will not work at all\n",
    "\n",
    "# 2. detach()\n",
    "\n",
    "x = torch.tensor(2.0 ,requires_grad= True)\n",
    "z = x.detach()\n",
    "y = x**2 \n",
    "y1 = z**2\n",
    "\n",
    "y.backward() # can do\n",
    "y1.backward() # can't do\n",
    "\n",
    "# 3. no_grad()\n",
    "\n",
    "x = torch.tensor(2.0 ,requires_grad= True)\n",
    "with torch.no_grad():\n",
    "    y = x**2 \n",
    "\n",
    "y"
   ]
  }
 ],
 "metadata": {
  "kernelspec": {
   "display_name": "Python 3",
   "language": "python",
   "name": "python3"
  },
  "language_info": {
   "codemirror_mode": {
    "name": "ipython",
    "version": 3
   },
   "file_extension": ".py",
   "mimetype": "text/x-python",
   "name": "python",
   "nbconvert_exporter": "python",
   "pygments_lexer": "ipython3",
   "version": "3.12.2"
  }
 },
 "nbformat": 4,
 "nbformat_minor": 2
}
