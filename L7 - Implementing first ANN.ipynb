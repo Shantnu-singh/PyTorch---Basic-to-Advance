{
 "cells": [
  {
   "cell_type": "code",
   "execution_count": 97,
   "metadata": {},
   "outputs": [],
   "source": [
    "# Import all the liberaries \n",
    "import torch \n",
    "import torch.nn as nn \n",
    "import pandas as pd\n",
    "from torch.utils.data import DataLoader , Dataset"
   ]
  },
  {
   "cell_type": "code",
   "execution_count": 98,
   "metadata": {},
   "outputs": [
    {
     "data": {
      "text/html": [
       "<div>\n",
       "<style scoped>\n",
       "    .dataframe tbody tr th:only-of-type {\n",
       "        vertical-align: middle;\n",
       "    }\n",
       "\n",
       "    .dataframe tbody tr th {\n",
       "        vertical-align: top;\n",
       "    }\n",
       "\n",
       "    .dataframe thead th {\n",
       "        text-align: right;\n",
       "    }\n",
       "</style>\n",
       "<table border=\"1\" class=\"dataframe\">\n",
       "  <thead>\n",
       "    <tr style=\"text-align: right;\">\n",
       "      <th></th>\n",
       "      <th>label</th>\n",
       "      <th>pixel0</th>\n",
       "      <th>pixel1</th>\n",
       "      <th>pixel2</th>\n",
       "      <th>pixel3</th>\n",
       "      <th>pixel4</th>\n",
       "      <th>pixel5</th>\n",
       "      <th>pixel6</th>\n",
       "      <th>pixel7</th>\n",
       "      <th>pixel8</th>\n",
       "      <th>...</th>\n",
       "      <th>pixel774</th>\n",
       "      <th>pixel775</th>\n",
       "      <th>pixel776</th>\n",
       "      <th>pixel777</th>\n",
       "      <th>pixel778</th>\n",
       "      <th>pixel779</th>\n",
       "      <th>pixel780</th>\n",
       "      <th>pixel781</th>\n",
       "      <th>pixel782</th>\n",
       "      <th>pixel783</th>\n",
       "    </tr>\n",
       "  </thead>\n",
       "  <tbody>\n",
       "    <tr>\n",
       "      <th>36232</th>\n",
       "      <td>2</td>\n",
       "      <td>0</td>\n",
       "      <td>0</td>\n",
       "      <td>0</td>\n",
       "      <td>0</td>\n",
       "      <td>0</td>\n",
       "      <td>0</td>\n",
       "      <td>0</td>\n",
       "      <td>0</td>\n",
       "      <td>0</td>\n",
       "      <td>...</td>\n",
       "      <td>0</td>\n",
       "      <td>0</td>\n",
       "      <td>0</td>\n",
       "      <td>0</td>\n",
       "      <td>0</td>\n",
       "      <td>0</td>\n",
       "      <td>0</td>\n",
       "      <td>0</td>\n",
       "      <td>0</td>\n",
       "      <td>0</td>\n",
       "    </tr>\n",
       "    <tr>\n",
       "      <th>39089</th>\n",
       "      <td>7</td>\n",
       "      <td>0</td>\n",
       "      <td>0</td>\n",
       "      <td>0</td>\n",
       "      <td>0</td>\n",
       "      <td>0</td>\n",
       "      <td>0</td>\n",
       "      <td>0</td>\n",
       "      <td>0</td>\n",
       "      <td>0</td>\n",
       "      <td>...</td>\n",
       "      <td>0</td>\n",
       "      <td>0</td>\n",
       "      <td>0</td>\n",
       "      <td>0</td>\n",
       "      <td>0</td>\n",
       "      <td>0</td>\n",
       "      <td>0</td>\n",
       "      <td>0</td>\n",
       "      <td>0</td>\n",
       "      <td>0</td>\n",
       "    </tr>\n",
       "    <tr>\n",
       "      <th>31862</th>\n",
       "      <td>9</td>\n",
       "      <td>0</td>\n",
       "      <td>0</td>\n",
       "      <td>0</td>\n",
       "      <td>0</td>\n",
       "      <td>0</td>\n",
       "      <td>0</td>\n",
       "      <td>0</td>\n",
       "      <td>0</td>\n",
       "      <td>0</td>\n",
       "      <td>...</td>\n",
       "      <td>0</td>\n",
       "      <td>0</td>\n",
       "      <td>0</td>\n",
       "      <td>0</td>\n",
       "      <td>0</td>\n",
       "      <td>0</td>\n",
       "      <td>0</td>\n",
       "      <td>0</td>\n",
       "      <td>0</td>\n",
       "      <td>0</td>\n",
       "    </tr>\n",
       "    <tr>\n",
       "      <th>3496</th>\n",
       "      <td>2</td>\n",
       "      <td>0</td>\n",
       "      <td>0</td>\n",
       "      <td>0</td>\n",
       "      <td>0</td>\n",
       "      <td>0</td>\n",
       "      <td>0</td>\n",
       "      <td>0</td>\n",
       "      <td>0</td>\n",
       "      <td>0</td>\n",
       "      <td>...</td>\n",
       "      <td>0</td>\n",
       "      <td>0</td>\n",
       "      <td>0</td>\n",
       "      <td>0</td>\n",
       "      <td>0</td>\n",
       "      <td>0</td>\n",
       "      <td>0</td>\n",
       "      <td>0</td>\n",
       "      <td>0</td>\n",
       "      <td>0</td>\n",
       "    </tr>\n",
       "    <tr>\n",
       "      <th>18805</th>\n",
       "      <td>2</td>\n",
       "      <td>0</td>\n",
       "      <td>0</td>\n",
       "      <td>0</td>\n",
       "      <td>0</td>\n",
       "      <td>0</td>\n",
       "      <td>0</td>\n",
       "      <td>0</td>\n",
       "      <td>0</td>\n",
       "      <td>0</td>\n",
       "      <td>...</td>\n",
       "      <td>0</td>\n",
       "      <td>0</td>\n",
       "      <td>0</td>\n",
       "      <td>0</td>\n",
       "      <td>0</td>\n",
       "      <td>0</td>\n",
       "      <td>0</td>\n",
       "      <td>0</td>\n",
       "      <td>0</td>\n",
       "      <td>0</td>\n",
       "    </tr>\n",
       "  </tbody>\n",
       "</table>\n",
       "<p>5 rows × 785 columns</p>\n",
       "</div>"
      ],
      "text/plain": [
       "       label  pixel0  pixel1  pixel2  pixel3  pixel4  pixel5  pixel6  pixel7  \\\n",
       "36232      2       0       0       0       0       0       0       0       0   \n",
       "39089      7       0       0       0       0       0       0       0       0   \n",
       "31862      9       0       0       0       0       0       0       0       0   \n",
       "3496       2       0       0       0       0       0       0       0       0   \n",
       "18805      2       0       0       0       0       0       0       0       0   \n",
       "\n",
       "       pixel8  ...  pixel774  pixel775  pixel776  pixel777  pixel778  \\\n",
       "36232       0  ...         0         0         0         0         0   \n",
       "39089       0  ...         0         0         0         0         0   \n",
       "31862       0  ...         0         0         0         0         0   \n",
       "3496        0  ...         0         0         0         0         0   \n",
       "18805       0  ...         0         0         0         0         0   \n",
       "\n",
       "       pixel779  pixel780  pixel781  pixel782  pixel783  \n",
       "36232         0         0         0         0         0  \n",
       "39089         0         0         0         0         0  \n",
       "31862         0         0         0         0         0  \n",
       "3496          0         0         0         0         0  \n",
       "18805         0         0         0         0         0  \n",
       "\n",
       "[5 rows x 785 columns]"
      ]
     },
     "execution_count": 98,
     "metadata": {},
     "output_type": "execute_result"
    }
   ],
   "source": [
    "# Import minist dataset\n",
    "df = pd.read_csv(\"Dataset/Mnist/train.csv\")\n",
    "df = df.iloc[:100000]\n",
    "df.sample(5)"
   ]
  },
  {
   "cell_type": "code",
   "execution_count": 99,
   "metadata": {},
   "outputs": [],
   "source": [
    "# train set split\n",
    "import numpy as np\n",
    "from sklearn.model_selection import train_test_split\n",
    "\n",
    "y = df[\"label\"]\n",
    "x = df.drop(columns= [\"label\"])\n",
    "x_train , x_test , y_train , y_test  = train_test_split(x , y , test_size= 0.2 , random_state= 42)\n",
    "x_train.shape , y_train.shape\n",
    "\n",
    "x_train = np.array(x_train)\n",
    "x_test = np.array(x_test)\n",
    "y_test = np.array(y_test)\n",
    "y_train = np.array(y_train)\n",
    "\n",
    "x_train = torch.from_numpy(x_train)\n",
    "x_test = torch.from_numpy(x_test)\n",
    "y_train = torch.from_numpy(y_train)\n",
    "y_test = torch.from_numpy(y_test)\n"
   ]
  },
  {
   "cell_type": "code",
   "execution_count": 100,
   "metadata": {},
   "outputs": [],
   "source": [
    "# Create model class\n",
    "import torch.optim as opt\n",
    "\n",
    "class NeuralNetwork(nn.Module):\n",
    "    def __init__(self , feature_count):\n",
    "        super().__init__()\n",
    "        self.network = nn.Sequential(\n",
    "            nn.Linear(feature_count , 256 , bias= True),\n",
    "            nn.ReLU(),\n",
    "            nn.Linear(256 , 128 , bias= True),\n",
    "            nn.ReLU(),\n",
    "            nn.Linear(128 , 64 ),\n",
    "            nn.ReLU(),\n",
    "            nn.Linear(64 , 10),\n",
    "        )\n",
    "        \n",
    "    def forward(self , features):\n",
    "        out = self.network(features)\n",
    "        return out\n",
    "    \n"
   ]
  },
  {
   "cell_type": "code",
   "execution_count": 101,
   "metadata": {},
   "outputs": [],
   "source": [
    "# Create Dataset class\n",
    "class CustomeDataset(Dataset):\n",
    "    def __init__(self, featues , lables):\n",
    "        \n",
    "        self.features = featues.to(dtype = torch.float32)\n",
    "        self.features = self.features/255\n",
    "        self.labels = lables.to(dtype = torch.long)\n",
    "    \n",
    "    def __len__(self):\n",
    "        return self.features.shape[0]\n",
    "    \n",
    "    def __getitem__(self , index):\n",
    "        return self.features[index] , self.labels[index]\n"
   ]
  },
  {
   "cell_type": "code",
   "execution_count": 102,
   "metadata": {},
   "outputs": [],
   "source": [
    "# Declare hyperparamater \n",
    "batch_size = 16\n",
    "lr = 0.01\n",
    "epochs = 20"
   ]
  },
  {
   "cell_type": "code",
   "execution_count": 103,
   "metadata": {},
   "outputs": [],
   "source": [
    "# Init model and Dataloder \n",
    "dataset_train = CustomeDataset(x_train , y_train)\n",
    "dataloder_train = DataLoader(dataset_train , shuffle= True , batch_size= batch_size)\n",
    "\n",
    "# Model\n",
    "model = NeuralNetwork(x_train.shape[1])\n",
    "\n",
    "loss_function = nn.CrossEntropyLoss()\n",
    "opti = opt.Adam(model.parameters() , lr = lr)"
   ]
  },
  {
   "cell_type": "code",
   "execution_count": 104,
   "metadata": {},
   "outputs": [
    {
     "data": {
      "text/plain": [
       "torch.Size([33600, 784])"
      ]
     },
     "execution_count": 104,
     "metadata": {},
     "output_type": "execute_result"
    }
   ],
   "source": [
    "x_train.shape"
   ]
  },
  {
   "cell_type": "code",
   "execution_count": 105,
   "metadata": {},
   "outputs": [
    {
     "data": {
      "text/plain": [
       "==========================================================================================\n",
       "Layer (type:depth-idx)                   Output Shape              Param #\n",
       "==========================================================================================\n",
       "NeuralNetwork                            [33600, 10]               --\n",
       "├─Sequential: 1-1                        [33600, 10]               --\n",
       "│    └─Linear: 2-1                       [33600, 256]              200,960\n",
       "│    └─ReLU: 2-2                         [33600, 256]              --\n",
       "│    └─Linear: 2-3                       [33600, 128]              32,896\n",
       "│    └─ReLU: 2-4                         [33600, 128]              --\n",
       "│    └─Linear: 2-5                       [33600, 64]               8,256\n",
       "│    └─ReLU: 2-6                         [33600, 64]               --\n",
       "│    └─Linear: 2-7                       [33600, 10]               650\n",
       "==========================================================================================\n",
       "Total params: 242,762\n",
       "Trainable params: 242,762\n",
       "Non-trainable params: 0\n",
       "Total mult-adds (Units.GIGABYTES): 8.16\n",
       "==========================================================================================\n",
       "Input size (MB): 105.37\n",
       "Forward/backward pass size (MB): 123.11\n",
       "Params size (MB): 0.97\n",
       "Estimated Total Size (MB): 229.45\n",
       "=========================================================================================="
      ]
     },
     "execution_count": 105,
     "metadata": {},
     "output_type": "execute_result"
    }
   ],
   "source": [
    "from torchinfo import summary\n",
    "summary(model , input_size=(33600, 784))"
   ]
  },
  {
   "cell_type": "code",
   "execution_count": 106,
   "metadata": {},
   "outputs": [
    {
     "name": "stdout",
     "output_type": "stream",
     "text": [
      "Epoch : 1 , Loss : 0.42172959933750376\n",
      "Epoch : 2 , Loss : 0.2580945057279141\n",
      "Epoch : 3 , Loss : 0.23234955482228542\n",
      "Epoch : 4 , Loss : 0.2303788190496319\n",
      "Epoch : 5 , Loss : 0.20524552047302894\n",
      "Epoch : 6 , Loss : 0.21665942949942507\n",
      "Epoch : 7 , Loss : 0.18366902628822918\n",
      "Epoch : 8 , Loss : 0.158928002414934\n",
      "Epoch : 9 , Loss : 0.17274977109929576\n",
      "Epoch : 10 , Loss : 0.1635175941811082\n",
      "Epoch : 11 , Loss : 0.13351602597082332\n",
      "Epoch : 12 , Loss : 0.1533991668834941\n",
      "Epoch : 13 , Loss : 0.1337636177155017\n",
      "Epoch : 14 , Loss : 0.13254632868980215\n",
      "Epoch : 15 , Loss : 0.1768407196108593\n",
      "Epoch : 16 , Loss : 0.1365880494479851\n",
      "Epoch : 17 , Loss : 0.11151483910812694\n",
      "Epoch : 18 , Loss : 0.12847373132121712\n",
      "Epoch : 19 , Loss : 0.11577489755458117\n",
      "Epoch : 20 , Loss : 0.11326669160818166\n"
     ]
    }
   ],
   "source": [
    "# traing Loop\n",
    "\n",
    "for epoch in range(epochs):\n",
    "    total_epoch_loss = 0\n",
    "    \n",
    "    for train_features , train_lables in dataloder_train:\n",
    "        \n",
    "        # forward pass\n",
    "        y_pred = model(train_features)\n",
    "        \n",
    "        # Loss calculation\n",
    "        loss = loss_function(y_pred , train_lables)\n",
    "        \n",
    "        # clear gradient \n",
    "        opti.zero_grad()\n",
    "         \n",
    "        # backpropgation\n",
    "        loss.backward()\n",
    "        \n",
    "        # paramter updates\n",
    "        opti.step()\n",
    "        \n",
    "        total_epoch_loss += loss.item()\n",
    "    \n",
    "    print(f\"Epoch : {epoch+1} , Loss : {total_epoch_loss/len(dataloder_train)}\")\n",
    "    "
   ]
  },
  {
   "cell_type": "code",
   "execution_count": 107,
   "metadata": {},
   "outputs": [
    {
     "data": {
      "text/plain": [
       "NeuralNetwork(\n",
       "  (network): Sequential(\n",
       "    (0): Linear(in_features=784, out_features=256, bias=True)\n",
       "    (1): ReLU()\n",
       "    (2): Linear(in_features=256, out_features=128, bias=True)\n",
       "    (3): ReLU()\n",
       "    (4): Linear(in_features=128, out_features=64, bias=True)\n",
       "    (5): ReLU()\n",
       "    (6): Linear(in_features=64, out_features=10, bias=True)\n",
       "  )\n",
       ")"
      ]
     },
     "execution_count": 107,
     "metadata": {},
     "output_type": "execute_result"
    }
   ],
   "source": [
    "model.eval() # for diff behavior in train and eval, like drop out or batchnor\n"
   ]
  },
  {
   "cell_type": "code",
   "execution_count": 143,
   "metadata": {},
   "outputs": [
    {
     "name": "stdout",
     "output_type": "stream",
     "text": [
      "Accuracy : 0.9541666666666667\n"
     ]
    }
   ],
   "source": [
    "# Evalution \n",
    "test_dataset = CustomeDataset(x_test , y_test)\n",
    "test_dataloder = DataLoader(test_dataset , batch_size= 16 , shuffle= False)\n",
    "\n",
    "total = 0\n",
    "correct = 0\n",
    "\n",
    "with torch.no_grad():\n",
    "    for test_feat , test_label in test_dataloder:\n",
    "        \n",
    "        output = model(test_feat)\n",
    "        \n",
    "        _ , pos = torch.max(output , dim= 1)\n",
    "        \n",
    "        total += test_label.shape[0]\n",
    "        \n",
    "        correct += (pos == test_label).sum().item()\n",
    "    \n",
    "    print(f\"Accuracy : {correct/total}\")\n",
    "        \n",
    "        "
   ]
  },
  {
   "cell_type": "code",
   "execution_count": 141,
   "metadata": {},
   "outputs": [
    {
     "data": {
      "text/plain": [
       "tensor(3)"
      ]
     },
     "execution_count": 141,
     "metadata": {},
     "output_type": "execute_result"
    }
   ],
   "source": [
    "test_dataset[29][1]"
   ]
  }
 ],
 "metadata": {
  "kernelspec": {
   "display_name": "Python 3",
   "language": "python",
   "name": "python3"
  },
  "language_info": {
   "codemirror_mode": {
    "name": "ipython",
    "version": 3
   },
   "file_extension": ".py",
   "mimetype": "text/x-python",
   "name": "python",
   "nbconvert_exporter": "python",
   "pygments_lexer": "ipython3",
   "version": "3.12.2"
  }
 },
 "nbformat": 4,
 "nbformat_minor": 2
}
