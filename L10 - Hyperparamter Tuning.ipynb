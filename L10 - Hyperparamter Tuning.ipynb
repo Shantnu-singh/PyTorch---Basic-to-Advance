{
 "cells": [
  {
   "cell_type": "code",
   "execution_count": 1,
   "metadata": {},
   "outputs": [],
   "source": [
    "import torch"
   ]
  },
  {
   "cell_type": "code",
   "execution_count": 2,
   "metadata": {},
   "outputs": [
    {
     "name": "stdout",
     "output_type": "stream",
     "text": [
      "This is will complete in some time.....\n"
     ]
    }
   ],
   "source": [
    "print(\"This is will complete in some time.....\")"
   ]
  },
  {
   "cell_type": "code",
   "execution_count": 3,
   "metadata": {},
   "outputs": [],
   "source": [
    "import optuna\n",
    "\n",
    "# First we'll take a look at what is optuna and how to use this\n",
    "# Bayesian search\n",
    "# accuray = fun(max_depth , n_estimate) , try to find this fucntion\n",
    "# as we get more and more data, we'll estimte this fucntion\n",
    "# grid search and random seach are dumb"
   ]
  },
  {
   "cell_type": "code",
   "execution_count": 4,
   "metadata": {},
   "outputs": [],
   "source": [
    "# -------- IMP Term ----------\n",
    "# study - whole process that has mutiple trails\n",
    "# trial - trying diff combination , one single study\n",
    "# Trail paramter - hyperparamter during a single trial\n",
    "# objective fucntion - function that we are typing to estimate\n",
    "# sample - bassed on the prevous fucntion, what we should try next"
   ]
  },
  {
   "cell_type": "code",
   "execution_count": 5,
   "metadata": {},
   "outputs": [],
   "source": [
    "import torch\n",
    "import pandas as pd\n",
    "from sklearn.model_selection import train_test_split \n",
    "from sklearn.preprocessing import LabelEncoder , OneHotEncoder , StandardScaler\n",
    "from sklearn.impute import SimpleImputer "
   ]
  },
  {
   "cell_type": "code",
   "execution_count": 6,
   "metadata": {},
   "outputs": [
    {
     "data": {
      "text/html": [
       "<div>\n",
       "<style scoped>\n",
       "    .dataframe tbody tr th:only-of-type {\n",
       "        vertical-align: middle;\n",
       "    }\n",
       "\n",
       "    .dataframe tbody tr th {\n",
       "        vertical-align: top;\n",
       "    }\n",
       "\n",
       "    .dataframe thead th {\n",
       "        text-align: right;\n",
       "    }\n",
       "</style>\n",
       "<table border=\"1\" class=\"dataframe\">\n",
       "  <thead>\n",
       "    <tr style=\"text-align: right;\">\n",
       "      <th></th>\n",
       "      <th>PassengerId</th>\n",
       "      <th>Survived</th>\n",
       "      <th>Pclass</th>\n",
       "      <th>Name</th>\n",
       "      <th>Sex</th>\n",
       "      <th>Age</th>\n",
       "      <th>SibSp</th>\n",
       "      <th>Parch</th>\n",
       "      <th>Ticket</th>\n",
       "      <th>Fare</th>\n",
       "      <th>Cabin</th>\n",
       "      <th>Embarked</th>\n",
       "    </tr>\n",
       "  </thead>\n",
       "  <tbody>\n",
       "    <tr>\n",
       "      <th>868</th>\n",
       "      <td>869</td>\n",
       "      <td>0</td>\n",
       "      <td>3</td>\n",
       "      <td>van Melkebeke, Mr. Philemon</td>\n",
       "      <td>male</td>\n",
       "      <td>NaN</td>\n",
       "      <td>0</td>\n",
       "      <td>0</td>\n",
       "      <td>345777</td>\n",
       "      <td>9.50</td>\n",
       "      <td>NaN</td>\n",
       "      <td>S</td>\n",
       "    </tr>\n",
       "    <tr>\n",
       "      <th>853</th>\n",
       "      <td>854</td>\n",
       "      <td>1</td>\n",
       "      <td>1</td>\n",
       "      <td>Lines, Miss. Mary Conover</td>\n",
       "      <td>female</td>\n",
       "      <td>16.0</td>\n",
       "      <td>0</td>\n",
       "      <td>1</td>\n",
       "      <td>PC 17592</td>\n",
       "      <td>39.40</td>\n",
       "      <td>D28</td>\n",
       "      <td>S</td>\n",
       "    </tr>\n",
       "    <tr>\n",
       "      <th>141</th>\n",
       "      <td>142</td>\n",
       "      <td>1</td>\n",
       "      <td>3</td>\n",
       "      <td>Nysten, Miss. Anna Sofia</td>\n",
       "      <td>female</td>\n",
       "      <td>22.0</td>\n",
       "      <td>0</td>\n",
       "      <td>0</td>\n",
       "      <td>347081</td>\n",
       "      <td>7.75</td>\n",
       "      <td>NaN</td>\n",
       "      <td>S</td>\n",
       "    </tr>\n",
       "    <tr>\n",
       "      <th>770</th>\n",
       "      <td>771</td>\n",
       "      <td>0</td>\n",
       "      <td>3</td>\n",
       "      <td>Lievens, Mr. Rene Aime</td>\n",
       "      <td>male</td>\n",
       "      <td>24.0</td>\n",
       "      <td>0</td>\n",
       "      <td>0</td>\n",
       "      <td>345781</td>\n",
       "      <td>9.50</td>\n",
       "      <td>NaN</td>\n",
       "      <td>S</td>\n",
       "    </tr>\n",
       "    <tr>\n",
       "      <th>883</th>\n",
       "      <td>884</td>\n",
       "      <td>0</td>\n",
       "      <td>2</td>\n",
       "      <td>Banfield, Mr. Frederick James</td>\n",
       "      <td>male</td>\n",
       "      <td>28.0</td>\n",
       "      <td>0</td>\n",
       "      <td>0</td>\n",
       "      <td>C.A./SOTON 34068</td>\n",
       "      <td>10.50</td>\n",
       "      <td>NaN</td>\n",
       "      <td>S</td>\n",
       "    </tr>\n",
       "  </tbody>\n",
       "</table>\n",
       "</div>"
      ],
      "text/plain": [
       "     PassengerId  Survived  Pclass                           Name     Sex  \\\n",
       "868          869         0       3    van Melkebeke, Mr. Philemon    male   \n",
       "853          854         1       1      Lines, Miss. Mary Conover  female   \n",
       "141          142         1       3       Nysten, Miss. Anna Sofia  female   \n",
       "770          771         0       3         Lievens, Mr. Rene Aime    male   \n",
       "883          884         0       2  Banfield, Mr. Frederick James    male   \n",
       "\n",
       "      Age  SibSp  Parch            Ticket   Fare Cabin Embarked  \n",
       "868   NaN      0      0            345777   9.50   NaN        S  \n",
       "853  16.0      0      1          PC 17592  39.40   D28        S  \n",
       "141  22.0      0      0            347081   7.75   NaN        S  \n",
       "770  24.0      0      0            345781   9.50   NaN        S  \n",
       "883  28.0      0      0  C.A./SOTON 34068  10.50   NaN        S  "
      ]
     },
     "execution_count": 6,
     "metadata": {},
     "output_type": "execute_result"
    }
   ],
   "source": [
    "df = pd.read_csv(\"Dataset/Titanic/train.csv\")\n",
    "df.sample(5)"
   ]
  },
  {
   "cell_type": "code",
   "execution_count": 7,
   "metadata": {},
   "outputs": [],
   "source": [
    "# Preprocss the datset\n",
    "df = df.drop(columns= ['Name' , 'Cabin' ,\"PassengerId\" , \"Ticket\"])\n",
    "\n",
    "# Split the dataset\n",
    "y = df['Survived']\n",
    "X = df.drop(columns= ['Survived'])\n",
    "X_train , x_test , y_train , y_test = train_test_split(X, y , test_size= 0.2 , random_state= 42)\n",
    "X_train.shape , x_test.shape\n",
    "\n",
    "# impuation for Age\n",
    "Si = SimpleImputer(strategy= \"mean\")\n",
    "X_train['Age'] = Si.fit_transform(X_train[['Age']])\n",
    "x_test['Age'] = Si.transform(x_test[[\"Age\"]])\n",
    "\n",
    "# Impuation for Embarked\n",
    "X_train = X_train.fillna({'Embarked': 'missing'})  # Replace with 'missing' instead of dropping\n",
    "x_test = x_test.fillna({'Embarked': 'missing'})\n",
    "\n",
    "# OHE\n",
    "object_columns = X_train.select_dtypes(include=['object']).columns.tolist()\n",
    "ohe = OneHotEncoder(sparse_output= False)\n",
    "\n",
    "X_train_ohe_encoder = ohe.fit_transform(X_train[object_columns])\n",
    "x_test_ohe_encoder = ohe.transform(x_test[object_columns])\n",
    "\n",
    "X_train_ohe_df = pd.DataFrame(X_train_ohe_encoder , columns= ohe.get_feature_names_out(object_columns), index= X_train.index)\n",
    "x_test_ohe_df = pd.DataFrame(x_test_ohe_encoder , columns= ohe.get_feature_names_out(object_columns) , index= x_test.index)\n",
    "\n",
    "X_train = pd.concat([X_train , X_train_ohe_df] , axis= 1)\n",
    "x_test = pd.concat([x_test , x_test_ohe_df] , axis= 1)\n",
    "\n",
    "X_train = X_train.drop(object_columns , axis= 1)\n",
    "x_test = x_test.drop(object_columns , axis= 1)\n",
    "\n",
    "# Scale Values\n",
    "scaler = StandardScaler()\n",
    "X_train = scaler.fit_transform(X_train)\n",
    "x_test = scaler.transform(x_test)\n"
   ]
  },
  {
   "cell_type": "code",
   "execution_count": 8,
   "metadata": {},
   "outputs": [
    {
     "name": "stdout",
     "output_type": "stream",
     "text": [
      "(712, 11) (712,)\n"
     ]
    }
   ],
   "source": [
    "print(X_train.shape , y_train.shape)"
   ]
  },
  {
   "cell_type": "code",
   "execution_count": 9,
   "metadata": {},
   "outputs": [],
   "source": [
    "# defining out workflow \n",
    "from sklearn.model_selection import cross_val_score\n",
    "from sklearn.ensemble import RandomForestClassifier \n",
    "\n",
    "def objetive(trial):\n",
    "    \n",
    "    n_estimators = trial.suggest_int(\"n_estimators\" , 50 , 100)\n",
    "    max_depth = trial.suggest_int(\"max_depth\" , 3 , 20)\n",
    "    \n",
    "    model = RandomForestClassifier(n_estimators= n_estimators, max_depth= max_depth , random_state= 42)\n",
    "    \n",
    "    score = cross_val_score(model , X_train , y_train , cv= 3 , scoring= \"accuracy\").mean()\n",
    "    \n",
    "    return score\n"
   ]
  },
  {
   "cell_type": "code",
   "execution_count": 10,
   "metadata": {},
   "outputs": [
    {
     "name": "stderr",
     "output_type": "stream",
     "text": [
      "[I 2025-01-14 19:07:38,849] A new study created in memory with name: no-name-30be1674-c00d-4946-a85c-74053322c589\n",
      "[I 2025-01-14 19:07:39,413] Trial 0 finished with value: 0.8216324504485338 and parameters: {'n_estimators': 76, 'max_depth': 7}. Best is trial 0 with value: 0.8216324504485338.\n",
      "[I 2025-01-14 19:07:40,074] Trial 1 finished with value: 0.8047902705385952 and parameters: {'n_estimators': 98, 'max_depth': 12}. Best is trial 0 with value: 0.8216324504485338.\n",
      "[I 2025-01-14 19:07:40,433] Trial 2 finished with value: 0.7977638312709049 and parameters: {'n_estimators': 68, 'max_depth': 17}. Best is trial 0 with value: 0.8216324504485338.\n",
      "[I 2025-01-14 19:07:40,984] Trial 3 finished with value: 0.7963455424363839 and parameters: {'n_estimators': 98, 'max_depth': 15}. Best is trial 0 with value: 0.8216324504485338.\n",
      "[I 2025-01-14 19:07:41,287] Trial 4 finished with value: 0.8230448297462445 and parameters: {'n_estimators': 61, 'max_depth': 5}. Best is trial 4 with value: 0.8230448297462445.\n",
      "[I 2025-01-14 19:07:41,654] Trial 5 finished with value: 0.7977461026604734 and parameters: {'n_estimators': 52, 'max_depth': 18}. Best is trial 4 with value: 0.8230448297462445.\n",
      "[I 2025-01-14 19:07:42,015] Trial 6 finished with value: 0.807597300523585 and parameters: {'n_estimators': 78, 'max_depth': 10}. Best is trial 4 with value: 0.8230448297462445.\n",
      "[I 2025-01-14 19:07:42,273] Trial 7 finished with value: 0.8104102400453853 and parameters: {'n_estimators': 65, 'max_depth': 9}. Best is trial 4 with value: 0.8230448297462445.\n",
      "[I 2025-01-14 19:07:42,496] Trial 8 finished with value: 0.8118167098062853 and parameters: {'n_estimators': 61, 'max_depth': 10}. Best is trial 4 with value: 0.8230448297462445.\n",
      "[I 2025-01-14 19:07:42,932] Trial 9 finished with value: 0.7963455424363839 and parameters: {'n_estimators': 100, 'max_depth': 15}. Best is trial 4 with value: 0.8230448297462445.\n",
      "[I 2025-01-14 19:07:43,116] Trial 10 finished with value: 0.8062026498363059 and parameters: {'n_estimators': 51, 'max_depth': 3}. Best is trial 4 with value: 0.8230448297462445.\n",
      "[I 2025-01-14 19:07:43,414] Trial 11 finished with value: 0.8286647992530346 and parameters: {'n_estimators': 81, 'max_depth': 5}. Best is trial 11 with value: 0.8286647992530346.\n",
      "[I 2025-01-14 19:07:43,704] Trial 12 finished with value: 0.8019773310167949 and parameters: {'n_estimators': 86, 'max_depth': 3}. Best is trial 11 with value: 0.8286647992530346.\n",
      "[I 2025-01-14 19:07:43,999] Trial 13 finished with value: 0.8258577692680448 and parameters: {'n_estimators': 86, 'max_depth': 6}. Best is trial 11 with value: 0.8286647992530346.\n",
      "[I 2025-01-14 19:07:44,291] Trial 14 finished with value: 0.8258577692680448 and parameters: {'n_estimators': 87, 'max_depth': 6}. Best is trial 11 with value: 0.8286647992530346.\n",
      "[I 2025-01-14 19:07:44,558] Trial 15 finished with value: 0.8202200711508233 and parameters: {'n_estimators': 86, 'max_depth': 7}. Best is trial 11 with value: 0.8286647992530346.\n",
      "[I 2025-01-14 19:07:44,858] Trial 16 finished with value: 0.8244572090439553 and parameters: {'n_estimators': 91, 'max_depth': 5}. Best is trial 11 with value: 0.8286647992530346.\n",
      "[I 2025-01-14 19:07:45,166] Trial 17 finished with value: 0.8019714214799843 and parameters: {'n_estimators': 79, 'max_depth': 13}. Best is trial 11 with value: 0.8286647992530346.\n",
      "[I 2025-01-14 19:07:45,425] Trial 18 finished with value: 0.8230330106726234 and parameters: {'n_estimators': 71, 'max_depth': 8}. Best is trial 11 with value: 0.8286647992530346.\n",
      "[I 2025-01-14 19:07:45,733] Trial 19 finished with value: 0.8300712690139346 and parameters: {'n_estimators': 81, 'max_depth': 4}. Best is trial 19 with value: 0.8300712690139346.\n",
      "[I 2025-01-14 19:07:46,032] Trial 20 finished with value: 0.8019773310167949 and parameters: {'n_estimators': 82, 'max_depth': 3}. Best is trial 19 with value: 0.8300712690139346.\n",
      "[I 2025-01-14 19:07:46,339] Trial 21 finished with value: 0.8258636788048553 and parameters: {'n_estimators': 92, 'max_depth': 5}. Best is trial 19 with value: 0.8300712690139346.\n",
      "[I 2025-01-14 19:07:46,644] Trial 22 finished with value: 0.8244572090439553 and parameters: {'n_estimators': 94, 'max_depth': 5}. Best is trial 19 with value: 0.8300712690139346.\n",
      "[I 2025-01-14 19:07:46,930] Trial 23 finished with value: 0.8244512995071447 and parameters: {'n_estimators': 91, 'max_depth': 4}. Best is trial 19 with value: 0.8300712690139346.\n",
      "[I 2025-01-14 19:07:47,190] Trial 24 finished with value: 0.8202259806876336 and parameters: {'n_estimators': 72, 'max_depth': 8}. Best is trial 19 with value: 0.8300712690139346.\n",
      "[I 2025-01-14 19:07:47,464] Trial 25 finished with value: 0.8314777387748348 and parameters: {'n_estimators': 83, 'max_depth': 4}. Best is trial 25 with value: 0.8314777387748348.\n",
      "[I 2025-01-14 19:07:47,786] Trial 26 finished with value: 0.8300712690139346 and parameters: {'n_estimators': 82, 'max_depth': 4}. Best is trial 25 with value: 0.8314777387748348.\n",
      "[I 2025-01-14 19:07:48,063] Trial 27 finished with value: 0.8047784514649742 and parameters: {'n_estimators': 74, 'max_depth': 3}. Best is trial 25 with value: 0.8314777387748348.\n",
      "[I 2025-01-14 19:07:48,355] Trial 28 finished with value: 0.8244335708967131 and parameters: {'n_estimators': 81, 'max_depth': 7}. Best is trial 25 with value: 0.8314777387748348.\n",
      "[I 2025-01-14 19:07:48,610] Trial 29 finished with value: 0.8258400406576132 and parameters: {'n_estimators': 75, 'max_depth': 7}. Best is trial 25 with value: 0.8314777387748348.\n",
      "[I 2025-01-14 19:07:48,860] Trial 30 finished with value: 0.8061908307626848 and parameters: {'n_estimators': 83, 'max_depth': 10}. Best is trial 25 with value: 0.8314777387748348.\n",
      "[I 2025-01-14 19:07:49,110] Trial 31 finished with value: 0.8300771785507451 and parameters: {'n_estimators': 78, 'max_depth': 4}. Best is trial 25 with value: 0.8314777387748348.\n",
      "[I 2025-01-14 19:07:49,380] Trial 32 finished with value: 0.8300771785507451 and parameters: {'n_estimators': 77, 'max_depth': 4}. Best is trial 25 with value: 0.8314777387748348.\n",
      "[I 2025-01-14 19:07:49,638] Trial 33 finished with value: 0.8300771785507451 and parameters: {'n_estimators': 78, 'max_depth': 4}. Best is trial 25 with value: 0.8314777387748348.\n",
      "[I 2025-01-14 19:07:49,899] Trial 34 finished with value: 0.8216442695221549 and parameters: {'n_estimators': 68, 'max_depth': 6}. Best is trial 25 with value: 0.8314777387748348.\n",
      "[I 2025-01-14 19:07:50,152] Trial 35 finished with value: 0.828670708789845 and parameters: {'n_estimators': 76, 'max_depth': 4}. Best is trial 25 with value: 0.8314777387748348.\n",
      "[I 2025-01-14 19:07:50,421] Trial 36 finished with value: 0.8047784514649742 and parameters: {'n_estimators': 70, 'max_depth': 12}. Best is trial 25 with value: 0.8314777387748348.\n",
      "[I 2025-01-14 19:07:50,739] Trial 37 finished with value: 0.8047784514649742 and parameters: {'n_estimators': 76, 'max_depth': 14}. Best is trial 25 with value: 0.8314777387748348.\n",
      "[I 2025-01-14 19:07:51,017] Trial 38 finished with value: 0.7963455424363839 and parameters: {'n_estimators': 78, 'max_depth': 19}. Best is trial 25 with value: 0.8314777387748348.\n",
      "[I 2025-01-14 19:07:51,219] Trial 39 finished with value: 0.8202200711508231 and parameters: {'n_estimators': 64, 'max_depth': 8}. Best is trial 25 with value: 0.8314777387748348.\n",
      "[I 2025-01-14 19:07:51,554] Trial 40 finished with value: 0.7949449822122941 and parameters: {'n_estimators': 84, 'max_depth': 17}. Best is trial 25 with value: 0.8314777387748348.\n",
      "[I 2025-01-14 19:07:51,808] Trial 41 finished with value: 0.828670708789845 and parameters: {'n_estimators': 79, 'max_depth': 4}. Best is trial 25 with value: 0.8314777387748348.\n",
      "[I 2025-01-14 19:07:52,086] Trial 42 finished with value: 0.8230448297462445 and parameters: {'n_estimators': 74, 'max_depth': 6}. Best is trial 25 with value: 0.8314777387748348.\n",
      "[I 2025-01-14 19:07:52,335] Trial 43 finished with value: 0.828670708789845 and parameters: {'n_estimators': 79, 'max_depth': 4}. Best is trial 25 with value: 0.8314777387748348.\n",
      "[I 2025-01-14 19:07:52,641] Trial 44 finished with value: 0.8019773310167949 and parameters: {'n_estimators': 88, 'max_depth': 3}. Best is trial 25 with value: 0.8314777387748348.\n",
      "[I 2025-01-14 19:07:52,856] Trial 45 finished with value: 0.8202496188348758 and parameters: {'n_estimators': 68, 'max_depth': 5}. Best is trial 25 with value: 0.8314777387748348.\n",
      "[I 2025-01-14 19:07:53,009] Trial 46 finished with value: 0.8202318902244442 and parameters: {'n_estimators': 55, 'max_depth': 4}. Best is trial 25 with value: 0.8314777387748348.\n",
      "[I 2025-01-14 19:07:53,229] Trial 47 finished with value: 0.8230448297462445 and parameters: {'n_estimators': 73, 'max_depth': 6}. Best is trial 25 with value: 0.8314777387748348.\n",
      "[I 2025-01-14 19:07:53,524] Trial 48 finished with value: 0.8075913909867745 and parameters: {'n_estimators': 84, 'max_depth': 9}. Best is trial 25 with value: 0.8314777387748348.\n",
      "[I 2025-01-14 19:07:53,766] Trial 49 finished with value: 0.8019773310167949 and parameters: {'n_estimators': 89, 'max_depth': 3}. Best is trial 25 with value: 0.8314777387748348.\n"
     ]
    }
   ],
   "source": [
    "study = optuna.create_study(direction= \"maximize\" , sampler= optuna.samplers.TPESampler())\n",
    "study.optimize(objetive , n_trials= 50)"
   ]
  },
  {
   "cell_type": "code",
   "execution_count": 11,
   "metadata": {},
   "outputs": [
    {
     "name": "stdout",
     "output_type": "stream",
     "text": [
      "Best accuarcy score: 0.8314777387748348\n",
      "Best parameter score: {'n_estimators': 83, 'max_depth': 4}\n"
     ]
    }
   ],
   "source": [
    "print(f\"Best accuarcy score: {study.best_trial.value}\")\n",
    "print(f\"Best parameter score: {study.best_trial.params}\")"
   ]
  },
  {
   "cell_type": "code",
   "execution_count": 12,
   "metadata": {},
   "outputs": [
    {
     "name": "stdout",
     "output_type": "stream",
     "text": [
      "accuacy on test daat is : 0.8100558659217877\n"
     ]
    }
   ],
   "source": [
    "# Train the model now\n",
    "from sklearn.metrics import accuracy_score\n",
    "\n",
    "model = RandomForestClassifier(**study.best_trial.params)\n",
    "\n",
    "model.fit(X_train , y_train)\n",
    "y_pred = model.predict(x_test)\n",
    "\n",
    "print(f\"accuacy on test daat is : {accuracy_score(y_pred , y_test)}\")"
   ]
  },
  {
   "cell_type": "code",
   "execution_count": 13,
   "metadata": {},
   "outputs": [],
   "source": [
    "# Doing grid search\n",
    "\n",
    "search_space = {\n",
    "    \"n_estimators\" : [20 , 40 , 20 , 80],\n",
    "    \"max_depth\" : [5 , 10 , 15 , 20]\n",
    "}"
   ]
  },
  {
   "cell_type": "code",
   "execution_count": 14,
   "metadata": {},
   "outputs": [
    {
     "name": "stderr",
     "output_type": "stream",
     "text": [
      "[I 2025-01-14 19:07:53,938] A new study created in memory with name: no-name-bcd30df2-814f-4dd0-ad03-407387cff7c1\n",
      "c:\\Users\\singh\\AppData\\Local\\Programs\\Python\\Python312\\Lib\\site-packages\\optuna\\samplers\\_grid.py:199: UserWarning: The value `40` is out of range of the parameter `n_estimators`. The value will be used but the actual distribution is: `IntDistribution(high=100, log=False, low=50, step=1)`.\n",
      "  warnings.warn(\n",
      "[I 2025-01-14 19:07:54,131] Trial 0 finished with value: 0.8202377997612548 and parameters: {'n_estimators': 40, 'max_depth': 5}. Best is trial 0 with value: 0.8202377997612548.\n",
      "c:\\Users\\singh\\AppData\\Local\\Programs\\Python\\Python312\\Lib\\site-packages\\optuna\\samplers\\_grid.py:199: UserWarning: The value `20` is out of range of the parameter `n_estimators`. The value will be used but the actual distribution is: `IntDistribution(high=100, log=False, low=50, step=1)`.\n",
      "  warnings.warn(\n",
      "[I 2025-01-14 19:07:54,212] Trial 1 finished with value: 0.8117989811958539 and parameters: {'n_estimators': 20, 'max_depth': 10}. Best is trial 0 with value: 0.8202377997612548.\n",
      "c:\\Users\\singh\\AppData\\Local\\Programs\\Python\\Python312\\Lib\\site-packages\\optuna\\samplers\\_grid.py:199: UserWarning: The value `20` is out of range of the parameter `n_estimators`. The value will be used but the actual distribution is: `IntDistribution(high=100, log=False, low=50, step=1)`.\n",
      "  warnings.warn(\n",
      "[I 2025-01-14 19:07:54,314] Trial 2 finished with value: 0.7977579217340945 and parameters: {'n_estimators': 20, 'max_depth': 15}. Best is trial 0 with value: 0.8202377997612548.\n",
      "c:\\Users\\singh\\AppData\\Local\\Programs\\Python\\Python312\\Lib\\site-packages\\optuna\\samplers\\_grid.py:199: UserWarning: The value `40` is out of range of the parameter `n_estimators`. The value will be used but the actual distribution is: `IntDistribution(high=100, log=False, low=50, step=1)`.\n",
      "  warnings.warn(\n",
      "[I 2025-01-14 19:07:54,449] Trial 3 finished with value: 0.7991584819581842 and parameters: {'n_estimators': 40, 'max_depth': 15}. Best is trial 0 with value: 0.8202377997612548.\n",
      "c:\\Users\\singh\\AppData\\Local\\Programs\\Python\\Python312\\Lib\\site-packages\\optuna\\samplers\\_grid.py:199: UserWarning: The value `40` is out of range of the parameter `n_estimators`. The value will be used but the actual distribution is: `IntDistribution(high=100, log=False, low=50, step=1)`.\n",
      "  warnings.warn(\n",
      "[I 2025-01-14 19:07:54,597] Trial 4 finished with value: 0.8019773310167949 and parameters: {'n_estimators': 40, 'max_depth': 20}. Best is trial 0 with value: 0.8202377997612548.\n",
      "c:\\Users\\singh\\AppData\\Local\\Programs\\Python\\Python312\\Lib\\site-packages\\optuna\\samplers\\_grid.py:199: UserWarning: The value `20` is out of range of the parameter `n_estimators`. The value will be used but the actual distribution is: `IntDistribution(high=100, log=False, low=50, step=1)`.\n",
      "  warnings.warn(\n",
      "[I 2025-01-14 19:07:54,688] Trial 5 finished with value: 0.8117989811958539 and parameters: {'n_estimators': 20, 'max_depth': 10}. Best is trial 0 with value: 0.8202377997612548.\n",
      "c:\\Users\\singh\\AppData\\Local\\Programs\\Python\\Python312\\Lib\\site-packages\\optuna\\samplers\\_grid.py:199: UserWarning: The value `20` is out of range of the parameter `n_estimators`. The value will be used but the actual distribution is: `IntDistribution(high=100, log=False, low=50, step=1)`.\n",
      "  warnings.warn(\n",
      "[I 2025-01-14 19:07:54,760] Trial 6 finished with value: 0.8202318902244442 and parameters: {'n_estimators': 20, 'max_depth': 5}. Best is trial 0 with value: 0.8202377997612548.\n",
      "c:\\Users\\singh\\AppData\\Local\\Programs\\Python\\Python312\\Lib\\site-packages\\optuna\\samplers\\_grid.py:199: UserWarning: The value `20` is out of range of the parameter `n_estimators`. The value will be used but the actual distribution is: `IntDistribution(high=100, log=False, low=50, step=1)`.\n",
      "  warnings.warn(\n",
      "[I 2025-01-14 19:07:54,853] Trial 7 finished with value: 0.786512073183704 and parameters: {'n_estimators': 20, 'max_depth': 20}. Best is trial 0 with value: 0.8202377997612548.\n",
      "c:\\Users\\singh\\AppData\\Local\\Programs\\Python\\Python312\\Lib\\site-packages\\optuna\\samplers\\_grid.py:199: UserWarning: The value `20` is out of range of the parameter `n_estimators`. The value will be used but the actual distribution is: `IntDistribution(high=100, log=False, low=50, step=1)`.\n",
      "  warnings.warn(\n",
      "[I 2025-01-14 19:07:54,937] Trial 8 finished with value: 0.7977579217340945 and parameters: {'n_estimators': 20, 'max_depth': 15}. Best is trial 0 with value: 0.8202377997612548.\n",
      "[I 2025-01-14 19:07:55,208] Trial 9 finished with value: 0.8061908307626848 and parameters: {'n_estimators': 80, 'max_depth': 10}. Best is trial 0 with value: 0.8202377997612548.\n",
      "[I 2025-01-14 19:07:55,518] Trial 10 finished with value: 0.7977579217340945 and parameters: {'n_estimators': 80, 'max_depth': 20}. Best is trial 0 with value: 0.8202377997612548.\n",
      "[I 2025-01-14 19:07:55,892] Trial 11 finished with value: 0.8005649517190844 and parameters: {'n_estimators': 80, 'max_depth': 15}. Best is trial 0 with value: 0.8202377997612548.\n",
      "[I 2025-01-14 19:07:56,233] Trial 12 finished with value: 0.8258577692680448 and parameters: {'n_estimators': 80, 'max_depth': 5}. Best is trial 12 with value: 0.8258577692680448.\n",
      "c:\\Users\\singh\\AppData\\Local\\Programs\\Python\\Python312\\Lib\\site-packages\\optuna\\samplers\\_grid.py:199: UserWarning: The value `20` is out of range of the parameter `n_estimators`. The value will be used but the actual distribution is: `IntDistribution(high=100, log=False, low=50, step=1)`.\n",
      "  warnings.warn(\n",
      "[I 2025-01-14 19:07:56,325] Trial 13 finished with value: 0.8202318902244442 and parameters: {'n_estimators': 20, 'max_depth': 5}. Best is trial 12 with value: 0.8258577692680448.\n",
      "c:\\Users\\singh\\AppData\\Local\\Programs\\Python\\Python312\\Lib\\site-packages\\optuna\\samplers\\_grid.py:199: UserWarning: The value `40` is out of range of the parameter `n_estimators`. The value will be used but the actual distribution is: `IntDistribution(high=100, log=False, low=50, step=1)`.\n",
      "  warnings.warn(\n",
      "[I 2025-01-14 19:07:56,483] Trial 14 finished with value: 0.8089978607476745 and parameters: {'n_estimators': 40, 'max_depth': 10}. Best is trial 12 with value: 0.8258577692680448.\n",
      "c:\\Users\\singh\\AppData\\Local\\Programs\\Python\\Python312\\Lib\\site-packages\\optuna\\samplers\\_grid.py:199: UserWarning: The value `20` is out of range of the parameter `n_estimators`. The value will be used but the actual distribution is: `IntDistribution(high=100, log=False, low=50, step=1)`.\n",
      "  warnings.warn(\n",
      "[I 2025-01-14 19:07:56,561] Trial 15 finished with value: 0.786512073183704 and parameters: {'n_estimators': 20, 'max_depth': 20}. Best is trial 12 with value: 0.8258577692680448.\n"
     ]
    }
   ],
   "source": [
    "study2 = optuna.create_study(direction= \"maximize\" , sampler= optuna.samplers.GridSampler(search_space))\n",
    "study2.optimize(objetive)"
   ]
  },
  {
   "cell_type": "code",
   "execution_count": 15,
   "metadata": {},
   "outputs": [
    {
     "name": "stdout",
     "output_type": "stream",
     "text": [
      "accuacy on test data is : 0.8100558659217877\n"
     ]
    }
   ],
   "source": [
    "# model with grid search\n",
    "from sklearn.metrics import accuracy_score\n",
    "\n",
    "model = RandomForestClassifier(**study2.best_trial.params)\n",
    "\n",
    "model.fit(X_train , y_train)\n",
    "y_pred = model.predict(x_test)\n",
    "\n",
    "print(f\"accuacy on test data is : {accuracy_score(y_pred , y_test)}\")"
   ]
  },
  {
   "cell_type": "code",
   "execution_count": 17,
   "metadata": {},
   "outputs": [],
   "source": [
    "from optuna.visualization import plot_intermediate_values , plot_optimization_history , plot_parallel_coordinate , plot_slice , plot_contour , plot_param_importances"
   ]
  },
  {
   "cell_type": "code",
   "execution_count": 18,
   "metadata": {},
   "outputs": [
    {
     "data": {
      "application/vnd.plotly.v1+json": {
       "config": {
        "plotlyServerURL": "https://plot.ly"
       },
       "data": [
        {
         "mode": "markers",
         "name": "Objective Value",
         "type": "scatter",
         "x": [
          0,
          1,
          2,
          3,
          4,
          5,
          6,
          7,
          8,
          9,
          10,
          11,
          12,
          13,
          14,
          15,
          16,
          17,
          18,
          19,
          20,
          21,
          22,
          23,
          24,
          25,
          26,
          27,
          28,
          29,
          30,
          31,
          32,
          33,
          34,
          35,
          36,
          37,
          38,
          39,
          40,
          41,
          42,
          43,
          44,
          45,
          46,
          47,
          48,
          49
         ],
         "y": [
          0.8216324504485338,
          0.8047902705385952,
          0.7977638312709049,
          0.7963455424363839,
          0.8230448297462445,
          0.7977461026604734,
          0.807597300523585,
          0.8104102400453853,
          0.8118167098062853,
          0.7963455424363839,
          0.8062026498363059,
          0.8286647992530346,
          0.8019773310167949,
          0.8258577692680448,
          0.8258577692680448,
          0.8202200711508233,
          0.8244572090439553,
          0.8019714214799843,
          0.8230330106726234,
          0.8300712690139346,
          0.8019773310167949,
          0.8258636788048553,
          0.8244572090439553,
          0.8244512995071447,
          0.8202259806876336,
          0.8314777387748348,
          0.8300712690139346,
          0.8047784514649742,
          0.8244335708967131,
          0.8258400406576132,
          0.8061908307626848,
          0.8300771785507451,
          0.8300771785507451,
          0.8300771785507451,
          0.8216442695221549,
          0.828670708789845,
          0.8047784514649742,
          0.8047784514649742,
          0.7963455424363839,
          0.8202200711508231,
          0.7949449822122941,
          0.828670708789845,
          0.8230448297462445,
          0.828670708789845,
          0.8019773310167949,
          0.8202496188348758,
          0.8202318902244442,
          0.8230448297462445,
          0.8075913909867745,
          0.8019773310167949
         ]
        },
        {
         "mode": "lines",
         "name": "Best Value",
         "type": "scatter",
         "x": [
          0,
          1,
          2,
          3,
          4,
          5,
          6,
          7,
          8,
          9,
          10,
          11,
          12,
          13,
          14,
          15,
          16,
          17,
          18,
          19,
          20,
          21,
          22,
          23,
          24,
          25,
          26,
          27,
          28,
          29,
          30,
          31,
          32,
          33,
          34,
          35,
          36,
          37,
          38,
          39,
          40,
          41,
          42,
          43,
          44,
          45,
          46,
          47,
          48,
          49
         ],
         "y": [
          0.8216324504485338,
          0.8216324504485338,
          0.8216324504485338,
          0.8216324504485338,
          0.8230448297462445,
          0.8230448297462445,
          0.8230448297462445,
          0.8230448297462445,
          0.8230448297462445,
          0.8230448297462445,
          0.8230448297462445,
          0.8286647992530346,
          0.8286647992530346,
          0.8286647992530346,
          0.8286647992530346,
          0.8286647992530346,
          0.8286647992530346,
          0.8286647992530346,
          0.8286647992530346,
          0.8300712690139346,
          0.8300712690139346,
          0.8300712690139346,
          0.8300712690139346,
          0.8300712690139346,
          0.8300712690139346,
          0.8314777387748348,
          0.8314777387748348,
          0.8314777387748348,
          0.8314777387748348,
          0.8314777387748348,
          0.8314777387748348,
          0.8314777387748348,
          0.8314777387748348,
          0.8314777387748348,
          0.8314777387748348,
          0.8314777387748348,
          0.8314777387748348,
          0.8314777387748348,
          0.8314777387748348,
          0.8314777387748348,
          0.8314777387748348,
          0.8314777387748348,
          0.8314777387748348,
          0.8314777387748348,
          0.8314777387748348,
          0.8314777387748348,
          0.8314777387748348,
          0.8314777387748348,
          0.8314777387748348,
          0.8314777387748348
         ]
        },
        {
         "marker": {
          "color": "#cccccc"
         },
         "mode": "markers",
         "name": "Infeasible Trial",
         "showlegend": false,
         "type": "scatter",
         "x": [],
         "y": []
        }
       ],
       "layout": {
        "template": {
         "data": {
          "bar": [
           {
            "error_x": {
             "color": "#2a3f5f"
            },
            "error_y": {
             "color": "#2a3f5f"
            },
            "marker": {
             "line": {
              "color": "#E5ECF6",
              "width": 0.5
             },
             "pattern": {
              "fillmode": "overlay",
              "size": 10,
              "solidity": 0.2
             }
            },
            "type": "bar"
           }
          ],
          "barpolar": [
           {
            "marker": {
             "line": {
              "color": "#E5ECF6",
              "width": 0.5
             },
             "pattern": {
              "fillmode": "overlay",
              "size": 10,
              "solidity": 0.2
             }
            },
            "type": "barpolar"
           }
          ],
          "carpet": [
           {
            "aaxis": {
             "endlinecolor": "#2a3f5f",
             "gridcolor": "white",
             "linecolor": "white",
             "minorgridcolor": "white",
             "startlinecolor": "#2a3f5f"
            },
            "baxis": {
             "endlinecolor": "#2a3f5f",
             "gridcolor": "white",
             "linecolor": "white",
             "minorgridcolor": "white",
             "startlinecolor": "#2a3f5f"
            },
            "type": "carpet"
           }
          ],
          "choropleth": [
           {
            "colorbar": {
             "outlinewidth": 0,
             "ticks": ""
            },
            "type": "choropleth"
           }
          ],
          "contour": [
           {
            "colorbar": {
             "outlinewidth": 0,
             "ticks": ""
            },
            "colorscale": [
             [
              0,
              "#0d0887"
             ],
             [
              0.1111111111111111,
              "#46039f"
             ],
             [
              0.2222222222222222,
              "#7201a8"
             ],
             [
              0.3333333333333333,
              "#9c179e"
             ],
             [
              0.4444444444444444,
              "#bd3786"
             ],
             [
              0.5555555555555556,
              "#d8576b"
             ],
             [
              0.6666666666666666,
              "#ed7953"
             ],
             [
              0.7777777777777778,
              "#fb9f3a"
             ],
             [
              0.8888888888888888,
              "#fdca26"
             ],
             [
              1,
              "#f0f921"
             ]
            ],
            "type": "contour"
           }
          ],
          "contourcarpet": [
           {
            "colorbar": {
             "outlinewidth": 0,
             "ticks": ""
            },
            "type": "contourcarpet"
           }
          ],
          "heatmap": [
           {
            "colorbar": {
             "outlinewidth": 0,
             "ticks": ""
            },
            "colorscale": [
             [
              0,
              "#0d0887"
             ],
             [
              0.1111111111111111,
              "#46039f"
             ],
             [
              0.2222222222222222,
              "#7201a8"
             ],
             [
              0.3333333333333333,
              "#9c179e"
             ],
             [
              0.4444444444444444,
              "#bd3786"
             ],
             [
              0.5555555555555556,
              "#d8576b"
             ],
             [
              0.6666666666666666,
              "#ed7953"
             ],
             [
              0.7777777777777778,
              "#fb9f3a"
             ],
             [
              0.8888888888888888,
              "#fdca26"
             ],
             [
              1,
              "#f0f921"
             ]
            ],
            "type": "heatmap"
           }
          ],
          "heatmapgl": [
           {
            "colorbar": {
             "outlinewidth": 0,
             "ticks": ""
            },
            "colorscale": [
             [
              0,
              "#0d0887"
             ],
             [
              0.1111111111111111,
              "#46039f"
             ],
             [
              0.2222222222222222,
              "#7201a8"
             ],
             [
              0.3333333333333333,
              "#9c179e"
             ],
             [
              0.4444444444444444,
              "#bd3786"
             ],
             [
              0.5555555555555556,
              "#d8576b"
             ],
             [
              0.6666666666666666,
              "#ed7953"
             ],
             [
              0.7777777777777778,
              "#fb9f3a"
             ],
             [
              0.8888888888888888,
              "#fdca26"
             ],
             [
              1,
              "#f0f921"
             ]
            ],
            "type": "heatmapgl"
           }
          ],
          "histogram": [
           {
            "marker": {
             "pattern": {
              "fillmode": "overlay",
              "size": 10,
              "solidity": 0.2
             }
            },
            "type": "histogram"
           }
          ],
          "histogram2d": [
           {
            "colorbar": {
             "outlinewidth": 0,
             "ticks": ""
            },
            "colorscale": [
             [
              0,
              "#0d0887"
             ],
             [
              0.1111111111111111,
              "#46039f"
             ],
             [
              0.2222222222222222,
              "#7201a8"
             ],
             [
              0.3333333333333333,
              "#9c179e"
             ],
             [
              0.4444444444444444,
              "#bd3786"
             ],
             [
              0.5555555555555556,
              "#d8576b"
             ],
             [
              0.6666666666666666,
              "#ed7953"
             ],
             [
              0.7777777777777778,
              "#fb9f3a"
             ],
             [
              0.8888888888888888,
              "#fdca26"
             ],
             [
              1,
              "#f0f921"
             ]
            ],
            "type": "histogram2d"
           }
          ],
          "histogram2dcontour": [
           {
            "colorbar": {
             "outlinewidth": 0,
             "ticks": ""
            },
            "colorscale": [
             [
              0,
              "#0d0887"
             ],
             [
              0.1111111111111111,
              "#46039f"
             ],
             [
              0.2222222222222222,
              "#7201a8"
             ],
             [
              0.3333333333333333,
              "#9c179e"
             ],
             [
              0.4444444444444444,
              "#bd3786"
             ],
             [
              0.5555555555555556,
              "#d8576b"
             ],
             [
              0.6666666666666666,
              "#ed7953"
             ],
             [
              0.7777777777777778,
              "#fb9f3a"
             ],
             [
              0.8888888888888888,
              "#fdca26"
             ],
             [
              1,
              "#f0f921"
             ]
            ],
            "type": "histogram2dcontour"
           }
          ],
          "mesh3d": [
           {
            "colorbar": {
             "outlinewidth": 0,
             "ticks": ""
            },
            "type": "mesh3d"
           }
          ],
          "parcoords": [
           {
            "line": {
             "colorbar": {
              "outlinewidth": 0,
              "ticks": ""
             }
            },
            "type": "parcoords"
           }
          ],
          "pie": [
           {
            "automargin": true,
            "type": "pie"
           }
          ],
          "scatter": [
           {
            "fillpattern": {
             "fillmode": "overlay",
             "size": 10,
             "solidity": 0.2
            },
            "type": "scatter"
           }
          ],
          "scatter3d": [
           {
            "line": {
             "colorbar": {
              "outlinewidth": 0,
              "ticks": ""
             }
            },
            "marker": {
             "colorbar": {
              "outlinewidth": 0,
              "ticks": ""
             }
            },
            "type": "scatter3d"
           }
          ],
          "scattercarpet": [
           {
            "marker": {
             "colorbar": {
              "outlinewidth": 0,
              "ticks": ""
             }
            },
            "type": "scattercarpet"
           }
          ],
          "scattergeo": [
           {
            "marker": {
             "colorbar": {
              "outlinewidth": 0,
              "ticks": ""
             }
            },
            "type": "scattergeo"
           }
          ],
          "scattergl": [
           {
            "marker": {
             "colorbar": {
              "outlinewidth": 0,
              "ticks": ""
             }
            },
            "type": "scattergl"
           }
          ],
          "scattermapbox": [
           {
            "marker": {
             "colorbar": {
              "outlinewidth": 0,
              "ticks": ""
             }
            },
            "type": "scattermapbox"
           }
          ],
          "scatterpolar": [
           {
            "marker": {
             "colorbar": {
              "outlinewidth": 0,
              "ticks": ""
             }
            },
            "type": "scatterpolar"
           }
          ],
          "scatterpolargl": [
           {
            "marker": {
             "colorbar": {
              "outlinewidth": 0,
              "ticks": ""
             }
            },
            "type": "scatterpolargl"
           }
          ],
          "scatterternary": [
           {
            "marker": {
             "colorbar": {
              "outlinewidth": 0,
              "ticks": ""
             }
            },
            "type": "scatterternary"
           }
          ],
          "surface": [
           {
            "colorbar": {
             "outlinewidth": 0,
             "ticks": ""
            },
            "colorscale": [
             [
              0,
              "#0d0887"
             ],
             [
              0.1111111111111111,
              "#46039f"
             ],
             [
              0.2222222222222222,
              "#7201a8"
             ],
             [
              0.3333333333333333,
              "#9c179e"
             ],
             [
              0.4444444444444444,
              "#bd3786"
             ],
             [
              0.5555555555555556,
              "#d8576b"
             ],
             [
              0.6666666666666666,
              "#ed7953"
             ],
             [
              0.7777777777777778,
              "#fb9f3a"
             ],
             [
              0.8888888888888888,
              "#fdca26"
             ],
             [
              1,
              "#f0f921"
             ]
            ],
            "type": "surface"
           }
          ],
          "table": [
           {
            "cells": {
             "fill": {
              "color": "#EBF0F8"
             },
             "line": {
              "color": "white"
             }
            },
            "header": {
             "fill": {
              "color": "#C8D4E3"
             },
             "line": {
              "color": "white"
             }
            },
            "type": "table"
           }
          ]
         },
         "layout": {
          "annotationdefaults": {
           "arrowcolor": "#2a3f5f",
           "arrowhead": 0,
           "arrowwidth": 1
          },
          "autotypenumbers": "strict",
          "coloraxis": {
           "colorbar": {
            "outlinewidth": 0,
            "ticks": ""
           }
          },
          "colorscale": {
           "diverging": [
            [
             0,
             "#8e0152"
            ],
            [
             0.1,
             "#c51b7d"
            ],
            [
             0.2,
             "#de77ae"
            ],
            [
             0.3,
             "#f1b6da"
            ],
            [
             0.4,
             "#fde0ef"
            ],
            [
             0.5,
             "#f7f7f7"
            ],
            [
             0.6,
             "#e6f5d0"
            ],
            [
             0.7,
             "#b8e186"
            ],
            [
             0.8,
             "#7fbc41"
            ],
            [
             0.9,
             "#4d9221"
            ],
            [
             1,
             "#276419"
            ]
           ],
           "sequential": [
            [
             0,
             "#0d0887"
            ],
            [
             0.1111111111111111,
             "#46039f"
            ],
            [
             0.2222222222222222,
             "#7201a8"
            ],
            [
             0.3333333333333333,
             "#9c179e"
            ],
            [
             0.4444444444444444,
             "#bd3786"
            ],
            [
             0.5555555555555556,
             "#d8576b"
            ],
            [
             0.6666666666666666,
             "#ed7953"
            ],
            [
             0.7777777777777778,
             "#fb9f3a"
            ],
            [
             0.8888888888888888,
             "#fdca26"
            ],
            [
             1,
             "#f0f921"
            ]
           ],
           "sequentialminus": [
            [
             0,
             "#0d0887"
            ],
            [
             0.1111111111111111,
             "#46039f"
            ],
            [
             0.2222222222222222,
             "#7201a8"
            ],
            [
             0.3333333333333333,
             "#9c179e"
            ],
            [
             0.4444444444444444,
             "#bd3786"
            ],
            [
             0.5555555555555556,
             "#d8576b"
            ],
            [
             0.6666666666666666,
             "#ed7953"
            ],
            [
             0.7777777777777778,
             "#fb9f3a"
            ],
            [
             0.8888888888888888,
             "#fdca26"
            ],
            [
             1,
             "#f0f921"
            ]
           ]
          },
          "colorway": [
           "#636efa",
           "#EF553B",
           "#00cc96",
           "#ab63fa",
           "#FFA15A",
           "#19d3f3",
           "#FF6692",
           "#B6E880",
           "#FF97FF",
           "#FECB52"
          ],
          "font": {
           "color": "#2a3f5f"
          },
          "geo": {
           "bgcolor": "white",
           "lakecolor": "white",
           "landcolor": "#E5ECF6",
           "showlakes": true,
           "showland": true,
           "subunitcolor": "white"
          },
          "hoverlabel": {
           "align": "left"
          },
          "hovermode": "closest",
          "mapbox": {
           "style": "light"
          },
          "paper_bgcolor": "white",
          "plot_bgcolor": "#E5ECF6",
          "polar": {
           "angularaxis": {
            "gridcolor": "white",
            "linecolor": "white",
            "ticks": ""
           },
           "bgcolor": "#E5ECF6",
           "radialaxis": {
            "gridcolor": "white",
            "linecolor": "white",
            "ticks": ""
           }
          },
          "scene": {
           "xaxis": {
            "backgroundcolor": "#E5ECF6",
            "gridcolor": "white",
            "gridwidth": 2,
            "linecolor": "white",
            "showbackground": true,
            "ticks": "",
            "zerolinecolor": "white"
           },
           "yaxis": {
            "backgroundcolor": "#E5ECF6",
            "gridcolor": "white",
            "gridwidth": 2,
            "linecolor": "white",
            "showbackground": true,
            "ticks": "",
            "zerolinecolor": "white"
           },
           "zaxis": {
            "backgroundcolor": "#E5ECF6",
            "gridcolor": "white",
            "gridwidth": 2,
            "linecolor": "white",
            "showbackground": true,
            "ticks": "",
            "zerolinecolor": "white"
           }
          },
          "shapedefaults": {
           "line": {
            "color": "#2a3f5f"
           }
          },
          "ternary": {
           "aaxis": {
            "gridcolor": "white",
            "linecolor": "white",
            "ticks": ""
           },
           "baxis": {
            "gridcolor": "white",
            "linecolor": "white",
            "ticks": ""
           },
           "bgcolor": "#E5ECF6",
           "caxis": {
            "gridcolor": "white",
            "linecolor": "white",
            "ticks": ""
           }
          },
          "title": {
           "x": 0.05
          },
          "xaxis": {
           "automargin": true,
           "gridcolor": "white",
           "linecolor": "white",
           "ticks": "",
           "title": {
            "standoff": 15
           },
           "zerolinecolor": "white",
           "zerolinewidth": 2
          },
          "yaxis": {
           "automargin": true,
           "gridcolor": "white",
           "linecolor": "white",
           "ticks": "",
           "title": {
            "standoff": 15
           },
           "zerolinecolor": "white",
           "zerolinewidth": 2
          }
         }
        },
        "title": {
         "text": "Optimization History Plot"
        },
        "xaxis": {
         "title": {
          "text": "Trial"
         }
        },
        "yaxis": {
         "title": {
          "text": "Objective Value"
         }
        }
       }
      }
     },
     "metadata": {},
     "output_type": "display_data"
    }
   ],
   "source": [
    "plot_optimization_history(study)"
   ]
  },
  {
   "cell_type": "code",
   "execution_count": 19,
   "metadata": {},
   "outputs": [
    {
     "data": {
      "application/vnd.plotly.v1+json": {
       "config": {
        "plotlyServerURL": "https://plot.ly"
       },
       "data": [
        {
         "dimensions": [
          {
           "label": "Objective Value",
           "range": [
            0.7949449822122941,
            0.8314777387748348
           ],
           "values": [
            0.8216324504485338,
            0.8047902705385952,
            0.7977638312709049,
            0.7963455424363839,
            0.8230448297462445,
            0.7977461026604734,
            0.807597300523585,
            0.8104102400453853,
            0.8118167098062853,
            0.7963455424363839,
            0.8062026498363059,
            0.8286647992530346,
            0.8019773310167949,
            0.8258577692680448,
            0.8258577692680448,
            0.8202200711508233,
            0.8244572090439553,
            0.8019714214799843,
            0.8230330106726234,
            0.8300712690139346,
            0.8019773310167949,
            0.8258636788048553,
            0.8244572090439553,
            0.8244512995071447,
            0.8202259806876336,
            0.8314777387748348,
            0.8300712690139346,
            0.8047784514649742,
            0.8244335708967131,
            0.8258400406576132,
            0.8061908307626848,
            0.8300771785507451,
            0.8300771785507451,
            0.8300771785507451,
            0.8216442695221549,
            0.828670708789845,
            0.8047784514649742,
            0.8047784514649742,
            0.7963455424363839,
            0.8202200711508231,
            0.7949449822122941,
            0.828670708789845,
            0.8230448297462445,
            0.828670708789845,
            0.8019773310167949,
            0.8202496188348758,
            0.8202318902244442,
            0.8230448297462445,
            0.8075913909867745,
            0.8019773310167949
           ]
          },
          {
           "label": "max_depth",
           "range": [
            3,
            19
           ],
           "values": [
            7,
            12,
            17,
            15,
            5,
            18,
            10,
            9,
            10,
            15,
            3,
            5,
            3,
            6,
            6,
            7,
            5,
            13,
            8,
            4,
            3,
            5,
            5,
            4,
            8,
            4,
            4,
            3,
            7,
            7,
            10,
            4,
            4,
            4,
            6,
            4,
            12,
            14,
            19,
            8,
            17,
            4,
            6,
            4,
            3,
            5,
            4,
            6,
            9,
            3
           ]
          },
          {
           "label": "n_estimators",
           "range": [
            51,
            100
           ],
           "values": [
            76,
            98,
            68,
            98,
            61,
            52,
            78,
            65,
            61,
            100,
            51,
            81,
            86,
            86,
            87,
            86,
            91,
            79,
            71,
            81,
            82,
            92,
            94,
            91,
            72,
            83,
            82,
            74,
            81,
            75,
            83,
            78,
            77,
            78,
            68,
            76,
            70,
            76,
            78,
            64,
            84,
            79,
            74,
            79,
            88,
            68,
            55,
            73,
            84,
            89
           ]
          }
         ],
         "labelangle": 30,
         "labelside": "bottom",
         "line": {
          "color": [
           0.8216324504485338,
           0.8047902705385952,
           0.7977638312709049,
           0.7963455424363839,
           0.8230448297462445,
           0.7977461026604734,
           0.807597300523585,
           0.8104102400453853,
           0.8118167098062853,
           0.7963455424363839,
           0.8062026498363059,
           0.8286647992530346,
           0.8019773310167949,
           0.8258577692680448,
           0.8258577692680448,
           0.8202200711508233,
           0.8244572090439553,
           0.8019714214799843,
           0.8230330106726234,
           0.8300712690139346,
           0.8019773310167949,
           0.8258636788048553,
           0.8244572090439553,
           0.8244512995071447,
           0.8202259806876336,
           0.8314777387748348,
           0.8300712690139346,
           0.8047784514649742,
           0.8244335708967131,
           0.8258400406576132,
           0.8061908307626848,
           0.8300771785507451,
           0.8300771785507451,
           0.8300771785507451,
           0.8216442695221549,
           0.828670708789845,
           0.8047784514649742,
           0.8047784514649742,
           0.7963455424363839,
           0.8202200711508231,
           0.7949449822122941,
           0.828670708789845,
           0.8230448297462445,
           0.828670708789845,
           0.8019773310167949,
           0.8202496188348758,
           0.8202318902244442,
           0.8230448297462445,
           0.8075913909867745,
           0.8019773310167949
          ],
          "colorbar": {
           "title": {
            "text": "Objective Value"
           }
          },
          "colorscale": [
           [
            0,
            "rgb(247,251,255)"
           ],
           [
            0.125,
            "rgb(222,235,247)"
           ],
           [
            0.25,
            "rgb(198,219,239)"
           ],
           [
            0.375,
            "rgb(158,202,225)"
           ],
           [
            0.5,
            "rgb(107,174,214)"
           ],
           [
            0.625,
            "rgb(66,146,198)"
           ],
           [
            0.75,
            "rgb(33,113,181)"
           ],
           [
            0.875,
            "rgb(8,81,156)"
           ],
           [
            1,
            "rgb(8,48,107)"
           ]
          ],
          "reversescale": false,
          "showscale": true
         },
         "type": "parcoords"
        }
       ],
       "layout": {
        "template": {
         "data": {
          "bar": [
           {
            "error_x": {
             "color": "#2a3f5f"
            },
            "error_y": {
             "color": "#2a3f5f"
            },
            "marker": {
             "line": {
              "color": "#E5ECF6",
              "width": 0.5
             },
             "pattern": {
              "fillmode": "overlay",
              "size": 10,
              "solidity": 0.2
             }
            },
            "type": "bar"
           }
          ],
          "barpolar": [
           {
            "marker": {
             "line": {
              "color": "#E5ECF6",
              "width": 0.5
             },
             "pattern": {
              "fillmode": "overlay",
              "size": 10,
              "solidity": 0.2
             }
            },
            "type": "barpolar"
           }
          ],
          "carpet": [
           {
            "aaxis": {
             "endlinecolor": "#2a3f5f",
             "gridcolor": "white",
             "linecolor": "white",
             "minorgridcolor": "white",
             "startlinecolor": "#2a3f5f"
            },
            "baxis": {
             "endlinecolor": "#2a3f5f",
             "gridcolor": "white",
             "linecolor": "white",
             "minorgridcolor": "white",
             "startlinecolor": "#2a3f5f"
            },
            "type": "carpet"
           }
          ],
          "choropleth": [
           {
            "colorbar": {
             "outlinewidth": 0,
             "ticks": ""
            },
            "type": "choropleth"
           }
          ],
          "contour": [
           {
            "colorbar": {
             "outlinewidth": 0,
             "ticks": ""
            },
            "colorscale": [
             [
              0,
              "#0d0887"
             ],
             [
              0.1111111111111111,
              "#46039f"
             ],
             [
              0.2222222222222222,
              "#7201a8"
             ],
             [
              0.3333333333333333,
              "#9c179e"
             ],
             [
              0.4444444444444444,
              "#bd3786"
             ],
             [
              0.5555555555555556,
              "#d8576b"
             ],
             [
              0.6666666666666666,
              "#ed7953"
             ],
             [
              0.7777777777777778,
              "#fb9f3a"
             ],
             [
              0.8888888888888888,
              "#fdca26"
             ],
             [
              1,
              "#f0f921"
             ]
            ],
            "type": "contour"
           }
          ],
          "contourcarpet": [
           {
            "colorbar": {
             "outlinewidth": 0,
             "ticks": ""
            },
            "type": "contourcarpet"
           }
          ],
          "heatmap": [
           {
            "colorbar": {
             "outlinewidth": 0,
             "ticks": ""
            },
            "colorscale": [
             [
              0,
              "#0d0887"
             ],
             [
              0.1111111111111111,
              "#46039f"
             ],
             [
              0.2222222222222222,
              "#7201a8"
             ],
             [
              0.3333333333333333,
              "#9c179e"
             ],
             [
              0.4444444444444444,
              "#bd3786"
             ],
             [
              0.5555555555555556,
              "#d8576b"
             ],
             [
              0.6666666666666666,
              "#ed7953"
             ],
             [
              0.7777777777777778,
              "#fb9f3a"
             ],
             [
              0.8888888888888888,
              "#fdca26"
             ],
             [
              1,
              "#f0f921"
             ]
            ],
            "type": "heatmap"
           }
          ],
          "heatmapgl": [
           {
            "colorbar": {
             "outlinewidth": 0,
             "ticks": ""
            },
            "colorscale": [
             [
              0,
              "#0d0887"
             ],
             [
              0.1111111111111111,
              "#46039f"
             ],
             [
              0.2222222222222222,
              "#7201a8"
             ],
             [
              0.3333333333333333,
              "#9c179e"
             ],
             [
              0.4444444444444444,
              "#bd3786"
             ],
             [
              0.5555555555555556,
              "#d8576b"
             ],
             [
              0.6666666666666666,
              "#ed7953"
             ],
             [
              0.7777777777777778,
              "#fb9f3a"
             ],
             [
              0.8888888888888888,
              "#fdca26"
             ],
             [
              1,
              "#f0f921"
             ]
            ],
            "type": "heatmapgl"
           }
          ],
          "histogram": [
           {
            "marker": {
             "pattern": {
              "fillmode": "overlay",
              "size": 10,
              "solidity": 0.2
             }
            },
            "type": "histogram"
           }
          ],
          "histogram2d": [
           {
            "colorbar": {
             "outlinewidth": 0,
             "ticks": ""
            },
            "colorscale": [
             [
              0,
              "#0d0887"
             ],
             [
              0.1111111111111111,
              "#46039f"
             ],
             [
              0.2222222222222222,
              "#7201a8"
             ],
             [
              0.3333333333333333,
              "#9c179e"
             ],
             [
              0.4444444444444444,
              "#bd3786"
             ],
             [
              0.5555555555555556,
              "#d8576b"
             ],
             [
              0.6666666666666666,
              "#ed7953"
             ],
             [
              0.7777777777777778,
              "#fb9f3a"
             ],
             [
              0.8888888888888888,
              "#fdca26"
             ],
             [
              1,
              "#f0f921"
             ]
            ],
            "type": "histogram2d"
           }
          ],
          "histogram2dcontour": [
           {
            "colorbar": {
             "outlinewidth": 0,
             "ticks": ""
            },
            "colorscale": [
             [
              0,
              "#0d0887"
             ],
             [
              0.1111111111111111,
              "#46039f"
             ],
             [
              0.2222222222222222,
              "#7201a8"
             ],
             [
              0.3333333333333333,
              "#9c179e"
             ],
             [
              0.4444444444444444,
              "#bd3786"
             ],
             [
              0.5555555555555556,
              "#d8576b"
             ],
             [
              0.6666666666666666,
              "#ed7953"
             ],
             [
              0.7777777777777778,
              "#fb9f3a"
             ],
             [
              0.8888888888888888,
              "#fdca26"
             ],
             [
              1,
              "#f0f921"
             ]
            ],
            "type": "histogram2dcontour"
           }
          ],
          "mesh3d": [
           {
            "colorbar": {
             "outlinewidth": 0,
             "ticks": ""
            },
            "type": "mesh3d"
           }
          ],
          "parcoords": [
           {
            "line": {
             "colorbar": {
              "outlinewidth": 0,
              "ticks": ""
             }
            },
            "type": "parcoords"
           }
          ],
          "pie": [
           {
            "automargin": true,
            "type": "pie"
           }
          ],
          "scatter": [
           {
            "fillpattern": {
             "fillmode": "overlay",
             "size": 10,
             "solidity": 0.2
            },
            "type": "scatter"
           }
          ],
          "scatter3d": [
           {
            "line": {
             "colorbar": {
              "outlinewidth": 0,
              "ticks": ""
             }
            },
            "marker": {
             "colorbar": {
              "outlinewidth": 0,
              "ticks": ""
             }
            },
            "type": "scatter3d"
           }
          ],
          "scattercarpet": [
           {
            "marker": {
             "colorbar": {
              "outlinewidth": 0,
              "ticks": ""
             }
            },
            "type": "scattercarpet"
           }
          ],
          "scattergeo": [
           {
            "marker": {
             "colorbar": {
              "outlinewidth": 0,
              "ticks": ""
             }
            },
            "type": "scattergeo"
           }
          ],
          "scattergl": [
           {
            "marker": {
             "colorbar": {
              "outlinewidth": 0,
              "ticks": ""
             }
            },
            "type": "scattergl"
           }
          ],
          "scattermapbox": [
           {
            "marker": {
             "colorbar": {
              "outlinewidth": 0,
              "ticks": ""
             }
            },
            "type": "scattermapbox"
           }
          ],
          "scatterpolar": [
           {
            "marker": {
             "colorbar": {
              "outlinewidth": 0,
              "ticks": ""
             }
            },
            "type": "scatterpolar"
           }
          ],
          "scatterpolargl": [
           {
            "marker": {
             "colorbar": {
              "outlinewidth": 0,
              "ticks": ""
             }
            },
            "type": "scatterpolargl"
           }
          ],
          "scatterternary": [
           {
            "marker": {
             "colorbar": {
              "outlinewidth": 0,
              "ticks": ""
             }
            },
            "type": "scatterternary"
           }
          ],
          "surface": [
           {
            "colorbar": {
             "outlinewidth": 0,
             "ticks": ""
            },
            "colorscale": [
             [
              0,
              "#0d0887"
             ],
             [
              0.1111111111111111,
              "#46039f"
             ],
             [
              0.2222222222222222,
              "#7201a8"
             ],
             [
              0.3333333333333333,
              "#9c179e"
             ],
             [
              0.4444444444444444,
              "#bd3786"
             ],
             [
              0.5555555555555556,
              "#d8576b"
             ],
             [
              0.6666666666666666,
              "#ed7953"
             ],
             [
              0.7777777777777778,
              "#fb9f3a"
             ],
             [
              0.8888888888888888,
              "#fdca26"
             ],
             [
              1,
              "#f0f921"
             ]
            ],
            "type": "surface"
           }
          ],
          "table": [
           {
            "cells": {
             "fill": {
              "color": "#EBF0F8"
             },
             "line": {
              "color": "white"
             }
            },
            "header": {
             "fill": {
              "color": "#C8D4E3"
             },
             "line": {
              "color": "white"
             }
            },
            "type": "table"
           }
          ]
         },
         "layout": {
          "annotationdefaults": {
           "arrowcolor": "#2a3f5f",
           "arrowhead": 0,
           "arrowwidth": 1
          },
          "autotypenumbers": "strict",
          "coloraxis": {
           "colorbar": {
            "outlinewidth": 0,
            "ticks": ""
           }
          },
          "colorscale": {
           "diverging": [
            [
             0,
             "#8e0152"
            ],
            [
             0.1,
             "#c51b7d"
            ],
            [
             0.2,
             "#de77ae"
            ],
            [
             0.3,
             "#f1b6da"
            ],
            [
             0.4,
             "#fde0ef"
            ],
            [
             0.5,
             "#f7f7f7"
            ],
            [
             0.6,
             "#e6f5d0"
            ],
            [
             0.7,
             "#b8e186"
            ],
            [
             0.8,
             "#7fbc41"
            ],
            [
             0.9,
             "#4d9221"
            ],
            [
             1,
             "#276419"
            ]
           ],
           "sequential": [
            [
             0,
             "#0d0887"
            ],
            [
             0.1111111111111111,
             "#46039f"
            ],
            [
             0.2222222222222222,
             "#7201a8"
            ],
            [
             0.3333333333333333,
             "#9c179e"
            ],
            [
             0.4444444444444444,
             "#bd3786"
            ],
            [
             0.5555555555555556,
             "#d8576b"
            ],
            [
             0.6666666666666666,
             "#ed7953"
            ],
            [
             0.7777777777777778,
             "#fb9f3a"
            ],
            [
             0.8888888888888888,
             "#fdca26"
            ],
            [
             1,
             "#f0f921"
            ]
           ],
           "sequentialminus": [
            [
             0,
             "#0d0887"
            ],
            [
             0.1111111111111111,
             "#46039f"
            ],
            [
             0.2222222222222222,
             "#7201a8"
            ],
            [
             0.3333333333333333,
             "#9c179e"
            ],
            [
             0.4444444444444444,
             "#bd3786"
            ],
            [
             0.5555555555555556,
             "#d8576b"
            ],
            [
             0.6666666666666666,
             "#ed7953"
            ],
            [
             0.7777777777777778,
             "#fb9f3a"
            ],
            [
             0.8888888888888888,
             "#fdca26"
            ],
            [
             1,
             "#f0f921"
            ]
           ]
          },
          "colorway": [
           "#636efa",
           "#EF553B",
           "#00cc96",
           "#ab63fa",
           "#FFA15A",
           "#19d3f3",
           "#FF6692",
           "#B6E880",
           "#FF97FF",
           "#FECB52"
          ],
          "font": {
           "color": "#2a3f5f"
          },
          "geo": {
           "bgcolor": "white",
           "lakecolor": "white",
           "landcolor": "#E5ECF6",
           "showlakes": true,
           "showland": true,
           "subunitcolor": "white"
          },
          "hoverlabel": {
           "align": "left"
          },
          "hovermode": "closest",
          "mapbox": {
           "style": "light"
          },
          "paper_bgcolor": "white",
          "plot_bgcolor": "#E5ECF6",
          "polar": {
           "angularaxis": {
            "gridcolor": "white",
            "linecolor": "white",
            "ticks": ""
           },
           "bgcolor": "#E5ECF6",
           "radialaxis": {
            "gridcolor": "white",
            "linecolor": "white",
            "ticks": ""
           }
          },
          "scene": {
           "xaxis": {
            "backgroundcolor": "#E5ECF6",
            "gridcolor": "white",
            "gridwidth": 2,
            "linecolor": "white",
            "showbackground": true,
            "ticks": "",
            "zerolinecolor": "white"
           },
           "yaxis": {
            "backgroundcolor": "#E5ECF6",
            "gridcolor": "white",
            "gridwidth": 2,
            "linecolor": "white",
            "showbackground": true,
            "ticks": "",
            "zerolinecolor": "white"
           },
           "zaxis": {
            "backgroundcolor": "#E5ECF6",
            "gridcolor": "white",
            "gridwidth": 2,
            "linecolor": "white",
            "showbackground": true,
            "ticks": "",
            "zerolinecolor": "white"
           }
          },
          "shapedefaults": {
           "line": {
            "color": "#2a3f5f"
           }
          },
          "ternary": {
           "aaxis": {
            "gridcolor": "white",
            "linecolor": "white",
            "ticks": ""
           },
           "baxis": {
            "gridcolor": "white",
            "linecolor": "white",
            "ticks": ""
           },
           "bgcolor": "#E5ECF6",
           "caxis": {
            "gridcolor": "white",
            "linecolor": "white",
            "ticks": ""
           }
          },
          "title": {
           "x": 0.05
          },
          "xaxis": {
           "automargin": true,
           "gridcolor": "white",
           "linecolor": "white",
           "ticks": "",
           "title": {
            "standoff": 15
           },
           "zerolinecolor": "white",
           "zerolinewidth": 2
          },
          "yaxis": {
           "automargin": true,
           "gridcolor": "white",
           "linecolor": "white",
           "ticks": "",
           "title": {
            "standoff": 15
           },
           "zerolinecolor": "white",
           "zerolinewidth": 2
          }
         }
        },
        "title": {
         "text": "Parallel Coordinate Plot"
        }
       }
      }
     },
     "metadata": {},
     "output_type": "display_data"
    }
   ],
   "source": [
    "plot_parallel_coordinate(study).show()"
   ]
  },
  {
   "cell_type": "code",
   "execution_count": 20,
   "metadata": {},
   "outputs": [
    {
     "data": {
      "application/vnd.plotly.v1+json": {
       "config": {
        "plotlyServerURL": "https://plot.ly"
       },
       "data": [
        {
         "marker": {
          "color": [
           0,
           1,
           2,
           3,
           4,
           5,
           6,
           7,
           8,
           9,
           10,
           11,
           12,
           13,
           14,
           15,
           16,
           17,
           18,
           19,
           20,
           21,
           22,
           23,
           24,
           25,
           26,
           27,
           28,
           29,
           30,
           31,
           32,
           33,
           34,
           35,
           36,
           37,
           38,
           39,
           40,
           41,
           42,
           43,
           44,
           45,
           46,
           47,
           48,
           49
          ],
          "colorbar": {
           "title": {
            "text": "Trial"
           },
           "x": 1,
           "xpad": 40
          },
          "colorscale": [
           [
            0,
            "rgb(247,251,255)"
           ],
           [
            0.125,
            "rgb(222,235,247)"
           ],
           [
            0.25,
            "rgb(198,219,239)"
           ],
           [
            0.375,
            "rgb(158,202,225)"
           ],
           [
            0.5,
            "rgb(107,174,214)"
           ],
           [
            0.625,
            "rgb(66,146,198)"
           ],
           [
            0.75,
            "rgb(33,113,181)"
           ],
           [
            0.875,
            "rgb(8,81,156)"
           ],
           [
            1,
            "rgb(8,48,107)"
           ]
          ],
          "line": {
           "color": "Grey",
           "width": 0.5
          },
          "showscale": true
         },
         "mode": "markers",
         "name": "Feasible Trial",
         "showlegend": false,
         "type": "scatter",
         "x": [
          7,
          12,
          17,
          15,
          5,
          18,
          10,
          9,
          10,
          15,
          3,
          5,
          3,
          6,
          6,
          7,
          5,
          13,
          8,
          4,
          3,
          5,
          5,
          4,
          8,
          4,
          4,
          3,
          7,
          7,
          10,
          4,
          4,
          4,
          6,
          4,
          12,
          14,
          19,
          8,
          17,
          4,
          6,
          4,
          3,
          5,
          4,
          6,
          9,
          3
         ],
         "xaxis": "x",
         "y": [
          0.8216324504485338,
          0.8047902705385952,
          0.7977638312709049,
          0.7963455424363839,
          0.8230448297462445,
          0.7977461026604734,
          0.807597300523585,
          0.8104102400453853,
          0.8118167098062853,
          0.7963455424363839,
          0.8062026498363059,
          0.8286647992530346,
          0.8019773310167949,
          0.8258577692680448,
          0.8258577692680448,
          0.8202200711508233,
          0.8244572090439553,
          0.8019714214799843,
          0.8230330106726234,
          0.8300712690139346,
          0.8019773310167949,
          0.8258636788048553,
          0.8244572090439553,
          0.8244512995071447,
          0.8202259806876336,
          0.8314777387748348,
          0.8300712690139346,
          0.8047784514649742,
          0.8244335708967131,
          0.8258400406576132,
          0.8061908307626848,
          0.8300771785507451,
          0.8300771785507451,
          0.8300771785507451,
          0.8216442695221549,
          0.828670708789845,
          0.8047784514649742,
          0.8047784514649742,
          0.7963455424363839,
          0.8202200711508231,
          0.7949449822122941,
          0.828670708789845,
          0.8230448297462445,
          0.828670708789845,
          0.8019773310167949,
          0.8202496188348758,
          0.8202318902244442,
          0.8230448297462445,
          0.8075913909867745,
          0.8019773310167949
         ],
         "yaxis": "y"
        },
        {
         "marker": {
          "color": [
           0,
           1,
           2,
           3,
           4,
           5,
           6,
           7,
           8,
           9,
           10,
           11,
           12,
           13,
           14,
           15,
           16,
           17,
           18,
           19,
           20,
           21,
           22,
           23,
           24,
           25,
           26,
           27,
           28,
           29,
           30,
           31,
           32,
           33,
           34,
           35,
           36,
           37,
           38,
           39,
           40,
           41,
           42,
           43,
           44,
           45,
           46,
           47,
           48,
           49
          ],
          "colorbar": {
           "title": {
            "text": "Trial"
           },
           "x": 1,
           "xpad": 40
          },
          "colorscale": [
           [
            0,
            "rgb(247,251,255)"
           ],
           [
            0.125,
            "rgb(222,235,247)"
           ],
           [
            0.25,
            "rgb(198,219,239)"
           ],
           [
            0.375,
            "rgb(158,202,225)"
           ],
           [
            0.5,
            "rgb(107,174,214)"
           ],
           [
            0.625,
            "rgb(66,146,198)"
           ],
           [
            0.75,
            "rgb(33,113,181)"
           ],
           [
            0.875,
            "rgb(8,81,156)"
           ],
           [
            1,
            "rgb(8,48,107)"
           ]
          ],
          "line": {
           "color": "Grey",
           "width": 0.5
          },
          "showscale": false
         },
         "mode": "markers",
         "name": "Feasible Trial",
         "showlegend": false,
         "type": "scatter",
         "x": [
          76,
          98,
          68,
          98,
          61,
          52,
          78,
          65,
          61,
          100,
          51,
          81,
          86,
          86,
          87,
          86,
          91,
          79,
          71,
          81,
          82,
          92,
          94,
          91,
          72,
          83,
          82,
          74,
          81,
          75,
          83,
          78,
          77,
          78,
          68,
          76,
          70,
          76,
          78,
          64,
          84,
          79,
          74,
          79,
          88,
          68,
          55,
          73,
          84,
          89
         ],
         "xaxis": "x2",
         "y": [
          0.8216324504485338,
          0.8047902705385952,
          0.7977638312709049,
          0.7963455424363839,
          0.8230448297462445,
          0.7977461026604734,
          0.807597300523585,
          0.8104102400453853,
          0.8118167098062853,
          0.7963455424363839,
          0.8062026498363059,
          0.8286647992530346,
          0.8019773310167949,
          0.8258577692680448,
          0.8258577692680448,
          0.8202200711508233,
          0.8244572090439553,
          0.8019714214799843,
          0.8230330106726234,
          0.8300712690139346,
          0.8019773310167949,
          0.8258636788048553,
          0.8244572090439553,
          0.8244512995071447,
          0.8202259806876336,
          0.8314777387748348,
          0.8300712690139346,
          0.8047784514649742,
          0.8244335708967131,
          0.8258400406576132,
          0.8061908307626848,
          0.8300771785507451,
          0.8300771785507451,
          0.8300771785507451,
          0.8216442695221549,
          0.828670708789845,
          0.8047784514649742,
          0.8047784514649742,
          0.7963455424363839,
          0.8202200711508231,
          0.7949449822122941,
          0.828670708789845,
          0.8230448297462445,
          0.828670708789845,
          0.8019773310167949,
          0.8202496188348758,
          0.8202318902244442,
          0.8230448297462445,
          0.8075913909867745,
          0.8019773310167949
         ],
         "yaxis": "y2"
        }
       ],
       "layout": {
        "template": {
         "data": {
          "bar": [
           {
            "error_x": {
             "color": "#2a3f5f"
            },
            "error_y": {
             "color": "#2a3f5f"
            },
            "marker": {
             "line": {
              "color": "#E5ECF6",
              "width": 0.5
             },
             "pattern": {
              "fillmode": "overlay",
              "size": 10,
              "solidity": 0.2
             }
            },
            "type": "bar"
           }
          ],
          "barpolar": [
           {
            "marker": {
             "line": {
              "color": "#E5ECF6",
              "width": 0.5
             },
             "pattern": {
              "fillmode": "overlay",
              "size": 10,
              "solidity": 0.2
             }
            },
            "type": "barpolar"
           }
          ],
          "carpet": [
           {
            "aaxis": {
             "endlinecolor": "#2a3f5f",
             "gridcolor": "white",
             "linecolor": "white",
             "minorgridcolor": "white",
             "startlinecolor": "#2a3f5f"
            },
            "baxis": {
             "endlinecolor": "#2a3f5f",
             "gridcolor": "white",
             "linecolor": "white",
             "minorgridcolor": "white",
             "startlinecolor": "#2a3f5f"
            },
            "type": "carpet"
           }
          ],
          "choropleth": [
           {
            "colorbar": {
             "outlinewidth": 0,
             "ticks": ""
            },
            "type": "choropleth"
           }
          ],
          "contour": [
           {
            "colorbar": {
             "outlinewidth": 0,
             "ticks": ""
            },
            "colorscale": [
             [
              0,
              "#0d0887"
             ],
             [
              0.1111111111111111,
              "#46039f"
             ],
             [
              0.2222222222222222,
              "#7201a8"
             ],
             [
              0.3333333333333333,
              "#9c179e"
             ],
             [
              0.4444444444444444,
              "#bd3786"
             ],
             [
              0.5555555555555556,
              "#d8576b"
             ],
             [
              0.6666666666666666,
              "#ed7953"
             ],
             [
              0.7777777777777778,
              "#fb9f3a"
             ],
             [
              0.8888888888888888,
              "#fdca26"
             ],
             [
              1,
              "#f0f921"
             ]
            ],
            "type": "contour"
           }
          ],
          "contourcarpet": [
           {
            "colorbar": {
             "outlinewidth": 0,
             "ticks": ""
            },
            "type": "contourcarpet"
           }
          ],
          "heatmap": [
           {
            "colorbar": {
             "outlinewidth": 0,
             "ticks": ""
            },
            "colorscale": [
             [
              0,
              "#0d0887"
             ],
             [
              0.1111111111111111,
              "#46039f"
             ],
             [
              0.2222222222222222,
              "#7201a8"
             ],
             [
              0.3333333333333333,
              "#9c179e"
             ],
             [
              0.4444444444444444,
              "#bd3786"
             ],
             [
              0.5555555555555556,
              "#d8576b"
             ],
             [
              0.6666666666666666,
              "#ed7953"
             ],
             [
              0.7777777777777778,
              "#fb9f3a"
             ],
             [
              0.8888888888888888,
              "#fdca26"
             ],
             [
              1,
              "#f0f921"
             ]
            ],
            "type": "heatmap"
           }
          ],
          "heatmapgl": [
           {
            "colorbar": {
             "outlinewidth": 0,
             "ticks": ""
            },
            "colorscale": [
             [
              0,
              "#0d0887"
             ],
             [
              0.1111111111111111,
              "#46039f"
             ],
             [
              0.2222222222222222,
              "#7201a8"
             ],
             [
              0.3333333333333333,
              "#9c179e"
             ],
             [
              0.4444444444444444,
              "#bd3786"
             ],
             [
              0.5555555555555556,
              "#d8576b"
             ],
             [
              0.6666666666666666,
              "#ed7953"
             ],
             [
              0.7777777777777778,
              "#fb9f3a"
             ],
             [
              0.8888888888888888,
              "#fdca26"
             ],
             [
              1,
              "#f0f921"
             ]
            ],
            "type": "heatmapgl"
           }
          ],
          "histogram": [
           {
            "marker": {
             "pattern": {
              "fillmode": "overlay",
              "size": 10,
              "solidity": 0.2
             }
            },
            "type": "histogram"
           }
          ],
          "histogram2d": [
           {
            "colorbar": {
             "outlinewidth": 0,
             "ticks": ""
            },
            "colorscale": [
             [
              0,
              "#0d0887"
             ],
             [
              0.1111111111111111,
              "#46039f"
             ],
             [
              0.2222222222222222,
              "#7201a8"
             ],
             [
              0.3333333333333333,
              "#9c179e"
             ],
             [
              0.4444444444444444,
              "#bd3786"
             ],
             [
              0.5555555555555556,
              "#d8576b"
             ],
             [
              0.6666666666666666,
              "#ed7953"
             ],
             [
              0.7777777777777778,
              "#fb9f3a"
             ],
             [
              0.8888888888888888,
              "#fdca26"
             ],
             [
              1,
              "#f0f921"
             ]
            ],
            "type": "histogram2d"
           }
          ],
          "histogram2dcontour": [
           {
            "colorbar": {
             "outlinewidth": 0,
             "ticks": ""
            },
            "colorscale": [
             [
              0,
              "#0d0887"
             ],
             [
              0.1111111111111111,
              "#46039f"
             ],
             [
              0.2222222222222222,
              "#7201a8"
             ],
             [
              0.3333333333333333,
              "#9c179e"
             ],
             [
              0.4444444444444444,
              "#bd3786"
             ],
             [
              0.5555555555555556,
              "#d8576b"
             ],
             [
              0.6666666666666666,
              "#ed7953"
             ],
             [
              0.7777777777777778,
              "#fb9f3a"
             ],
             [
              0.8888888888888888,
              "#fdca26"
             ],
             [
              1,
              "#f0f921"
             ]
            ],
            "type": "histogram2dcontour"
           }
          ],
          "mesh3d": [
           {
            "colorbar": {
             "outlinewidth": 0,
             "ticks": ""
            },
            "type": "mesh3d"
           }
          ],
          "parcoords": [
           {
            "line": {
             "colorbar": {
              "outlinewidth": 0,
              "ticks": ""
             }
            },
            "type": "parcoords"
           }
          ],
          "pie": [
           {
            "automargin": true,
            "type": "pie"
           }
          ],
          "scatter": [
           {
            "fillpattern": {
             "fillmode": "overlay",
             "size": 10,
             "solidity": 0.2
            },
            "type": "scatter"
           }
          ],
          "scatter3d": [
           {
            "line": {
             "colorbar": {
              "outlinewidth": 0,
              "ticks": ""
             }
            },
            "marker": {
             "colorbar": {
              "outlinewidth": 0,
              "ticks": ""
             }
            },
            "type": "scatter3d"
           }
          ],
          "scattercarpet": [
           {
            "marker": {
             "colorbar": {
              "outlinewidth": 0,
              "ticks": ""
             }
            },
            "type": "scattercarpet"
           }
          ],
          "scattergeo": [
           {
            "marker": {
             "colorbar": {
              "outlinewidth": 0,
              "ticks": ""
             }
            },
            "type": "scattergeo"
           }
          ],
          "scattergl": [
           {
            "marker": {
             "colorbar": {
              "outlinewidth": 0,
              "ticks": ""
             }
            },
            "type": "scattergl"
           }
          ],
          "scattermapbox": [
           {
            "marker": {
             "colorbar": {
              "outlinewidth": 0,
              "ticks": ""
             }
            },
            "type": "scattermapbox"
           }
          ],
          "scatterpolar": [
           {
            "marker": {
             "colorbar": {
              "outlinewidth": 0,
              "ticks": ""
             }
            },
            "type": "scatterpolar"
           }
          ],
          "scatterpolargl": [
           {
            "marker": {
             "colorbar": {
              "outlinewidth": 0,
              "ticks": ""
             }
            },
            "type": "scatterpolargl"
           }
          ],
          "scatterternary": [
           {
            "marker": {
             "colorbar": {
              "outlinewidth": 0,
              "ticks": ""
             }
            },
            "type": "scatterternary"
           }
          ],
          "surface": [
           {
            "colorbar": {
             "outlinewidth": 0,
             "ticks": ""
            },
            "colorscale": [
             [
              0,
              "#0d0887"
             ],
             [
              0.1111111111111111,
              "#46039f"
             ],
             [
              0.2222222222222222,
              "#7201a8"
             ],
             [
              0.3333333333333333,
              "#9c179e"
             ],
             [
              0.4444444444444444,
              "#bd3786"
             ],
             [
              0.5555555555555556,
              "#d8576b"
             ],
             [
              0.6666666666666666,
              "#ed7953"
             ],
             [
              0.7777777777777778,
              "#fb9f3a"
             ],
             [
              0.8888888888888888,
              "#fdca26"
             ],
             [
              1,
              "#f0f921"
             ]
            ],
            "type": "surface"
           }
          ],
          "table": [
           {
            "cells": {
             "fill": {
              "color": "#EBF0F8"
             },
             "line": {
              "color": "white"
             }
            },
            "header": {
             "fill": {
              "color": "#C8D4E3"
             },
             "line": {
              "color": "white"
             }
            },
            "type": "table"
           }
          ]
         },
         "layout": {
          "annotationdefaults": {
           "arrowcolor": "#2a3f5f",
           "arrowhead": 0,
           "arrowwidth": 1
          },
          "autotypenumbers": "strict",
          "coloraxis": {
           "colorbar": {
            "outlinewidth": 0,
            "ticks": ""
           }
          },
          "colorscale": {
           "diverging": [
            [
             0,
             "#8e0152"
            ],
            [
             0.1,
             "#c51b7d"
            ],
            [
             0.2,
             "#de77ae"
            ],
            [
             0.3,
             "#f1b6da"
            ],
            [
             0.4,
             "#fde0ef"
            ],
            [
             0.5,
             "#f7f7f7"
            ],
            [
             0.6,
             "#e6f5d0"
            ],
            [
             0.7,
             "#b8e186"
            ],
            [
             0.8,
             "#7fbc41"
            ],
            [
             0.9,
             "#4d9221"
            ],
            [
             1,
             "#276419"
            ]
           ],
           "sequential": [
            [
             0,
             "#0d0887"
            ],
            [
             0.1111111111111111,
             "#46039f"
            ],
            [
             0.2222222222222222,
             "#7201a8"
            ],
            [
             0.3333333333333333,
             "#9c179e"
            ],
            [
             0.4444444444444444,
             "#bd3786"
            ],
            [
             0.5555555555555556,
             "#d8576b"
            ],
            [
             0.6666666666666666,
             "#ed7953"
            ],
            [
             0.7777777777777778,
             "#fb9f3a"
            ],
            [
             0.8888888888888888,
             "#fdca26"
            ],
            [
             1,
             "#f0f921"
            ]
           ],
           "sequentialminus": [
            [
             0,
             "#0d0887"
            ],
            [
             0.1111111111111111,
             "#46039f"
            ],
            [
             0.2222222222222222,
             "#7201a8"
            ],
            [
             0.3333333333333333,
             "#9c179e"
            ],
            [
             0.4444444444444444,
             "#bd3786"
            ],
            [
             0.5555555555555556,
             "#d8576b"
            ],
            [
             0.6666666666666666,
             "#ed7953"
            ],
            [
             0.7777777777777778,
             "#fb9f3a"
            ],
            [
             0.8888888888888888,
             "#fdca26"
            ],
            [
             1,
             "#f0f921"
            ]
           ]
          },
          "colorway": [
           "#636efa",
           "#EF553B",
           "#00cc96",
           "#ab63fa",
           "#FFA15A",
           "#19d3f3",
           "#FF6692",
           "#B6E880",
           "#FF97FF",
           "#FECB52"
          ],
          "font": {
           "color": "#2a3f5f"
          },
          "geo": {
           "bgcolor": "white",
           "lakecolor": "white",
           "landcolor": "#E5ECF6",
           "showlakes": true,
           "showland": true,
           "subunitcolor": "white"
          },
          "hoverlabel": {
           "align": "left"
          },
          "hovermode": "closest",
          "mapbox": {
           "style": "light"
          },
          "paper_bgcolor": "white",
          "plot_bgcolor": "#E5ECF6",
          "polar": {
           "angularaxis": {
            "gridcolor": "white",
            "linecolor": "white",
            "ticks": ""
           },
           "bgcolor": "#E5ECF6",
           "radialaxis": {
            "gridcolor": "white",
            "linecolor": "white",
            "ticks": ""
           }
          },
          "scene": {
           "xaxis": {
            "backgroundcolor": "#E5ECF6",
            "gridcolor": "white",
            "gridwidth": 2,
            "linecolor": "white",
            "showbackground": true,
            "ticks": "",
            "zerolinecolor": "white"
           },
           "yaxis": {
            "backgroundcolor": "#E5ECF6",
            "gridcolor": "white",
            "gridwidth": 2,
            "linecolor": "white",
            "showbackground": true,
            "ticks": "",
            "zerolinecolor": "white"
           },
           "zaxis": {
            "backgroundcolor": "#E5ECF6",
            "gridcolor": "white",
            "gridwidth": 2,
            "linecolor": "white",
            "showbackground": true,
            "ticks": "",
            "zerolinecolor": "white"
           }
          },
          "shapedefaults": {
           "line": {
            "color": "#2a3f5f"
           }
          },
          "ternary": {
           "aaxis": {
            "gridcolor": "white",
            "linecolor": "white",
            "ticks": ""
           },
           "baxis": {
            "gridcolor": "white",
            "linecolor": "white",
            "ticks": ""
           },
           "bgcolor": "#E5ECF6",
           "caxis": {
            "gridcolor": "white",
            "linecolor": "white",
            "ticks": ""
           }
          },
          "title": {
           "x": 0.05
          },
          "xaxis": {
           "automargin": true,
           "gridcolor": "white",
           "linecolor": "white",
           "ticks": "",
           "title": {
            "standoff": 15
           },
           "zerolinecolor": "white",
           "zerolinewidth": 2
          },
          "yaxis": {
           "automargin": true,
           "gridcolor": "white",
           "linecolor": "white",
           "ticks": "",
           "title": {
            "standoff": 15
           },
           "zerolinecolor": "white",
           "zerolinewidth": 2
          }
         }
        },
        "title": {
         "text": "Slice Plot"
        },
        "xaxis": {
         "anchor": "y",
         "domain": [
          0,
          0.45
         ],
         "title": {
          "text": "max_depth"
         }
        },
        "xaxis2": {
         "anchor": "y2",
         "domain": [
          0.55,
          1
         ],
         "title": {
          "text": "n_estimators"
         }
        },
        "yaxis": {
         "anchor": "x",
         "domain": [
          0,
          1
         ],
         "title": {
          "text": "Objective Value"
         }
        },
        "yaxis2": {
         "anchor": "x2",
         "domain": [
          0,
          1
         ],
         "matches": "y",
         "showticklabels": false
        }
       }
      }
     },
     "metadata": {},
     "output_type": "display_data"
    }
   ],
   "source": [
    "plot_slice(study).show()"
   ]
  },
  {
   "cell_type": "code",
   "execution_count": 21,
   "metadata": {},
   "outputs": [
    {
     "data": {
      "application/vnd.plotly.v1+json": {
       "config": {
        "plotlyServerURL": "https://plot.ly"
       },
       "data": [
        {
         "colorbar": {
          "title": {
           "text": "Objective Value"
          }
         },
         "colorscale": [
          [
           0,
           "rgb(247,251,255)"
          ],
          [
           0.125,
           "rgb(222,235,247)"
          ],
          [
           0.25,
           "rgb(198,219,239)"
          ],
          [
           0.375,
           "rgb(158,202,225)"
          ],
          [
           0.5,
           "rgb(107,174,214)"
          ],
          [
           0.625,
           "rgb(66,146,198)"
          ],
          [
           0.75,
           "rgb(33,113,181)"
          ],
          [
           0.875,
           "rgb(8,81,156)"
          ],
          [
           1,
           "rgb(8,48,107)"
          ]
         ],
         "connectgaps": true,
         "contours": {
          "coloring": "heatmap"
         },
         "hoverinfo": "none",
         "line": {
          "smoothing": 1.3
         },
         "reversescale": false,
         "type": "contour",
         "x": [
          2.2,
          3,
          4,
          5,
          6,
          7,
          8,
          9,
          10,
          12,
          13,
          14,
          15,
          17,
          18,
          19,
          19.8
         ],
         "y": [
          48.55,
          51,
          52,
          55,
          61,
          64,
          65,
          68,
          70,
          71,
          72,
          73,
          74,
          75,
          76,
          77,
          78,
          79,
          81,
          82,
          83,
          84,
          86,
          87,
          88,
          89,
          91,
          92,
          94,
          98,
          100,
          102.45
         ],
         "z": [
          [
           null,
           null,
           null,
           null,
           null,
           null,
           null,
           null,
           null,
           null,
           null,
           null,
           null,
           null,
           null,
           null,
           null
          ],
          [
           null,
           0.8062026498363059,
           null,
           null,
           null,
           null,
           null,
           null,
           null,
           null,
           null,
           null,
           null,
           null,
           null,
           null,
           null
          ],
          [
           null,
           null,
           null,
           null,
           null,
           null,
           null,
           null,
           null,
           null,
           null,
           null,
           null,
           null,
           0.7977461026604734,
           null,
           null
          ],
          [
           null,
           null,
           0.8202318902244442,
           null,
           null,
           null,
           null,
           null,
           null,
           null,
           null,
           null,
           null,
           null,
           null,
           null,
           null
          ],
          [
           null,
           null,
           null,
           0.8230448297462445,
           null,
           null,
           null,
           null,
           0.8118167098062853,
           null,
           null,
           null,
           null,
           null,
           null,
           null,
           null
          ],
          [
           null,
           null,
           null,
           null,
           null,
           null,
           0.8202200711508231,
           null,
           null,
           null,
           null,
           null,
           null,
           null,
           null,
           null,
           null
          ],
          [
           null,
           null,
           null,
           null,
           null,
           null,
           null,
           0.8104102400453853,
           null,
           null,
           null,
           null,
           null,
           null,
           null,
           null,
           null
          ],
          [
           null,
           null,
           null,
           0.8202496188348758,
           0.8216442695221549,
           null,
           null,
           null,
           null,
           null,
           null,
           null,
           null,
           0.7977638312709049,
           null,
           null,
           null
          ],
          [
           null,
           null,
           null,
           null,
           null,
           null,
           null,
           null,
           null,
           0.8047784514649742,
           null,
           null,
           null,
           null,
           null,
           null,
           null
          ],
          [
           null,
           null,
           null,
           null,
           null,
           null,
           0.8230330106726234,
           null,
           null,
           null,
           null,
           null,
           null,
           null,
           null,
           null,
           null
          ],
          [
           null,
           null,
           null,
           null,
           null,
           null,
           0.8202259806876336,
           null,
           null,
           null,
           null,
           null,
           null,
           null,
           null,
           null,
           null
          ],
          [
           null,
           null,
           null,
           null,
           0.8230448297462445,
           null,
           null,
           null,
           null,
           null,
           null,
           null,
           null,
           null,
           null,
           null,
           null
          ],
          [
           null,
           0.8047784514649742,
           null,
           null,
           0.8230448297462445,
           null,
           null,
           null,
           null,
           null,
           null,
           null,
           null,
           null,
           null,
           null,
           null
          ],
          [
           null,
           null,
           null,
           null,
           null,
           0.8258400406576132,
           null,
           null,
           null,
           null,
           null,
           null,
           null,
           null,
           null,
           null,
           null
          ],
          [
           null,
           null,
           0.828670708789845,
           null,
           null,
           0.8216324504485338,
           null,
           null,
           null,
           null,
           null,
           0.8047784514649742,
           null,
           null,
           null,
           null,
           null
          ],
          [
           null,
           null,
           0.8300771785507451,
           null,
           null,
           null,
           null,
           null,
           null,
           null,
           null,
           null,
           null,
           null,
           null,
           null,
           null
          ],
          [
           null,
           null,
           0.8300771785507451,
           null,
           null,
           null,
           null,
           null,
           0.807597300523585,
           null,
           null,
           null,
           null,
           null,
           null,
           0.7963455424363839,
           null
          ],
          [
           null,
           null,
           0.828670708789845,
           null,
           null,
           null,
           null,
           null,
           null,
           null,
           0.8019714214799843,
           null,
           null,
           null,
           null,
           null,
           null
          ],
          [
           null,
           null,
           0.8300712690139346,
           0.8286647992530346,
           null,
           0.8244335708967131,
           null,
           null,
           null,
           null,
           null,
           null,
           null,
           null,
           null,
           null,
           null
          ],
          [
           null,
           0.8019773310167949,
           0.8300712690139346,
           null,
           null,
           null,
           null,
           null,
           null,
           null,
           null,
           null,
           null,
           null,
           null,
           null,
           null
          ],
          [
           null,
           null,
           0.8314777387748348,
           null,
           null,
           null,
           null,
           null,
           0.8061908307626848,
           null,
           null,
           null,
           null,
           null,
           null,
           null,
           null
          ],
          [
           null,
           null,
           null,
           null,
           null,
           null,
           null,
           0.8075913909867745,
           null,
           null,
           null,
           null,
           null,
           0.7949449822122941,
           null,
           null,
           null
          ],
          [
           null,
           0.8019773310167949,
           null,
           null,
           0.8258577692680448,
           0.8202200711508233,
           null,
           null,
           null,
           null,
           null,
           null,
           null,
           null,
           null,
           null,
           null
          ],
          [
           null,
           null,
           null,
           null,
           0.8258577692680448,
           null,
           null,
           null,
           null,
           null,
           null,
           null,
           null,
           null,
           null,
           null,
           null
          ],
          [
           null,
           0.8019773310167949,
           null,
           null,
           null,
           null,
           null,
           null,
           null,
           null,
           null,
           null,
           null,
           null,
           null,
           null,
           null
          ],
          [
           null,
           0.8019773310167949,
           null,
           null,
           null,
           null,
           null,
           null,
           null,
           null,
           null,
           null,
           null,
           null,
           null,
           null,
           null
          ],
          [
           null,
           null,
           0.8244512995071447,
           0.8244572090439553,
           null,
           null,
           null,
           null,
           null,
           null,
           null,
           null,
           null,
           null,
           null,
           null,
           null
          ],
          [
           null,
           null,
           null,
           0.8258636788048553,
           null,
           null,
           null,
           null,
           null,
           null,
           null,
           null,
           null,
           null,
           null,
           null,
           null
          ],
          [
           null,
           null,
           null,
           0.8244572090439553,
           null,
           null,
           null,
           null,
           null,
           null,
           null,
           null,
           null,
           null,
           null,
           null,
           null
          ],
          [
           null,
           null,
           null,
           null,
           null,
           null,
           null,
           null,
           null,
           0.8047902705385952,
           null,
           null,
           0.7963455424363839,
           null,
           null,
           null,
           null
          ],
          [
           null,
           null,
           null,
           null,
           null,
           null,
           null,
           null,
           null,
           null,
           null,
           null,
           0.7963455424363839,
           null,
           null,
           null,
           null
          ],
          [
           null,
           null,
           null,
           null,
           null,
           null,
           null,
           null,
           null,
           null,
           null,
           null,
           null,
           null,
           null,
           null,
           null
          ]
         ]
        },
        {
         "marker": {
          "color": "black",
          "line": {
           "color": "Gray",
           "width": 2
          }
         },
         "mode": "markers",
         "name": "Feasible Trial",
         "showlegend": false,
         "type": "scatter",
         "x": [
          7,
          12,
          17,
          15,
          5,
          18,
          10,
          9,
          10,
          15,
          3,
          5,
          3,
          6,
          6,
          7,
          5,
          13,
          8,
          4,
          3,
          5,
          5,
          4,
          8,
          4,
          4,
          3,
          7,
          7,
          10,
          4,
          4,
          4,
          6,
          4,
          12,
          14,
          19,
          8,
          17,
          4,
          6,
          4,
          3,
          5,
          4,
          6,
          9,
          3
         ],
         "y": [
          76,
          98,
          68,
          98,
          61,
          52,
          78,
          65,
          61,
          100,
          51,
          81,
          86,
          86,
          87,
          86,
          91,
          79,
          71,
          81,
          82,
          92,
          94,
          91,
          72,
          83,
          82,
          74,
          81,
          75,
          83,
          78,
          77,
          78,
          68,
          76,
          70,
          76,
          78,
          64,
          84,
          79,
          74,
          79,
          88,
          68,
          55,
          73,
          84,
          89
         ]
        },
        {
         "marker": {
          "color": "#cccccc",
          "line": {
           "color": "Gray",
           "width": 2
          }
         },
         "mode": "markers",
         "name": "Infeasible Trial",
         "showlegend": false,
         "type": "scatter",
         "x": [],
         "y": []
        }
       ],
       "layout": {
        "template": {
         "data": {
          "bar": [
           {
            "error_x": {
             "color": "#2a3f5f"
            },
            "error_y": {
             "color": "#2a3f5f"
            },
            "marker": {
             "line": {
              "color": "#E5ECF6",
              "width": 0.5
             },
             "pattern": {
              "fillmode": "overlay",
              "size": 10,
              "solidity": 0.2
             }
            },
            "type": "bar"
           }
          ],
          "barpolar": [
           {
            "marker": {
             "line": {
              "color": "#E5ECF6",
              "width": 0.5
             },
             "pattern": {
              "fillmode": "overlay",
              "size": 10,
              "solidity": 0.2
             }
            },
            "type": "barpolar"
           }
          ],
          "carpet": [
           {
            "aaxis": {
             "endlinecolor": "#2a3f5f",
             "gridcolor": "white",
             "linecolor": "white",
             "minorgridcolor": "white",
             "startlinecolor": "#2a3f5f"
            },
            "baxis": {
             "endlinecolor": "#2a3f5f",
             "gridcolor": "white",
             "linecolor": "white",
             "minorgridcolor": "white",
             "startlinecolor": "#2a3f5f"
            },
            "type": "carpet"
           }
          ],
          "choropleth": [
           {
            "colorbar": {
             "outlinewidth": 0,
             "ticks": ""
            },
            "type": "choropleth"
           }
          ],
          "contour": [
           {
            "colorbar": {
             "outlinewidth": 0,
             "ticks": ""
            },
            "colorscale": [
             [
              0,
              "#0d0887"
             ],
             [
              0.1111111111111111,
              "#46039f"
             ],
             [
              0.2222222222222222,
              "#7201a8"
             ],
             [
              0.3333333333333333,
              "#9c179e"
             ],
             [
              0.4444444444444444,
              "#bd3786"
             ],
             [
              0.5555555555555556,
              "#d8576b"
             ],
             [
              0.6666666666666666,
              "#ed7953"
             ],
             [
              0.7777777777777778,
              "#fb9f3a"
             ],
             [
              0.8888888888888888,
              "#fdca26"
             ],
             [
              1,
              "#f0f921"
             ]
            ],
            "type": "contour"
           }
          ],
          "contourcarpet": [
           {
            "colorbar": {
             "outlinewidth": 0,
             "ticks": ""
            },
            "type": "contourcarpet"
           }
          ],
          "heatmap": [
           {
            "colorbar": {
             "outlinewidth": 0,
             "ticks": ""
            },
            "colorscale": [
             [
              0,
              "#0d0887"
             ],
             [
              0.1111111111111111,
              "#46039f"
             ],
             [
              0.2222222222222222,
              "#7201a8"
             ],
             [
              0.3333333333333333,
              "#9c179e"
             ],
             [
              0.4444444444444444,
              "#bd3786"
             ],
             [
              0.5555555555555556,
              "#d8576b"
             ],
             [
              0.6666666666666666,
              "#ed7953"
             ],
             [
              0.7777777777777778,
              "#fb9f3a"
             ],
             [
              0.8888888888888888,
              "#fdca26"
             ],
             [
              1,
              "#f0f921"
             ]
            ],
            "type": "heatmap"
           }
          ],
          "heatmapgl": [
           {
            "colorbar": {
             "outlinewidth": 0,
             "ticks": ""
            },
            "colorscale": [
             [
              0,
              "#0d0887"
             ],
             [
              0.1111111111111111,
              "#46039f"
             ],
             [
              0.2222222222222222,
              "#7201a8"
             ],
             [
              0.3333333333333333,
              "#9c179e"
             ],
             [
              0.4444444444444444,
              "#bd3786"
             ],
             [
              0.5555555555555556,
              "#d8576b"
             ],
             [
              0.6666666666666666,
              "#ed7953"
             ],
             [
              0.7777777777777778,
              "#fb9f3a"
             ],
             [
              0.8888888888888888,
              "#fdca26"
             ],
             [
              1,
              "#f0f921"
             ]
            ],
            "type": "heatmapgl"
           }
          ],
          "histogram": [
           {
            "marker": {
             "pattern": {
              "fillmode": "overlay",
              "size": 10,
              "solidity": 0.2
             }
            },
            "type": "histogram"
           }
          ],
          "histogram2d": [
           {
            "colorbar": {
             "outlinewidth": 0,
             "ticks": ""
            },
            "colorscale": [
             [
              0,
              "#0d0887"
             ],
             [
              0.1111111111111111,
              "#46039f"
             ],
             [
              0.2222222222222222,
              "#7201a8"
             ],
             [
              0.3333333333333333,
              "#9c179e"
             ],
             [
              0.4444444444444444,
              "#bd3786"
             ],
             [
              0.5555555555555556,
              "#d8576b"
             ],
             [
              0.6666666666666666,
              "#ed7953"
             ],
             [
              0.7777777777777778,
              "#fb9f3a"
             ],
             [
              0.8888888888888888,
              "#fdca26"
             ],
             [
              1,
              "#f0f921"
             ]
            ],
            "type": "histogram2d"
           }
          ],
          "histogram2dcontour": [
           {
            "colorbar": {
             "outlinewidth": 0,
             "ticks": ""
            },
            "colorscale": [
             [
              0,
              "#0d0887"
             ],
             [
              0.1111111111111111,
              "#46039f"
             ],
             [
              0.2222222222222222,
              "#7201a8"
             ],
             [
              0.3333333333333333,
              "#9c179e"
             ],
             [
              0.4444444444444444,
              "#bd3786"
             ],
             [
              0.5555555555555556,
              "#d8576b"
             ],
             [
              0.6666666666666666,
              "#ed7953"
             ],
             [
              0.7777777777777778,
              "#fb9f3a"
             ],
             [
              0.8888888888888888,
              "#fdca26"
             ],
             [
              1,
              "#f0f921"
             ]
            ],
            "type": "histogram2dcontour"
           }
          ],
          "mesh3d": [
           {
            "colorbar": {
             "outlinewidth": 0,
             "ticks": ""
            },
            "type": "mesh3d"
           }
          ],
          "parcoords": [
           {
            "line": {
             "colorbar": {
              "outlinewidth": 0,
              "ticks": ""
             }
            },
            "type": "parcoords"
           }
          ],
          "pie": [
           {
            "automargin": true,
            "type": "pie"
           }
          ],
          "scatter": [
           {
            "fillpattern": {
             "fillmode": "overlay",
             "size": 10,
             "solidity": 0.2
            },
            "type": "scatter"
           }
          ],
          "scatter3d": [
           {
            "line": {
             "colorbar": {
              "outlinewidth": 0,
              "ticks": ""
             }
            },
            "marker": {
             "colorbar": {
              "outlinewidth": 0,
              "ticks": ""
             }
            },
            "type": "scatter3d"
           }
          ],
          "scattercarpet": [
           {
            "marker": {
             "colorbar": {
              "outlinewidth": 0,
              "ticks": ""
             }
            },
            "type": "scattercarpet"
           }
          ],
          "scattergeo": [
           {
            "marker": {
             "colorbar": {
              "outlinewidth": 0,
              "ticks": ""
             }
            },
            "type": "scattergeo"
           }
          ],
          "scattergl": [
           {
            "marker": {
             "colorbar": {
              "outlinewidth": 0,
              "ticks": ""
             }
            },
            "type": "scattergl"
           }
          ],
          "scattermapbox": [
           {
            "marker": {
             "colorbar": {
              "outlinewidth": 0,
              "ticks": ""
             }
            },
            "type": "scattermapbox"
           }
          ],
          "scatterpolar": [
           {
            "marker": {
             "colorbar": {
              "outlinewidth": 0,
              "ticks": ""
             }
            },
            "type": "scatterpolar"
           }
          ],
          "scatterpolargl": [
           {
            "marker": {
             "colorbar": {
              "outlinewidth": 0,
              "ticks": ""
             }
            },
            "type": "scatterpolargl"
           }
          ],
          "scatterternary": [
           {
            "marker": {
             "colorbar": {
              "outlinewidth": 0,
              "ticks": ""
             }
            },
            "type": "scatterternary"
           }
          ],
          "surface": [
           {
            "colorbar": {
             "outlinewidth": 0,
             "ticks": ""
            },
            "colorscale": [
             [
              0,
              "#0d0887"
             ],
             [
              0.1111111111111111,
              "#46039f"
             ],
             [
              0.2222222222222222,
              "#7201a8"
             ],
             [
              0.3333333333333333,
              "#9c179e"
             ],
             [
              0.4444444444444444,
              "#bd3786"
             ],
             [
              0.5555555555555556,
              "#d8576b"
             ],
             [
              0.6666666666666666,
              "#ed7953"
             ],
             [
              0.7777777777777778,
              "#fb9f3a"
             ],
             [
              0.8888888888888888,
              "#fdca26"
             ],
             [
              1,
              "#f0f921"
             ]
            ],
            "type": "surface"
           }
          ],
          "table": [
           {
            "cells": {
             "fill": {
              "color": "#EBF0F8"
             },
             "line": {
              "color": "white"
             }
            },
            "header": {
             "fill": {
              "color": "#C8D4E3"
             },
             "line": {
              "color": "white"
             }
            },
            "type": "table"
           }
          ]
         },
         "layout": {
          "annotationdefaults": {
           "arrowcolor": "#2a3f5f",
           "arrowhead": 0,
           "arrowwidth": 1
          },
          "autotypenumbers": "strict",
          "coloraxis": {
           "colorbar": {
            "outlinewidth": 0,
            "ticks": ""
           }
          },
          "colorscale": {
           "diverging": [
            [
             0,
             "#8e0152"
            ],
            [
             0.1,
             "#c51b7d"
            ],
            [
             0.2,
             "#de77ae"
            ],
            [
             0.3,
             "#f1b6da"
            ],
            [
             0.4,
             "#fde0ef"
            ],
            [
             0.5,
             "#f7f7f7"
            ],
            [
             0.6,
             "#e6f5d0"
            ],
            [
             0.7,
             "#b8e186"
            ],
            [
             0.8,
             "#7fbc41"
            ],
            [
             0.9,
             "#4d9221"
            ],
            [
             1,
             "#276419"
            ]
           ],
           "sequential": [
            [
             0,
             "#0d0887"
            ],
            [
             0.1111111111111111,
             "#46039f"
            ],
            [
             0.2222222222222222,
             "#7201a8"
            ],
            [
             0.3333333333333333,
             "#9c179e"
            ],
            [
             0.4444444444444444,
             "#bd3786"
            ],
            [
             0.5555555555555556,
             "#d8576b"
            ],
            [
             0.6666666666666666,
             "#ed7953"
            ],
            [
             0.7777777777777778,
             "#fb9f3a"
            ],
            [
             0.8888888888888888,
             "#fdca26"
            ],
            [
             1,
             "#f0f921"
            ]
           ],
           "sequentialminus": [
            [
             0,
             "#0d0887"
            ],
            [
             0.1111111111111111,
             "#46039f"
            ],
            [
             0.2222222222222222,
             "#7201a8"
            ],
            [
             0.3333333333333333,
             "#9c179e"
            ],
            [
             0.4444444444444444,
             "#bd3786"
            ],
            [
             0.5555555555555556,
             "#d8576b"
            ],
            [
             0.6666666666666666,
             "#ed7953"
            ],
            [
             0.7777777777777778,
             "#fb9f3a"
            ],
            [
             0.8888888888888888,
             "#fdca26"
            ],
            [
             1,
             "#f0f921"
            ]
           ]
          },
          "colorway": [
           "#636efa",
           "#EF553B",
           "#00cc96",
           "#ab63fa",
           "#FFA15A",
           "#19d3f3",
           "#FF6692",
           "#B6E880",
           "#FF97FF",
           "#FECB52"
          ],
          "font": {
           "color": "#2a3f5f"
          },
          "geo": {
           "bgcolor": "white",
           "lakecolor": "white",
           "landcolor": "#E5ECF6",
           "showlakes": true,
           "showland": true,
           "subunitcolor": "white"
          },
          "hoverlabel": {
           "align": "left"
          },
          "hovermode": "closest",
          "mapbox": {
           "style": "light"
          },
          "paper_bgcolor": "white",
          "plot_bgcolor": "#E5ECF6",
          "polar": {
           "angularaxis": {
            "gridcolor": "white",
            "linecolor": "white",
            "ticks": ""
           },
           "bgcolor": "#E5ECF6",
           "radialaxis": {
            "gridcolor": "white",
            "linecolor": "white",
            "ticks": ""
           }
          },
          "scene": {
           "xaxis": {
            "backgroundcolor": "#E5ECF6",
            "gridcolor": "white",
            "gridwidth": 2,
            "linecolor": "white",
            "showbackground": true,
            "ticks": "",
            "zerolinecolor": "white"
           },
           "yaxis": {
            "backgroundcolor": "#E5ECF6",
            "gridcolor": "white",
            "gridwidth": 2,
            "linecolor": "white",
            "showbackground": true,
            "ticks": "",
            "zerolinecolor": "white"
           },
           "zaxis": {
            "backgroundcolor": "#E5ECF6",
            "gridcolor": "white",
            "gridwidth": 2,
            "linecolor": "white",
            "showbackground": true,
            "ticks": "",
            "zerolinecolor": "white"
           }
          },
          "shapedefaults": {
           "line": {
            "color": "#2a3f5f"
           }
          },
          "ternary": {
           "aaxis": {
            "gridcolor": "white",
            "linecolor": "white",
            "ticks": ""
           },
           "baxis": {
            "gridcolor": "white",
            "linecolor": "white",
            "ticks": ""
           },
           "bgcolor": "#E5ECF6",
           "caxis": {
            "gridcolor": "white",
            "linecolor": "white",
            "ticks": ""
           }
          },
          "title": {
           "x": 0.05
          },
          "xaxis": {
           "automargin": true,
           "gridcolor": "white",
           "linecolor": "white",
           "ticks": "",
           "title": {
            "standoff": 15
           },
           "zerolinecolor": "white",
           "zerolinewidth": 2
          },
          "yaxis": {
           "automargin": true,
           "gridcolor": "white",
           "linecolor": "white",
           "ticks": "",
           "title": {
            "standoff": 15
           },
           "zerolinecolor": "white",
           "zerolinewidth": 2
          }
         }
        },
        "title": {
         "text": "Contour Plot"
        },
        "xaxis": {
         "range": [
          2.2,
          19.8
         ],
         "title": {
          "text": "max_depth"
         }
        },
        "yaxis": {
         "range": [
          48.55,
          102.45
         ],
         "title": {
          "text": "n_estimators"
         }
        }
       }
      }
     },
     "metadata": {},
     "output_type": "display_data"
    }
   ],
   "source": [
    "plot_contour(study).show()"
   ]
  },
  {
   "cell_type": "code",
   "execution_count": 22,
   "metadata": {},
   "outputs": [
    {
     "data": {
      "application/vnd.plotly.v1+json": {
       "config": {
        "plotlyServerURL": "https://plot.ly"
       },
       "data": [
        {
         "cliponaxis": false,
         "hovertemplate": [
          "n_estimators (IntDistribution): 0.006388510592304865<extra></extra>",
          "max_depth (IntDistribution): 0.9936114894076952<extra></extra>"
         ],
         "name": "Objective Value",
         "orientation": "h",
         "text": [
          "<0.01",
          "0.99"
         ],
         "textposition": "outside",
         "type": "bar",
         "x": [
          0.006388510592304865,
          0.9936114894076952
         ],
         "y": [
          "n_estimators",
          "max_depth"
         ]
        }
       ],
       "layout": {
        "template": {
         "data": {
          "bar": [
           {
            "error_x": {
             "color": "#2a3f5f"
            },
            "error_y": {
             "color": "#2a3f5f"
            },
            "marker": {
             "line": {
              "color": "#E5ECF6",
              "width": 0.5
             },
             "pattern": {
              "fillmode": "overlay",
              "size": 10,
              "solidity": 0.2
             }
            },
            "type": "bar"
           }
          ],
          "barpolar": [
           {
            "marker": {
             "line": {
              "color": "#E5ECF6",
              "width": 0.5
             },
             "pattern": {
              "fillmode": "overlay",
              "size": 10,
              "solidity": 0.2
             }
            },
            "type": "barpolar"
           }
          ],
          "carpet": [
           {
            "aaxis": {
             "endlinecolor": "#2a3f5f",
             "gridcolor": "white",
             "linecolor": "white",
             "minorgridcolor": "white",
             "startlinecolor": "#2a3f5f"
            },
            "baxis": {
             "endlinecolor": "#2a3f5f",
             "gridcolor": "white",
             "linecolor": "white",
             "minorgridcolor": "white",
             "startlinecolor": "#2a3f5f"
            },
            "type": "carpet"
           }
          ],
          "choropleth": [
           {
            "colorbar": {
             "outlinewidth": 0,
             "ticks": ""
            },
            "type": "choropleth"
           }
          ],
          "contour": [
           {
            "colorbar": {
             "outlinewidth": 0,
             "ticks": ""
            },
            "colorscale": [
             [
              0,
              "#0d0887"
             ],
             [
              0.1111111111111111,
              "#46039f"
             ],
             [
              0.2222222222222222,
              "#7201a8"
             ],
             [
              0.3333333333333333,
              "#9c179e"
             ],
             [
              0.4444444444444444,
              "#bd3786"
             ],
             [
              0.5555555555555556,
              "#d8576b"
             ],
             [
              0.6666666666666666,
              "#ed7953"
             ],
             [
              0.7777777777777778,
              "#fb9f3a"
             ],
             [
              0.8888888888888888,
              "#fdca26"
             ],
             [
              1,
              "#f0f921"
             ]
            ],
            "type": "contour"
           }
          ],
          "contourcarpet": [
           {
            "colorbar": {
             "outlinewidth": 0,
             "ticks": ""
            },
            "type": "contourcarpet"
           }
          ],
          "heatmap": [
           {
            "colorbar": {
             "outlinewidth": 0,
             "ticks": ""
            },
            "colorscale": [
             [
              0,
              "#0d0887"
             ],
             [
              0.1111111111111111,
              "#46039f"
             ],
             [
              0.2222222222222222,
              "#7201a8"
             ],
             [
              0.3333333333333333,
              "#9c179e"
             ],
             [
              0.4444444444444444,
              "#bd3786"
             ],
             [
              0.5555555555555556,
              "#d8576b"
             ],
             [
              0.6666666666666666,
              "#ed7953"
             ],
             [
              0.7777777777777778,
              "#fb9f3a"
             ],
             [
              0.8888888888888888,
              "#fdca26"
             ],
             [
              1,
              "#f0f921"
             ]
            ],
            "type": "heatmap"
           }
          ],
          "heatmapgl": [
           {
            "colorbar": {
             "outlinewidth": 0,
             "ticks": ""
            },
            "colorscale": [
             [
              0,
              "#0d0887"
             ],
             [
              0.1111111111111111,
              "#46039f"
             ],
             [
              0.2222222222222222,
              "#7201a8"
             ],
             [
              0.3333333333333333,
              "#9c179e"
             ],
             [
              0.4444444444444444,
              "#bd3786"
             ],
             [
              0.5555555555555556,
              "#d8576b"
             ],
             [
              0.6666666666666666,
              "#ed7953"
             ],
             [
              0.7777777777777778,
              "#fb9f3a"
             ],
             [
              0.8888888888888888,
              "#fdca26"
             ],
             [
              1,
              "#f0f921"
             ]
            ],
            "type": "heatmapgl"
           }
          ],
          "histogram": [
           {
            "marker": {
             "pattern": {
              "fillmode": "overlay",
              "size": 10,
              "solidity": 0.2
             }
            },
            "type": "histogram"
           }
          ],
          "histogram2d": [
           {
            "colorbar": {
             "outlinewidth": 0,
             "ticks": ""
            },
            "colorscale": [
             [
              0,
              "#0d0887"
             ],
             [
              0.1111111111111111,
              "#46039f"
             ],
             [
              0.2222222222222222,
              "#7201a8"
             ],
             [
              0.3333333333333333,
              "#9c179e"
             ],
             [
              0.4444444444444444,
              "#bd3786"
             ],
             [
              0.5555555555555556,
              "#d8576b"
             ],
             [
              0.6666666666666666,
              "#ed7953"
             ],
             [
              0.7777777777777778,
              "#fb9f3a"
             ],
             [
              0.8888888888888888,
              "#fdca26"
             ],
             [
              1,
              "#f0f921"
             ]
            ],
            "type": "histogram2d"
           }
          ],
          "histogram2dcontour": [
           {
            "colorbar": {
             "outlinewidth": 0,
             "ticks": ""
            },
            "colorscale": [
             [
              0,
              "#0d0887"
             ],
             [
              0.1111111111111111,
              "#46039f"
             ],
             [
              0.2222222222222222,
              "#7201a8"
             ],
             [
              0.3333333333333333,
              "#9c179e"
             ],
             [
              0.4444444444444444,
              "#bd3786"
             ],
             [
              0.5555555555555556,
              "#d8576b"
             ],
             [
              0.6666666666666666,
              "#ed7953"
             ],
             [
              0.7777777777777778,
              "#fb9f3a"
             ],
             [
              0.8888888888888888,
              "#fdca26"
             ],
             [
              1,
              "#f0f921"
             ]
            ],
            "type": "histogram2dcontour"
           }
          ],
          "mesh3d": [
           {
            "colorbar": {
             "outlinewidth": 0,
             "ticks": ""
            },
            "type": "mesh3d"
           }
          ],
          "parcoords": [
           {
            "line": {
             "colorbar": {
              "outlinewidth": 0,
              "ticks": ""
             }
            },
            "type": "parcoords"
           }
          ],
          "pie": [
           {
            "automargin": true,
            "type": "pie"
           }
          ],
          "scatter": [
           {
            "fillpattern": {
             "fillmode": "overlay",
             "size": 10,
             "solidity": 0.2
            },
            "type": "scatter"
           }
          ],
          "scatter3d": [
           {
            "line": {
             "colorbar": {
              "outlinewidth": 0,
              "ticks": ""
             }
            },
            "marker": {
             "colorbar": {
              "outlinewidth": 0,
              "ticks": ""
             }
            },
            "type": "scatter3d"
           }
          ],
          "scattercarpet": [
           {
            "marker": {
             "colorbar": {
              "outlinewidth": 0,
              "ticks": ""
             }
            },
            "type": "scattercarpet"
           }
          ],
          "scattergeo": [
           {
            "marker": {
             "colorbar": {
              "outlinewidth": 0,
              "ticks": ""
             }
            },
            "type": "scattergeo"
           }
          ],
          "scattergl": [
           {
            "marker": {
             "colorbar": {
              "outlinewidth": 0,
              "ticks": ""
             }
            },
            "type": "scattergl"
           }
          ],
          "scattermapbox": [
           {
            "marker": {
             "colorbar": {
              "outlinewidth": 0,
              "ticks": ""
             }
            },
            "type": "scattermapbox"
           }
          ],
          "scatterpolar": [
           {
            "marker": {
             "colorbar": {
              "outlinewidth": 0,
              "ticks": ""
             }
            },
            "type": "scatterpolar"
           }
          ],
          "scatterpolargl": [
           {
            "marker": {
             "colorbar": {
              "outlinewidth": 0,
              "ticks": ""
             }
            },
            "type": "scatterpolargl"
           }
          ],
          "scatterternary": [
           {
            "marker": {
             "colorbar": {
              "outlinewidth": 0,
              "ticks": ""
             }
            },
            "type": "scatterternary"
           }
          ],
          "surface": [
           {
            "colorbar": {
             "outlinewidth": 0,
             "ticks": ""
            },
            "colorscale": [
             [
              0,
              "#0d0887"
             ],
             [
              0.1111111111111111,
              "#46039f"
             ],
             [
              0.2222222222222222,
              "#7201a8"
             ],
             [
              0.3333333333333333,
              "#9c179e"
             ],
             [
              0.4444444444444444,
              "#bd3786"
             ],
             [
              0.5555555555555556,
              "#d8576b"
             ],
             [
              0.6666666666666666,
              "#ed7953"
             ],
             [
              0.7777777777777778,
              "#fb9f3a"
             ],
             [
              0.8888888888888888,
              "#fdca26"
             ],
             [
              1,
              "#f0f921"
             ]
            ],
            "type": "surface"
           }
          ],
          "table": [
           {
            "cells": {
             "fill": {
              "color": "#EBF0F8"
             },
             "line": {
              "color": "white"
             }
            },
            "header": {
             "fill": {
              "color": "#C8D4E3"
             },
             "line": {
              "color": "white"
             }
            },
            "type": "table"
           }
          ]
         },
         "layout": {
          "annotationdefaults": {
           "arrowcolor": "#2a3f5f",
           "arrowhead": 0,
           "arrowwidth": 1
          },
          "autotypenumbers": "strict",
          "coloraxis": {
           "colorbar": {
            "outlinewidth": 0,
            "ticks": ""
           }
          },
          "colorscale": {
           "diverging": [
            [
             0,
             "#8e0152"
            ],
            [
             0.1,
             "#c51b7d"
            ],
            [
             0.2,
             "#de77ae"
            ],
            [
             0.3,
             "#f1b6da"
            ],
            [
             0.4,
             "#fde0ef"
            ],
            [
             0.5,
             "#f7f7f7"
            ],
            [
             0.6,
             "#e6f5d0"
            ],
            [
             0.7,
             "#b8e186"
            ],
            [
             0.8,
             "#7fbc41"
            ],
            [
             0.9,
             "#4d9221"
            ],
            [
             1,
             "#276419"
            ]
           ],
           "sequential": [
            [
             0,
             "#0d0887"
            ],
            [
             0.1111111111111111,
             "#46039f"
            ],
            [
             0.2222222222222222,
             "#7201a8"
            ],
            [
             0.3333333333333333,
             "#9c179e"
            ],
            [
             0.4444444444444444,
             "#bd3786"
            ],
            [
             0.5555555555555556,
             "#d8576b"
            ],
            [
             0.6666666666666666,
             "#ed7953"
            ],
            [
             0.7777777777777778,
             "#fb9f3a"
            ],
            [
             0.8888888888888888,
             "#fdca26"
            ],
            [
             1,
             "#f0f921"
            ]
           ],
           "sequentialminus": [
            [
             0,
             "#0d0887"
            ],
            [
             0.1111111111111111,
             "#46039f"
            ],
            [
             0.2222222222222222,
             "#7201a8"
            ],
            [
             0.3333333333333333,
             "#9c179e"
            ],
            [
             0.4444444444444444,
             "#bd3786"
            ],
            [
             0.5555555555555556,
             "#d8576b"
            ],
            [
             0.6666666666666666,
             "#ed7953"
            ],
            [
             0.7777777777777778,
             "#fb9f3a"
            ],
            [
             0.8888888888888888,
             "#fdca26"
            ],
            [
             1,
             "#f0f921"
            ]
           ]
          },
          "colorway": [
           "#636efa",
           "#EF553B",
           "#00cc96",
           "#ab63fa",
           "#FFA15A",
           "#19d3f3",
           "#FF6692",
           "#B6E880",
           "#FF97FF",
           "#FECB52"
          ],
          "font": {
           "color": "#2a3f5f"
          },
          "geo": {
           "bgcolor": "white",
           "lakecolor": "white",
           "landcolor": "#E5ECF6",
           "showlakes": true,
           "showland": true,
           "subunitcolor": "white"
          },
          "hoverlabel": {
           "align": "left"
          },
          "hovermode": "closest",
          "mapbox": {
           "style": "light"
          },
          "paper_bgcolor": "white",
          "plot_bgcolor": "#E5ECF6",
          "polar": {
           "angularaxis": {
            "gridcolor": "white",
            "linecolor": "white",
            "ticks": ""
           },
           "bgcolor": "#E5ECF6",
           "radialaxis": {
            "gridcolor": "white",
            "linecolor": "white",
            "ticks": ""
           }
          },
          "scene": {
           "xaxis": {
            "backgroundcolor": "#E5ECF6",
            "gridcolor": "white",
            "gridwidth": 2,
            "linecolor": "white",
            "showbackground": true,
            "ticks": "",
            "zerolinecolor": "white"
           },
           "yaxis": {
            "backgroundcolor": "#E5ECF6",
            "gridcolor": "white",
            "gridwidth": 2,
            "linecolor": "white",
            "showbackground": true,
            "ticks": "",
            "zerolinecolor": "white"
           },
           "zaxis": {
            "backgroundcolor": "#E5ECF6",
            "gridcolor": "white",
            "gridwidth": 2,
            "linecolor": "white",
            "showbackground": true,
            "ticks": "",
            "zerolinecolor": "white"
           }
          },
          "shapedefaults": {
           "line": {
            "color": "#2a3f5f"
           }
          },
          "ternary": {
           "aaxis": {
            "gridcolor": "white",
            "linecolor": "white",
            "ticks": ""
           },
           "baxis": {
            "gridcolor": "white",
            "linecolor": "white",
            "ticks": ""
           },
           "bgcolor": "#E5ECF6",
           "caxis": {
            "gridcolor": "white",
            "linecolor": "white",
            "ticks": ""
           }
          },
          "title": {
           "x": 0.05
          },
          "xaxis": {
           "automargin": true,
           "gridcolor": "white",
           "linecolor": "white",
           "ticks": "",
           "title": {
            "standoff": 15
           },
           "zerolinecolor": "white",
           "zerolinewidth": 2
          },
          "yaxis": {
           "automargin": true,
           "gridcolor": "white",
           "linecolor": "white",
           "ticks": "",
           "title": {
            "standoff": 15
           },
           "zerolinecolor": "white",
           "zerolinewidth": 2
          }
         }
        },
        "title": {
         "text": "Hyperparameter Importances"
        },
        "xaxis": {
         "title": {
          "text": "Hyperparameter Importance"
         }
        },
        "yaxis": {
         "title": {
          "text": "Hyperparameter"
         }
        }
       }
      }
     },
     "metadata": {},
     "output_type": "display_data"
    }
   ],
   "source": [
    "plot_param_importances(study).show()"
   ]
  },
  {
   "cell_type": "code",
   "execution_count": 23,
   "metadata": {},
   "outputs": [],
   "source": [
    "# Define by run --> for dynamic search space\n",
    "# 1 hyperparamter --> best algo and best hyperparamter \n"
   ]
  },
  {
   "cell_type": "code",
   "execution_count": 26,
   "metadata": {},
   "outputs": [],
   "source": [
    "# HYyperparametr on algorithms\n",
    "from sklearn.svm import SVC\n",
    "from sklearn.ensemble import GradientBoostingClassifier\n",
    "\n",
    "def objective_algo(trial: optuna.trial):\n",
    "    \n",
    "    classifier_name = trial.suggest_categorical(\"classifier\" , [\"SVM\" , \"RandomForest\" , \"GradientBoosting\"])\n",
    "    \n",
    "    if classifier_name == \"SVM\":\n",
    "        # SVM hyperparameter\n",
    "        \n",
    "        C = trial.suggest_float(\"C\" , 0.1 , 100 )\n",
    "        kernal = trial.suggest_categorical(\"kernal\" , [\"linear\" , \"rbf\" , \"poly\" , \"sigmoid\"])\n",
    "        gamma = trial.suggest_categorical(\"gamma\" , [\"scale\" , \"auto\"])\n",
    "        \n",
    "        model = SVC(C= C , kernel= kernal , gamma= gamma , random_state= 42)\n",
    "        \n",
    "    elif classifier_name == \"RandomForest\": \n",
    "        n_estimators = trial.suggest_int(\"n_estimators\" , 50 , 100)\n",
    "        max_depth = trial.suggest_int(\"max_depth\" , 3 , 20)\n",
    "\n",
    "        model = RandomForestClassifier(n_estimators= n_estimators, max_depth= max_depth , random_state= 42)\n",
    "        \n",
    "    elif classifier_name == \"GradientBoosting\":\n",
    "        \n",
    "        n_estimators = trial.suggest_int(\"n_estimators\" , 50 , 300)\n",
    "        learning_rate = trial.suggest_float(\"learning_rate\" , 0.01 , 0.3)\n",
    "        max_depth = trial.suggest_int(\"max_depth\" , 3, 20)\n",
    "        \n",
    "        model = GradientBoostingClassifier(n_estimators= n_estimators , learning_rate= learning_rate , max_depth= max_depth , random_state=42)\n",
    "        \n",
    "    \n",
    "    # perform cross validation and return mean accuracy\n",
    "    score = cross_val_score(model , X_train , y_train , cv= 3 , scoring='accuracy').mean()\n",
    "    return score   \n",
    "        "
   ]
  },
  {
   "cell_type": "code",
   "execution_count": 27,
   "metadata": {},
   "outputs": [
    {
     "name": "stderr",
     "output_type": "stream",
     "text": [
      "[I 2025-01-14 19:49:52,949] A new study created in memory with name: no-name-e2b156ee-e043-43f1-8ec7-b3776cba14d4\n",
      "[I 2025-01-14 19:49:53,238] Trial 0 finished with value: 0.7907492110768358 and parameters: {'classifier': 'SVM', 'C': 85.23028410911094, 'kernal': 'linear', 'gamma': 'auto'}. Best is trial 0 with value: 0.7907492110768358.\n",
      "[I 2025-01-14 19:49:53,259] Trial 1 finished with value: 0.6868477348745405 and parameters: {'classifier': 'SVM', 'C': 84.31340315424312, 'kernal': 'sigmoid', 'gamma': 'auto'}. Best is trial 0 with value: 0.7907492110768358.\n",
      "[I 2025-01-14 19:49:53,519] Trial 2 finished with value: 0.8160183904785544 and parameters: {'classifier': 'RandomForest', 'n_estimators': 95, 'max_depth': 8}. Best is trial 2 with value: 0.8160183904785544.\n",
      "[I 2025-01-14 19:49:55,461] Trial 3 finished with value: 0.7739011216300867 and parameters: {'classifier': 'GradientBoosting', 'n_estimators': 156, 'learning_rate': 0.2830358530350242, 'max_depth': 11}. Best is trial 2 with value: 0.8160183904785544.\n",
      "[I 2025-01-14 19:49:57,709] Trial 4 finished with value: 0.7808921036769138 and parameters: {'classifier': 'GradientBoosting', 'n_estimators': 198, 'learning_rate': 0.19660058512148715, 'max_depth': 9}. Best is trial 2 with value: 0.8160183904785544.\n",
      "[I 2025-01-14 19:49:57,922] Trial 5 finished with value: 0.8061908307626848 and parameters: {'classifier': 'RandomForest', 'n_estimators': 72, 'max_depth': 12}. Best is trial 2 with value: 0.8160183904785544.\n",
      "[I 2025-01-14 19:49:57,943] Trial 6 finished with value: 0.6854412651136403 and parameters: {'classifier': 'SVM', 'C': 98.79374454588385, 'kernal': 'sigmoid', 'gamma': 'auto'}. Best is trial 2 with value: 0.8160183904785544.\n",
      "[I 2025-01-14 19:49:57,986] Trial 7 finished with value: 0.7963278138259523 and parameters: {'classifier': 'SVM', 'C': 49.35937152217354, 'kernal': 'rbf', 'gamma': 'auto'}. Best is trial 2 with value: 0.8160183904785544.\n",
      "[I 2025-01-14 19:49:59,062] Trial 8 finished with value: 0.7668628632887754 and parameters: {'classifier': 'GradientBoosting', 'n_estimators': 87, 'learning_rate': 0.20644937683525852, 'max_depth': 9}. Best is trial 2 with value: 0.8160183904785544.\n",
      "[I 2025-01-14 19:49:59,231] Trial 9 finished with value: 0.8202377997612547 and parameters: {'classifier': 'RandomForest', 'n_estimators': 66, 'max_depth': 6}. Best is trial 9 with value: 0.8202377997612547.\n",
      "[I 2025-01-14 19:49:59,374] Trial 10 finished with value: 0.8062026498363059 and parameters: {'classifier': 'RandomForest', 'n_estimators': 51, 'max_depth': 3}. Best is trial 9 with value: 0.8202377997612547.\n",
      "[I 2025-01-14 19:49:59,555] Trial 11 finished with value: 0.8286647992530346 and parameters: {'classifier': 'RandomForest', 'n_estimators': 70, 'max_depth': 4}. Best is trial 11 with value: 0.8286647992530346.\n",
      "[I 2025-01-14 19:49:59,730] Trial 12 finished with value: 0.8089860416740535 and parameters: {'classifier': 'RandomForest', 'n_estimators': 66, 'max_depth': 3}. Best is trial 11 with value: 0.8286647992530346.\n",
      "[I 2025-01-14 19:49:59,914] Trial 13 finished with value: 0.8019773310167949 and parameters: {'classifier': 'RandomForest', 'n_estimators': 61, 'max_depth': 17}. Best is trial 11 with value: 0.8286647992530346.\n",
      "[I 2025-01-14 19:50:00,131] Trial 14 finished with value: 0.8244572090439551 and parameters: {'classifier': 'RandomForest', 'n_estimators': 79, 'max_depth': 5}. Best is trial 11 with value: 0.8286647992530346.\n",
      "[I 2025-01-14 19:50:00,385] Trial 15 finished with value: 0.8272583294921344 and parameters: {'classifier': 'RandomForest', 'n_estimators': 82, 'max_depth': 5}. Best is trial 11 with value: 0.8286647992530346.\n",
      "[I 2025-01-14 19:50:00,638] Trial 16 finished with value: 0.7991643914949945 and parameters: {'classifier': 'RandomForest', 'n_estimators': 82, 'max_depth': 14}. Best is trial 11 with value: 0.8286647992530346.\n",
      "[I 2025-01-14 19:50:00,922] Trial 17 finished with value: 0.7963514519731943 and parameters: {'classifier': 'RandomForest', 'n_estimators': 90, 'max_depth': 20}. Best is trial 11 with value: 0.8286647992530346.\n",
      "[I 2025-01-14 19:50:01,140] Trial 18 finished with value: 0.8230448297462445 and parameters: {'classifier': 'RandomForest', 'n_estimators': 74, 'max_depth': 6}. Best is trial 11 with value: 0.8286647992530346.\n",
      "[I 2025-01-14 19:50:02,431] Trial 19 finished with value: 0.8117989811958539 and parameters: {'classifier': 'GradientBoosting', 'n_estimators': 286, 'learning_rate': 0.01665475625457538, 'max_depth': 5}. Best is trial 11 with value: 0.8286647992530346.\n",
      "[I 2025-01-14 19:50:02,651] Trial 20 finished with value: 0.8047902705385952 and parameters: {'classifier': 'RandomForest', 'n_estimators': 56, 'max_depth': 3}. Best is trial 11 with value: 0.8286647992530346.\n",
      "[I 2025-01-14 19:50:02,887] Trial 21 finished with value: 0.8258577692680448 and parameters: {'classifier': 'RandomForest', 'n_estimators': 80, 'max_depth': 6}. Best is trial 11 with value: 0.8286647992530346.\n",
      "[I 2025-01-14 19:50:03,126] Trial 22 finished with value: 0.8216265409117233 and parameters: {'classifier': 'RandomForest', 'n_estimators': 79, 'max_depth': 7}. Best is trial 11 with value: 0.8286647992530346.\n",
      "[I 2025-01-14 19:50:03,327] Trial 23 finished with value: 0.8300712690139346 and parameters: {'classifier': 'RandomForest', 'n_estimators': 69, 'max_depth': 4}. Best is trial 23 with value: 0.8300712690139346.\n",
      "[I 2025-01-14 19:50:03,519] Trial 24 finished with value: 0.8286647992530346 and parameters: {'classifier': 'RandomForest', 'n_estimators': 67, 'max_depth': 4}. Best is trial 23 with value: 0.8300712690139346.\n",
      "[I 2025-01-14 19:50:03,727] Trial 25 finished with value: 0.8047843610017846 and parameters: {'classifier': 'RandomForest', 'n_estimators': 68, 'max_depth': 3}. Best is trial 23 with value: 0.8300712690139346.\n",
      "[I 2025-01-14 19:50:03,936] Trial 26 finished with value: 0.8216383599853444 and parameters: {'classifier': 'RandomForest', 'n_estimators': 59, 'max_depth': 11}. Best is trial 23 with value: 0.8300712690139346.\n",
      "[I 2025-01-14 19:50:04,128] Trial 27 finished with value: 0.8286647992530346 and parameters: {'classifier': 'RandomForest', 'n_estimators': 70, 'max_depth': 4}. Best is trial 23 with value: 0.8300712690139346.\n",
      "[I 2025-01-14 19:50:04,154] Trial 28 finished with value: 0.8019891500904159 and parameters: {'classifier': 'SVM', 'C': 3.149297194477164, 'kernal': 'poly', 'gamma': 'scale'}. Best is trial 23 with value: 0.8300712690139346.\n",
      "[I 2025-01-14 19:50:05,277] Trial 29 finished with value: 0.7893309222423147 and parameters: {'classifier': 'GradientBoosting', 'n_estimators': 120, 'learning_rate': 0.0277885836483818, 'max_depth': 8}. Best is trial 23 with value: 0.8300712690139346.\n",
      "[I 2025-01-14 19:50:05,308] Trial 30 finished with value: 0.7907492110768358 and parameters: {'classifier': 'SVM', 'C': 1.8937274300316602, 'kernal': 'linear', 'gamma': 'scale'}. Best is trial 23 with value: 0.8300712690139346.\n",
      "[I 2025-01-14 19:50:05,500] Trial 31 finished with value: 0.8286647992530346 and parameters: {'classifier': 'RandomForest', 'n_estimators': 71, 'max_depth': 4}. Best is trial 23 with value: 0.8300712690139346.\n",
      "[I 2025-01-14 19:50:05,666] Trial 32 finished with value: 0.8272583294921344 and parameters: {'classifier': 'RandomForest', 'n_estimators': 62, 'max_depth': 4}. Best is trial 23 with value: 0.8300712690139346.\n",
      "[I 2025-01-14 19:50:05,857] Trial 33 finished with value: 0.8230389202094339 and parameters: {'classifier': 'RandomForest', 'n_estimators': 69, 'max_depth': 7}. Best is trial 23 with value: 0.8300712690139346.\n",
      "[I 2025-01-14 19:50:06,025] Trial 34 finished with value: 0.8286647992530346 and parameters: {'classifier': 'RandomForest', 'n_estimators': 64, 'max_depth': 4}. Best is trial 23 with value: 0.8300712690139346.\n",
      "[I 2025-01-14 19:50:06,224] Trial 35 finished with value: 0.8244512995071447 and parameters: {'classifier': 'RandomForest', 'n_estimators': 75, 'max_depth': 5}. Best is trial 23 with value: 0.8300712690139346.\n",
      "[I 2025-01-14 19:50:06,441] Trial 36 finished with value: 0.823038920209434 and parameters: {'classifier': 'RandomForest', 'n_estimators': 76, 'max_depth': 8}. Best is trial 23 with value: 0.8300712690139346.\n",
      "[I 2025-01-14 19:50:07,385] Trial 37 finished with value: 0.7710763630346653 and parameters: {'classifier': 'GradientBoosting', 'n_estimators': 114, 'learning_rate': 0.07896161402465007, 'max_depth': 7}. Best is trial 23 with value: 0.8300712690139346.\n",
      "[I 2025-01-14 19:50:07,445] Trial 38 finished with value: 0.7907314824664043 and parameters: {'classifier': 'SVM', 'C': 37.49895469727186, 'kernal': 'poly', 'gamma': 'scale'}. Best is trial 23 with value: 0.8300712690139346.\n",
      "[I 2025-01-14 19:50:07,628] Trial 39 finished with value: 0.8230448297462445 and parameters: {'classifier': 'RandomForest', 'n_estimators': 57, 'max_depth': 4}. Best is trial 23 with value: 0.8300712690139346.\n",
      "[I 2025-01-14 19:50:07,670] Trial 40 finished with value: 0.8005472231086528 and parameters: {'classifier': 'SVM', 'C': 29.462426863565792, 'kernal': 'rbf', 'gamma': 'scale'}. Best is trial 23 with value: 0.8300712690139346.\n",
      "[I 2025-01-14 19:50:07,868] Trial 41 finished with value: 0.8286647992530346 and parameters: {'classifier': 'RandomForest', 'n_estimators': 71, 'max_depth': 4}. Best is trial 23 with value: 0.8300712690139346.\n",
      "[I 2025-01-14 19:50:08,084] Trial 42 finished with value: 0.8244572090439551 and parameters: {'classifier': 'RandomForest', 'n_estimators': 70, 'max_depth': 5}. Best is trial 23 with value: 0.8300712690139346.\n",
      "[I 2025-01-14 19:50:08,306] Trial 43 finished with value: 0.8019773310167949 and parameters: {'classifier': 'RandomForest', 'n_estimators': 73, 'max_depth': 3}. Best is trial 23 with value: 0.8300712690139346.\n",
      "[I 2025-01-14 19:50:08,518] Trial 44 finished with value: 0.8216383599853444 and parameters: {'classifier': 'RandomForest', 'n_estimators': 65, 'max_depth': 6}. Best is trial 23 with value: 0.8300712690139346.\n",
      "[I 2025-01-14 19:50:08,731] Trial 45 finished with value: 0.8300712690139346 and parameters: {'classifier': 'RandomForest', 'n_estimators': 69, 'max_depth': 4}. Best is trial 23 with value: 0.8300712690139346.\n",
      "[I 2025-01-14 19:50:10,488] Trial 46 finished with value: 0.7766963325414554 and parameters: {'classifier': 'GradientBoosting', 'n_estimators': 107, 'learning_rate': 0.2950012561453792, 'max_depth': 10}. Best is trial 23 with value: 0.8300712690139346.\n",
      "[I 2025-01-14 19:50:10,770] Trial 47 finished with value: 0.803371981704074 and parameters: {'classifier': 'RandomForest', 'n_estimators': 67, 'max_depth': 15}. Best is trial 23 with value: 0.8300712690139346.\n",
      "[I 2025-01-14 19:50:11,004] Trial 48 finished with value: 0.8202200711508231 and parameters: {'classifier': 'RandomForest', 'n_estimators': 64, 'max_depth': 8}. Best is trial 23 with value: 0.8300712690139346.\n",
      "[I 2025-01-14 19:50:11,219] Trial 49 finished with value: 0.8019773310167949 and parameters: {'classifier': 'RandomForest', 'n_estimators': 76, 'max_depth': 3}. Best is trial 23 with value: 0.8300712690139346.\n",
      "[I 2025-01-14 19:50:11,423] Trial 50 finished with value: 0.8188313300003545 and parameters: {'classifier': 'RandomForest', 'n_estimators': 61, 'max_depth': 6}. Best is trial 23 with value: 0.8300712690139346.\n",
      "[I 2025-01-14 19:50:11,635] Trial 51 finished with value: 0.8286647992530346 and parameters: {'classifier': 'RandomForest', 'n_estimators': 71, 'max_depth': 4}. Best is trial 23 with value: 0.8300712690139346.\n",
      "[I 2025-01-14 19:50:11,856] Trial 52 finished with value: 0.8286647992530346 and parameters: {'classifier': 'RandomForest', 'n_estimators': 68, 'max_depth': 4}. Best is trial 23 with value: 0.8300712690139346.\n",
      "[I 2025-01-14 19:50:12,081] Trial 53 finished with value: 0.8244572090439551 and parameters: {'classifier': 'RandomForest', 'n_estimators': 72, 'max_depth': 5}. Best is trial 23 with value: 0.8300712690139346.\n",
      "[I 2025-01-14 19:50:12,287] Trial 54 finished with value: 0.8286647992530346 and parameters: {'classifier': 'RandomForest', 'n_estimators': 67, 'max_depth': 4}. Best is trial 23 with value: 0.8300712690139346.\n",
      "[I 2025-01-14 19:50:12,510] Trial 55 finished with value: 0.8061849212258743 and parameters: {'classifier': 'RandomForest', 'n_estimators': 70, 'max_depth': 3}. Best is trial 23 with value: 0.8300712690139346.\n",
      "[I 2025-01-14 19:50:12,754] Trial 56 finished with value: 0.8230448297462445 and parameters: {'classifier': 'RandomForest', 'n_estimators': 73, 'max_depth': 6}. Best is trial 23 with value: 0.8300712690139346.\n",
      "[I 2025-01-14 19:50:13,282] Trial 57 finished with value: 0.7823163020482454 and parameters: {'classifier': 'GradientBoosting', 'n_estimators': 103, 'learning_rate': 0.11509703906024518, 'max_depth': 5}. Best is trial 23 with value: 0.8300712690139346.\n",
      "[I 2025-01-14 19:50:13,546] Trial 58 finished with value: 0.8019714214799843 and parameters: {'classifier': 'RandomForest', 'n_estimators': 77, 'max_depth': 13}. Best is trial 23 with value: 0.8300712690139346.\n",
      "[I 2025-01-14 19:50:13,615] Trial 59 finished with value: 0.7865179827205143 and parameters: {'classifier': 'SVM', 'C': 60.10480300021976, 'kernal': 'poly', 'gamma': 'auto'}. Best is trial 23 with value: 0.8300712690139346.\n",
      "[I 2025-01-14 19:50:13,866] Trial 60 finished with value: 0.7991584819581842 and parameters: {'classifier': 'RandomForest', 'n_estimators': 63, 'max_depth': 19}. Best is trial 23 with value: 0.8300712690139346.\n",
      "[I 2025-01-14 19:50:14,054] Trial 61 finished with value: 0.8300712690139346 and parameters: {'classifier': 'RandomForest', 'n_estimators': 65, 'max_depth': 4}. Best is trial 23 with value: 0.8300712690139346.\n",
      "[I 2025-01-14 19:50:14,249] Trial 62 finished with value: 0.8047843610017846 and parameters: {'classifier': 'RandomForest', 'n_estimators': 69, 'max_depth': 3}. Best is trial 23 with value: 0.8300712690139346.\n",
      "[I 2025-01-14 19:50:14,476] Trial 63 finished with value: 0.8202437092980652 and parameters: {'classifier': 'RandomForest', 'n_estimators': 66, 'max_depth': 5}. Best is trial 23 with value: 0.8300712690139346.\n",
      "[I 2025-01-14 19:50:14,692] Trial 64 finished with value: 0.8286647992530346 and parameters: {'classifier': 'RandomForest', 'n_estimators': 73, 'max_depth': 4}. Best is trial 23 with value: 0.8300712690139346.\n",
      "[I 2025-01-14 19:50:14,896] Trial 65 finished with value: 0.8202437092980652 and parameters: {'classifier': 'RandomForest', 'n_estimators': 66, 'max_depth': 5}. Best is trial 23 with value: 0.8300712690139346.\n",
      "[I 2025-01-14 19:50:15,085] Trial 66 finished with value: 0.8047902705385952 and parameters: {'classifier': 'RandomForest', 'n_estimators': 59, 'max_depth': 3}. Best is trial 23 with value: 0.8300712690139346.\n",
      "[I 2025-01-14 19:50:15,312] Trial 67 finished with value: 0.8230389202094339 and parameters: {'classifier': 'RandomForest', 'n_estimators': 69, 'max_depth': 7}. Best is trial 23 with value: 0.8300712690139346.\n",
      "[I 2025-01-14 19:50:15,472] Trial 68 finished with value: 0.8216324504485338 and parameters: {'classifier': 'RandomForest', 'n_estimators': 51, 'max_depth': 4}. Best is trial 23 with value: 0.8300712690139346.\n",
      "[I 2025-01-14 19:50:16,097] Trial 69 finished with value: 0.782298573437814 and parameters: {'classifier': 'GradientBoosting', 'n_estimators': 95, 'learning_rate': 0.16073258090063636, 'max_depth': 6}. Best is trial 23 with value: 0.8300712690139346.\n",
      "[I 2025-01-14 19:50:16,378] Trial 70 finished with value: 0.8104043305085747 and parameters: {'classifier': 'RandomForest', 'n_estimators': 78, 'max_depth': 9}. Best is trial 23 with value: 0.8300712690139346.\n",
      "[I 2025-01-14 19:50:16,575] Trial 71 finished with value: 0.8286647992530346 and parameters: {'classifier': 'RandomForest', 'n_estimators': 64, 'max_depth': 4}. Best is trial 23 with value: 0.8300712690139346.\n",
      "[I 2025-01-14 19:50:16,736] Trial 72 finished with value: 0.8258577692680448 and parameters: {'classifier': 'RandomForest', 'n_estimators': 61, 'max_depth': 4}. Best is trial 23 with value: 0.8300712690139346.\n",
      "[I 2025-01-14 19:50:16,967] Trial 73 finished with value: 0.823050739283055 and parameters: {'classifier': 'RandomForest', 'n_estimators': 64, 'max_depth': 5}. Best is trial 23 with value: 0.8300712690139346.\n",
      "[I 2025-01-14 19:50:17,175] Trial 74 finished with value: 0.8047784514649742 and parameters: {'classifier': 'RandomForest', 'n_estimators': 71, 'max_depth': 3}. Best is trial 23 with value: 0.8300712690139346.\n",
      "[I 2025-01-14 19:50:17,283] Trial 75 finished with value: 0.7907492110768358 and parameters: {'classifier': 'SVM', 'C': 22.111791137130897, 'kernal': 'linear', 'gamma': 'scale'}. Best is trial 23 with value: 0.8300712690139346.\n",
      "[I 2025-01-14 19:50:17,488] Trial 76 finished with value: 0.8202496188348758 and parameters: {'classifier': 'RandomForest', 'n_estimators': 68, 'max_depth': 5}. Best is trial 23 with value: 0.8300712690139346.\n",
      "[I 2025-01-14 19:50:17,680] Trial 77 finished with value: 0.8089860416740535 and parameters: {'classifier': 'RandomForest', 'n_estimators': 66, 'max_depth': 3}. Best is trial 23 with value: 0.8300712690139346.\n",
      "[I 2025-01-14 19:50:17,901] Trial 78 finished with value: 0.8230448297462445 and parameters: {'classifier': 'RandomForest', 'n_estimators': 74, 'max_depth': 6}. Best is trial 23 with value: 0.8300712690139346.\n",
      "[I 2025-01-14 19:50:18,091] Trial 79 finished with value: 0.8272583294921344 and parameters: {'classifier': 'RandomForest', 'n_estimators': 62, 'max_depth': 4}. Best is trial 23 with value: 0.8300712690139346.\n",
      "[I 2025-01-14 19:50:18,314] Trial 80 finished with value: 0.8019773310167949 and parameters: {'classifier': 'RandomForest', 'n_estimators': 59, 'max_depth': 16}. Best is trial 23 with value: 0.8300712690139346.\n",
      "[I 2025-01-14 19:50:18,541] Trial 81 finished with value: 0.8286647992530346 and parameters: {'classifier': 'RandomForest', 'n_estimators': 71, 'max_depth': 4}. Best is trial 23 with value: 0.8300712690139346.\n",
      "[I 2025-01-14 19:50:18,782] Trial 82 finished with value: 0.8286647992530346 and parameters: {'classifier': 'RandomForest', 'n_estimators': 70, 'max_depth': 4}. Best is trial 23 with value: 0.8300712690139346.\n",
      "[I 2025-01-14 19:50:19,014] Trial 83 finished with value: 0.8202496188348758 and parameters: {'classifier': 'RandomForest', 'n_estimators': 68, 'max_depth': 5}. Best is trial 23 with value: 0.8300712690139346.\n",
      "[I 2025-01-14 19:50:19,242] Trial 84 finished with value: 0.8047784514649742 and parameters: {'classifier': 'RandomForest', 'n_estimators': 75, 'max_depth': 3}. Best is trial 23 with value: 0.8300712690139346.\n",
      "[I 2025-01-14 19:50:19,494] Trial 85 finished with value: 0.8244572090439551 and parameters: {'classifier': 'RandomForest', 'n_estimators': 72, 'max_depth': 5}. Best is trial 23 with value: 0.8300712690139346.\n",
      "[I 2025-01-14 19:50:19,821] Trial 86 finished with value: 0.7724946518691865 and parameters: {'classifier': 'GradientBoosting', 'n_estimators': 89, 'learning_rate': 0.23888320409872882, 'max_depth': 4}. Best is trial 23 with value: 0.8300712690139346.\n",
      "[I 2025-01-14 19:50:20,047] Trial 87 finished with value: 0.8216383599853444 and parameters: {'classifier': 'RandomForest', 'n_estimators': 65, 'max_depth': 6}. Best is trial 23 with value: 0.8300712690139346.\n",
      "[I 2025-01-14 19:50:20,105] Trial 88 finished with value: 0.7949213440650521 and parameters: {'classifier': 'SVM', 'C': 57.7849674698628, 'kernal': 'rbf', 'gamma': 'auto'}. Best is trial 23 with value: 0.8300712690139346.\n",
      "[I 2025-01-14 19:50:20,307] Trial 89 finished with value: 0.8047843610017846 and parameters: {'classifier': 'RandomForest', 'n_estimators': 67, 'max_depth': 3}. Best is trial 23 with value: 0.8300712690139346.\n",
      "[I 2025-01-14 19:50:20,539] Trial 90 finished with value: 0.8230389202094339 and parameters: {'classifier': 'RandomForest', 'n_estimators': 70, 'max_depth': 7}. Best is trial 23 with value: 0.8300712690139346.\n",
      "[I 2025-01-14 19:50:20,768] Trial 91 finished with value: 0.8286647992530346 and parameters: {'classifier': 'RandomForest', 'n_estimators': 71, 'max_depth': 4}. Best is trial 23 with value: 0.8300712690139346.\n",
      "[I 2025-01-14 19:50:20,990] Trial 92 finished with value: 0.8300712690139346 and parameters: {'classifier': 'RandomForest', 'n_estimators': 69, 'max_depth': 4}. Best is trial 23 with value: 0.8300712690139346.\n",
      "[I 2025-01-14 19:50:21,202] Trial 93 finished with value: 0.8188431490739756 and parameters: {'classifier': 'RandomForest', 'n_estimators': 69, 'max_depth': 5}. Best is trial 23 with value: 0.8300712690139346.\n",
      "[I 2025-01-14 19:50:21,419] Trial 94 finished with value: 0.8047784514649742 and parameters: {'classifier': 'RandomForest', 'n_estimators': 74, 'max_depth': 3}. Best is trial 23 with value: 0.8300712690139346.\n",
      "[I 2025-01-14 19:50:21,620] Trial 95 finished with value: 0.8300712690139346 and parameters: {'classifier': 'RandomForest', 'n_estimators': 65, 'max_depth': 4}. Best is trial 23 with value: 0.8300712690139346.\n",
      "[I 2025-01-14 19:50:21,821] Trial 96 finished with value: 0.8244572090439551 and parameters: {'classifier': 'RandomForest', 'n_estimators': 65, 'max_depth': 5}. Best is trial 23 with value: 0.8300712690139346.\n",
      "[I 2025-01-14 19:50:22,025] Trial 97 finished with value: 0.8286647992530346 and parameters: {'classifier': 'RandomForest', 'n_estimators': 67, 'max_depth': 4}. Best is trial 23 with value: 0.8300712690139346.\n",
      "[I 2025-01-14 19:50:22,226] Trial 98 finished with value: 0.818825420463544 and parameters: {'classifier': 'RandomForest', 'n_estimators': 63, 'max_depth': 6}. Best is trial 23 with value: 0.8300712690139346.\n",
      "[I 2025-01-14 19:50:22,457] Trial 99 finished with value: 0.8160124809417438 and parameters: {'classifier': 'RandomForest', 'n_estimators': 68, 'max_depth': 11}. Best is trial 23 with value: 0.8300712690139346.\n"
     ]
    }
   ],
   "source": [
    "study3 = optuna.create_study(direction=\"maximize\")\n",
    "study3.optimize(objective_algo , n_trials= 100)"
   ]
  },
  {
   "cell_type": "code",
   "execution_count": 28,
   "metadata": {},
   "outputs": [
    {
     "data": {
      "text/plain": [
       "{'classifier': 'RandomForest', 'n_estimators': 69, 'max_depth': 4}"
      ]
     },
     "execution_count": 28,
     "metadata": {},
     "output_type": "execute_result"
    }
   ],
   "source": [
    "study3.best_params"
   ]
  },
  {
   "cell_type": "code",
   "execution_count": 32,
   "metadata": {},
   "outputs": [
    {
     "data": {
      "text/plain": [
       "params_classifier\n",
       "RandomForest        79\n",
       "SVM                 11\n",
       "GradientBoosting    10\n",
       "Name: count, dtype: int64"
      ]
     },
     "execution_count": 32,
     "metadata": {},
     "output_type": "execute_result"
    }
   ],
   "source": [
    "study3.trials_dataframe()[\"params_classifier\"].value_counts()"
   ]
  },
  {
   "cell_type": "code",
   "execution_count": 34,
   "metadata": {},
   "outputs": [
    {
     "data": {
      "text/plain": [
       "params_classifier\n",
       "GradientBoosting    0.780767\n",
       "RandomForest        0.818725\n",
       "SVM                 0.774143\n",
       "Name: value, dtype: float64"
      ]
     },
     "execution_count": 34,
     "metadata": {},
     "output_type": "execute_result"
    }
   ],
   "source": [
    "study3.trials_dataframe().groupby('params_classifier')[\"value\"].mean()"
   ]
  },
  {
   "cell_type": "code",
   "execution_count": null,
   "metadata": {},
   "outputs": [],
   "source": []
  }
 ],
 "metadata": {
  "kernelspec": {
   "display_name": "Python 3",
   "language": "python",
   "name": "python3"
  },
  "language_info": {
   "codemirror_mode": {
    "name": "ipython",
    "version": 3
   },
   "file_extension": ".py",
   "mimetype": "text/x-python",
   "name": "python",
   "nbconvert_exporter": "python",
   "pygments_lexer": "ipython3",
   "version": "3.12.2"
  }
 },
 "nbformat": 4,
 "nbformat_minor": 2
}
