{
 "cells": [
  {
   "cell_type": "code",
   "execution_count": 5,
   "metadata": {},
   "outputs": [],
   "source": [
    "import torch\n",
    "import pandas as pd\n",
    "import torch.nn as nn \n",
    "import torch.optim as opt\n",
    "from sklearn.preprocessing import LabelEncoder , StandardScaler , OneHotEncoder\n",
    "from sklearn.model_selection import train_test_split\n",
    "from sklearn.impute import SimpleImputer"
   ]
  },
  {
   "cell_type": "code",
   "execution_count": 6,
   "metadata": {},
   "outputs": [
    {
     "data": {
      "text/html": [
       "<div>\n",
       "<style scoped>\n",
       "    .dataframe tbody tr th:only-of-type {\n",
       "        vertical-align: middle;\n",
       "    }\n",
       "\n",
       "    .dataframe tbody tr th {\n",
       "        vertical-align: top;\n",
       "    }\n",
       "\n",
       "    .dataframe thead th {\n",
       "        text-align: right;\n",
       "    }\n",
       "</style>\n",
       "<table border=\"1\" class=\"dataframe\">\n",
       "  <thead>\n",
       "    <tr style=\"text-align: right;\">\n",
       "      <th></th>\n",
       "      <th>PassengerId</th>\n",
       "      <th>Survived</th>\n",
       "      <th>Pclass</th>\n",
       "      <th>Name</th>\n",
       "      <th>Sex</th>\n",
       "      <th>Age</th>\n",
       "      <th>SibSp</th>\n",
       "      <th>Parch</th>\n",
       "      <th>Ticket</th>\n",
       "      <th>Fare</th>\n",
       "      <th>Cabin</th>\n",
       "      <th>Embarked</th>\n",
       "    </tr>\n",
       "  </thead>\n",
       "  <tbody>\n",
       "    <tr>\n",
       "      <th>649</th>\n",
       "      <td>650</td>\n",
       "      <td>1</td>\n",
       "      <td>3</td>\n",
       "      <td>Stanley, Miss. Amy Zillah Elsie</td>\n",
       "      <td>female</td>\n",
       "      <td>23.0</td>\n",
       "      <td>0</td>\n",
       "      <td>0</td>\n",
       "      <td>CA. 2314</td>\n",
       "      <td>7.550</td>\n",
       "      <td>NaN</td>\n",
       "      <td>S</td>\n",
       "    </tr>\n",
       "    <tr>\n",
       "      <th>322</th>\n",
       "      <td>323</td>\n",
       "      <td>1</td>\n",
       "      <td>2</td>\n",
       "      <td>Slayter, Miss. Hilda Mary</td>\n",
       "      <td>female</td>\n",
       "      <td>30.0</td>\n",
       "      <td>0</td>\n",
       "      <td>0</td>\n",
       "      <td>234818</td>\n",
       "      <td>12.350</td>\n",
       "      <td>NaN</td>\n",
       "      <td>Q</td>\n",
       "    </tr>\n",
       "    <tr>\n",
       "      <th>12</th>\n",
       "      <td>13</td>\n",
       "      <td>0</td>\n",
       "      <td>3</td>\n",
       "      <td>Saundercock, Mr. William Henry</td>\n",
       "      <td>male</td>\n",
       "      <td>20.0</td>\n",
       "      <td>0</td>\n",
       "      <td>0</td>\n",
       "      <td>A/5. 2151</td>\n",
       "      <td>8.050</td>\n",
       "      <td>NaN</td>\n",
       "      <td>S</td>\n",
       "    </tr>\n",
       "    <tr>\n",
       "      <th>16</th>\n",
       "      <td>17</td>\n",
       "      <td>0</td>\n",
       "      <td>3</td>\n",
       "      <td>Rice, Master. Eugene</td>\n",
       "      <td>male</td>\n",
       "      <td>2.0</td>\n",
       "      <td>4</td>\n",
       "      <td>1</td>\n",
       "      <td>382652</td>\n",
       "      <td>29.125</td>\n",
       "      <td>NaN</td>\n",
       "      <td>Q</td>\n",
       "    </tr>\n",
       "    <tr>\n",
       "      <th>777</th>\n",
       "      <td>778</td>\n",
       "      <td>1</td>\n",
       "      <td>3</td>\n",
       "      <td>Emanuel, Miss. Virginia Ethel</td>\n",
       "      <td>female</td>\n",
       "      <td>5.0</td>\n",
       "      <td>0</td>\n",
       "      <td>0</td>\n",
       "      <td>364516</td>\n",
       "      <td>12.475</td>\n",
       "      <td>NaN</td>\n",
       "      <td>S</td>\n",
       "    </tr>\n",
       "  </tbody>\n",
       "</table>\n",
       "</div>"
      ],
      "text/plain": [
       "     PassengerId  Survived  Pclass                             Name     Sex  \\\n",
       "649          650         1       3  Stanley, Miss. Amy Zillah Elsie  female   \n",
       "322          323         1       2        Slayter, Miss. Hilda Mary  female   \n",
       "12            13         0       3   Saundercock, Mr. William Henry    male   \n",
       "16            17         0       3             Rice, Master. Eugene    male   \n",
       "777          778         1       3    Emanuel, Miss. Virginia Ethel  female   \n",
       "\n",
       "      Age  SibSp  Parch     Ticket    Fare Cabin Embarked  \n",
       "649  23.0      0      0   CA. 2314   7.550   NaN        S  \n",
       "322  30.0      0      0     234818  12.350   NaN        Q  \n",
       "12   20.0      0      0  A/5. 2151   8.050   NaN        S  \n",
       "16    2.0      4      1     382652  29.125   NaN        Q  \n",
       "777   5.0      0      0     364516  12.475   NaN        S  "
      ]
     },
     "execution_count": 6,
     "metadata": {},
     "output_type": "execute_result"
    }
   ],
   "source": [
    "df = pd.read_csv(\"Dataset/Titanic/train.csv\")\n",
    "df.sample(5)"
   ]
  },
  {
   "cell_type": "markdown",
   "metadata": {},
   "source": [
    "### Preprocess the data"
   ]
  },
  {
   "cell_type": "code",
   "execution_count": 7,
   "metadata": {},
   "outputs": [],
   "source": [
    "# Preprocss the datset\n",
    "df = df.drop(columns= ['Name' , 'Cabin' ,\"PassengerId\" , \"Ticket\"])\n",
    "\n",
    "# Split the dataset\n",
    "y = df['Survived']\n",
    "X = df.drop(columns= ['Survived'])\n",
    "X_train , x_test , y_train , y_test = train_test_split(X, y , test_size= 0.2 , random_state= 42)\n",
    "X_train.shape , x_test.shape\n",
    "\n",
    "# impuation for Age\n",
    "Si = SimpleImputer(strategy= \"mean\")\n",
    "X_train['Age'] = Si.fit_transform(X_train[['Age']])\n",
    "x_test['Age'] = Si.transform(x_test[[\"Age\"]])\n",
    "\n",
    "# Impuation for Embarked\n",
    "X_train = X_train.fillna({'Embarked': 'missing'})  # Replace with 'missing' instead of dropping\n",
    "x_test = x_test.fillna({'Embarked': 'missing'})\n",
    "\n",
    "# OHE\n",
    "object_columns = X_train.select_dtypes(include=['object']).columns.tolist()\n",
    "ohe = OneHotEncoder(sparse_output= False)\n",
    "\n",
    "X_train_ohe_encoder = ohe.fit_transform(X_train[object_columns])\n",
    "x_test_ohe_encoder = ohe.transform(x_test[object_columns])\n",
    "\n",
    "X_train_ohe_df = pd.DataFrame(X_train_ohe_encoder , columns= ohe.get_feature_names_out(object_columns), index= X_train.index)\n",
    "x_test_ohe_df = pd.DataFrame(x_test_ohe_encoder , columns= ohe.get_feature_names_out(object_columns) , index= x_test.index)\n",
    "\n",
    "X_train = pd.concat([X_train , X_train_ohe_df] , axis= 1)\n",
    "x_test = pd.concat([x_test , x_test_ohe_df] , axis= 1)\n",
    "\n",
    "X_train = X_train.drop(object_columns , axis= 1)\n",
    "x_test = x_test.drop(object_columns , axis= 1)\n",
    "\n",
    "# Scale Values\n",
    "scaler = StandardScaler()\n",
    "X_train = scaler.fit_transform(X_train)\n",
    "x_test = scaler.transform(x_test)\n",
    "\n"
   ]
  },
  {
   "cell_type": "code",
   "execution_count": 8,
   "metadata": {},
   "outputs": [
    {
     "data": {
      "text/plain": [
       "((712, 11), (712,))"
      ]
     },
     "execution_count": 8,
     "metadata": {},
     "output_type": "execute_result"
    }
   ],
   "source": [
    "# Label Encoder\n",
    "LE = LabelEncoder()\n",
    "y_train = LE.fit_transform(y_train)\n",
    "y_test = LE.transform(y_test)\n",
    "X_train.shape , y_train.shape"
   ]
  },
  {
   "cell_type": "markdown",
   "metadata": {},
   "source": [
    "### Started with NN Module"
   ]
  },
  {
   "cell_type": "code",
   "execution_count": 9,
   "metadata": {},
   "outputs": [],
   "source": [
    "# Converting into tensor\n",
    "import numpy as np \n",
    "\n",
    "X_train = np.array(X_train)\n",
    "x_test = np.array(x_test)\n",
    "X_train = torch.from_numpy(X_train)\n",
    "x_test = torch.from_numpy(x_test)\n",
    "y_test = torch.from_numpy(y_test)\n",
    "y_train = torch.from_numpy(y_train)"
   ]
  },
  {
   "cell_type": "code",
   "execution_count": 39,
   "metadata": {},
   "outputs": [],
   "source": [
    "# Model Creation\n",
    "class NeuralNetwork(nn.Module):\n",
    "    def __init__(self , Feature_count):\n",
    "        super().__init__() \n",
    "        self.linear1 = nn.Linear(Feature_count , 5)\n",
    "        self.relu1 = nn.ReLU()\n",
    "        self.linear2 = nn.Linear( 5 ,3 )\n",
    "        self.relu2 = nn.ReLU()\n",
    "        self.linear3 = nn.Linear(3 ,1)\n",
    "        self.sigmoid = nn.Sigmoid()\n",
    "        \n",
    "    def forward(self , features):\n",
    "        out = self.linear1(features)\n",
    "        out = self.relu1(out)\n",
    "        out = self.linear2(out)\n",
    "        out = self.relu2(out)\n",
    "        out = self.linear3(out)\n",
    "        out = self.sigmoid(out)\n",
    "        \n",
    "        return out\n",
    "        \n"
   ]
  },
  {
   "cell_type": "code",
   "execution_count": null,
   "metadata": {},
   "outputs": [],
   "source": [
    "X_train = X_train.to(dtype= torch.float32)\n",
    "x_test = x_test.to(dtype= torch.float32)\n",
    "\n",
    "# Creating model instance\n",
    "model = NeuralNetwork(X_train.shape[1])\n",
    "output = model(X_train) "
   ]
  },
  {
   "cell_type": "code",
   "execution_count": 56,
   "metadata": {},
   "outputs": [],
   "source": [
    "# using Sequentailly container \n",
    "# Model Creation\n",
    "class NeuralNetworkFinal(nn.Module):\n",
    "    def __init__(self , Feature_count):\n",
    "        super().__init__() \n",
    "        self.network = nn.Sequential(       \n",
    "        nn.Linear(Feature_count , 5),\n",
    "        nn.ReLU(),\n",
    "        nn.Linear( 5 ,3 ),\n",
    "        nn.ReLU(),\n",
    "        nn.Linear(3 ,1),\n",
    "        nn.Sigmoid()\n",
    "        )\n",
    "\n",
    "        \n",
    "    def forward(self , features):\n",
    "        out = self.network(features)   \n",
    "        return out\n",
    "\n",
    "loss_funtion = nn.BCELoss()\n",
    "    "
   ]
  },
  {
   "cell_type": "code",
   "execution_count": 57,
   "metadata": {},
   "outputs": [
    {
     "data": {
      "text/plain": [
       "==========================================================================================\n",
       "Layer (type:depth-idx)                   Output Shape              Param #\n",
       "==========================================================================================\n",
       "NeuralNetworkFinal                       [712, 1]                  --\n",
       "├─Sequential: 1-1                        [712, 1]                  --\n",
       "│    └─Linear: 2-1                       [712, 5]                  60\n",
       "│    └─ReLU: 2-2                         [712, 5]                  --\n",
       "│    └─Linear: 2-3                       [712, 3]                  18\n",
       "│    └─ReLU: 2-4                         [712, 3]                  --\n",
       "│    └─Linear: 2-5                       [712, 1]                  4\n",
       "│    └─Sigmoid: 2-6                      [712, 1]                  --\n",
       "==========================================================================================\n",
       "Total params: 82\n",
       "Trainable params: 82\n",
       "Non-trainable params: 0\n",
       "Total mult-adds (Units.MEGABYTES): 0.06\n",
       "==========================================================================================\n",
       "Input size (MB): 0.03\n",
       "Forward/backward pass size (MB): 0.05\n",
       "Params size (MB): 0.00\n",
       "Estimated Total Size (MB): 0.08\n",
       "=========================================================================================="
      ]
     },
     "execution_count": 57,
     "metadata": {},
     "output_type": "execute_result"
    }
   ],
   "source": [
    "from torchinfo import summary\n",
    "summary(model , (712, 11))"
   ]
  },
  {
   "cell_type": "code",
   "execution_count": 65,
   "metadata": {},
   "outputs": [
    {
     "name": "stdout",
     "output_type": "stream",
     "text": [
      "Epoch : 1 , loss : 0.6766059994697571\n",
      "Epoch : 2 , loss : 0.6544550061225891\n",
      "Epoch : 3 , loss : 0.6349020004272461\n",
      "Epoch : 4 , loss : 0.5925192832946777\n",
      "Epoch : 5 , loss : 0.5456644892692566\n",
      "Epoch : 6 , loss : 0.511436402797699\n",
      "Epoch : 7 , loss : 0.49427562952041626\n",
      "Epoch : 8 , loss : 0.48216015100479126\n",
      "Epoch : 9 , loss : 0.4751865863800049\n",
      "Epoch : 10 , loss : 0.47200942039489746\n",
      "Epoch : 11 , loss : 0.46690189838409424\n",
      "Epoch : 12 , loss : 0.4580709934234619\n",
      "Epoch : 13 , loss : 0.4530668258666992\n",
      "Epoch : 14 , loss : 0.4514634311199188\n",
      "Epoch : 15 , loss : 0.4494212865829468\n",
      "Epoch : 16 , loss : 0.44515639543533325\n",
      "Epoch : 17 , loss : 0.44076114892959595\n",
      "Epoch : 18 , loss : 0.4376930594444275\n",
      "Epoch : 19 , loss : 0.4343379735946655\n",
      "Epoch : 20 , loss : 0.4265476167201996\n"
     ]
    }
   ],
   "source": [
    "lr = 0.1\n",
    "epoch = 20\n",
    "X_train = X_train.to(dtype= torch.float32)\n",
    "x_test = x_test.to(dtype= torch.float32)\n",
    "y_test = y_test.to(dtype= torch.float32)\n",
    "y_train = y_train.to(dtype= torch.float32)\n",
    "\n",
    "# Creating model instance\n",
    "model = NeuralNetworkFinal(X_train.shape[1])\n",
    "optimiser = opt.Adam(model.parameters() , lr)\n",
    " \n",
    "\n",
    "for ep in range(epoch):\n",
    "    # Forward pass\n",
    "    y_pred = model(X_train)\n",
    "    \n",
    "    # Loss calculation\n",
    "    loss = loss_funtion(y_pred , y_train.view(-1 ,1 ))\n",
    "    \n",
    "    # clear gradient \n",
    "    optimiser.zero_grad()\n",
    "    \n",
    "    # Backprog loss\n",
    "    loss.backward()\n",
    "    \n",
    "    # paramter upadates\n",
    "    optimiser.step()\n",
    "    \n",
    "    print(f\"Epoch : {ep+1} , loss : {loss}\")\n",
    "    "
   ]
  },
  {
   "cell_type": "code",
   "execution_count": 66,
   "metadata": {},
   "outputs": [
    {
     "name": "stdout",
     "output_type": "stream",
     "text": [
      "Accuracy: 0.5304765701293945\n"
     ]
    }
   ],
   "source": [
    "# Evaluate the model\n",
    "\n",
    "with torch.no_grad():\n",
    "    y_pred = model.forward(x_test)\n",
    "    y_pred = (y_pred > 0.6).float()  # threshold = 0.6\n",
    "    \n",
    "    acc = (y_pred == y_test).float().mean() # to calculate accuracy\n",
    "    \n",
    "    print(f\"Accuracy: {acc}\")\n",
    "    "
   ]
  }
 ],
 "metadata": {
  "kernelspec": {
   "display_name": "Python 3",
   "language": "python",
   "name": "python3"
  },
  "language_info": {
   "codemirror_mode": {
    "name": "ipython",
    "version": 3
   },
   "file_extension": ".py",
   "mimetype": "text/x-python",
   "name": "python",
   "nbconvert_exporter": "python",
   "pygments_lexer": "ipython3",
   "version": "3.12.2"
  }
 },
 "nbformat": 4,
 "nbformat_minor": 2
}
