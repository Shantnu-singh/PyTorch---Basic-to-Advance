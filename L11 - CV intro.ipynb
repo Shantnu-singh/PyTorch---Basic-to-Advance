{
 "cells": [
  {
   "cell_type": "markdown",
   "metadata": {},
   "source": [
    "### CV - image classification, Image segemation , Image object detection\n"
   ]
  },
  {
   "cell_type": "code",
   "execution_count": 1,
   "metadata": {},
   "outputs": [],
   "source": [
    "import torch\n",
    "import torchvision\n",
    "import torch.nn as nn \n",
    "from torch.utils.data import DataLoader , Dataset\n",
    "from torchvision.transforms import ToTensor\n",
    "import matplotlib.pyplot as plt\n",
    "import torch.optim as opti"
   ]
  },
  {
   "cell_type": "code",
   "execution_count": 2,
   "metadata": {},
   "outputs": [],
   "source": [
    "import pandas as pd\n",
    "df = pd.read_csv(\"Dataset/Mnist/train.csv\")\n",
    "df = df[:10000]"
   ]
  },
  {
   "cell_type": "code",
   "execution_count": 3,
   "metadata": {},
   "outputs": [],
   "source": [
    "import numpy as np\n",
    "from sklearn.model_selection import train_test_split\n",
    "\n",
    "y = df[\"label\"]\n",
    "x = df.drop(columns= [\"label\"])\n",
    "x_train , x_test , y_train , y_test  = train_test_split(x , y , test_size= 0.2 , random_state= 42)\n",
    "x_train.shape , y_train.shape\n",
    "\n",
    "x_train = np.array(x_train)\n",
    "x_test = np.array(x_test)\n",
    "y_test = np.array(y_test)\n",
    "y_train = np.array(y_train)"
   ]
  },
  {
   "cell_type": "code",
   "execution_count": 4,
   "metadata": {},
   "outputs": [],
   "source": [
    "x_train = x_train.reshape(x_train.shape[0] , 28 , 28)\n",
    "x_test = x_test.reshape(x_test.shape[0] , 28 , 28)"
   ]
  },
  {
   "cell_type": "code",
   "execution_count": null,
   "metadata": {},
   "outputs": [
    {
     "data": {
      "image/png": "[encoded data removed]",
      "text/plain": [
       "<Figure size 900x900 with 16 Axes>"
      ]
     },
     "metadata": {},
     "output_type": "display_data"
    }
   ],
   "source": [
    "torch.manual_seed(42)\n",
    "fig = plt.figure(figsize=(9 , 9))\n",
    "row, col = 4 , 4\n",
    "\n",
    "for i in range(1, row*col+1):\n",
    "    rand_inx = torch.randint(0 , len(x_train), size = [1]).item()\n",
    "    \n",
    "    fig.add_subplot(row , col , i)\n",
    "    plt.imshow(x_train[rand_inx], cmap= \"gray\")\n",
    "    plt.title(y_train[rand_inx])\n",
    "    plt.axis(False)\n",
    "    plt.tight_layout()"
   ]
  },
  {
   "cell_type": "code",
   "execution_count": 6,
   "metadata": {},
   "outputs": [],
   "source": [
    "# Converting in tensors\n",
    "x_train = torch.from_numpy(x_train)\n",
    "x_test = torch.from_numpy(x_test)\n",
    "y_train = torch.from_numpy(y_train)\n",
    "y_test = torch.from_numpy(y_test)\n",
    "\n",
    "# To make the dim \n",
    "x_train = x_train.unsqueeze_(dim= 1)\n",
    "x_test = x_test.unsqueeze_(dim= 1)"
   ]
  },
  {
   "cell_type": "code",
   "execution_count": 7,
   "metadata": {},
   "outputs": [],
   "source": [
    "# Create Dataset\n",
    "class CustomeDataset(Dataset):\n",
    "    def __init__(self, features , labales):\n",
    "        self.labels = labales\n",
    "        self.features = features\n",
    "        # Tranform data\n",
    "        self.features = self.features.to(dtype = torch.float32)\n",
    "        self.labels = self.labels.to(dtype = torch.long)\n",
    "        self.features = self.features/255.0\n",
    "        \n",
    "        \n",
    "    def __len__(self):\n",
    "        return self.features.shape[0]\n",
    "    \n",
    "    def __getitem__(self , index):\n",
    "        return self.features[index] , self.labels[index]\n",
    "    "
   ]
  },
  {
   "cell_type": "code",
   "execution_count": 8,
   "metadata": {},
   "outputs": [],
   "source": [
    "# Model Class\n",
    "class NeuralNetwork(nn.Module):\n",
    "    def __init__(self,features_count):\n",
    "        super().__init__()\n",
    "        self.network = nn.Sequential(\n",
    "            nn.Flatten(),\n",
    "            nn.Linear(784 , 256),\n",
    "            nn.BatchNorm1d(256),\n",
    "            nn.ReLU(),\n",
    "            nn.Dropout(0.4),\n",
    "            nn.Linear(256 , 128),\n",
    "            nn.BatchNorm1d(128),\n",
    "            nn.ReLU(),\n",
    "            nn.Dropout(0.4),\n",
    "            nn.Linear(128 , 10)\n",
    "        )\n",
    "        \n",
    "    def forward(self , features):\n",
    "        out = self.network(features)\n",
    "        return out\n",
    "    \n",
    "loss_function = nn.CrossEntropyLoss()"
   ]
  },
  {
   "cell_type": "code",
   "execution_count": 9,
   "metadata": {},
   "outputs": [],
   "source": [
    "# Hyperparamter \n",
    "lr = 0.01\n",
    "batch_size = 16\n",
    "epochs = 20"
   ]
  },
  {
   "cell_type": "code",
   "execution_count": 10,
   "metadata": {},
   "outputs": [],
   "source": [
    "# Train Dataset\n",
    "train_dataset = CustomeDataset(x_train , y_train)\n",
    "train_dataloder = DataLoader(train_dataset , shuffle= True , batch_size= batch_size)\n",
    "\n",
    "# Test Dataset\n",
    "test_dataset = CustomeDataset(x_test , y_test)\n",
    "test_dataloder = DataLoader(test_dataset , shuffle= True , batch_size= batch_size)\n"
   ]
  },
  {
   "cell_type": "code",
   "execution_count": 11,
   "metadata": {},
   "outputs": [
    {
     "name": "stdout",
     "output_type": "stream",
     "text": [
      "torch.Size([16, 1, 28, 28])\n",
      "torch.Size([16])\n"
     ]
    }
   ],
   "source": [
    "for d , l in train_dataloder:\n",
    "    print(d.shape) # shape of img data\n",
    "    print(l.shape) # shape of label\n",
    "    break"
   ]
  },
  {
   "cell_type": "code",
   "execution_count": 12,
   "metadata": {},
   "outputs": [],
   "source": [
    "# Init model\n",
    "device = torch.device(\"cude\" if torch.cuda.is_available() else \"cpu\")\n",
    "\n",
    "model = NeuralNetwork(x_train.shape[0])\n",
    "model = model.to(device)\n",
    "opt = opti.Adam(model.parameters() , lr = lr , weight_decay= 1e-7)"
   ]
  },
  {
   "cell_type": "code",
   "execution_count": 13,
   "metadata": {},
   "outputs": [
    {
     "data": {
      "text/plain": [
       "torch.Size([8000, 1, 28, 28])"
      ]
     },
     "execution_count": 13,
     "metadata": {},
     "output_type": "execute_result"
    }
   ],
   "source": [
    "x_train.shape"
   ]
  },
  {
   "cell_type": "code",
   "execution_count": 14,
   "metadata": {},
   "outputs": [
    {
     "data": {
      "text/plain": [
       "==========================================================================================\n",
       "Layer (type:depth-idx)                   Output Shape              Param #\n",
       "==========================================================================================\n",
       "NeuralNetwork                            [8000, 10]                --\n",
       "├─Sequential: 1-1                        [8000, 10]                --\n",
       "│    └─Flatten: 2-1                      [8000, 784]               --\n",
       "│    └─Linear: 2-2                       [8000, 256]               200,960\n",
       "│    └─BatchNorm1d: 2-3                  [8000, 256]               512\n",
       "│    └─ReLU: 2-4                         [8000, 256]               --\n",
       "│    └─Dropout: 2-5                      [8000, 256]               --\n",
       "│    └─Linear: 2-6                       [8000, 128]               32,896\n",
       "│    └─BatchNorm1d: 2-7                  [8000, 128]               256\n",
       "│    └─ReLU: 2-8                         [8000, 128]               --\n",
       "│    └─Dropout: 2-9                      [8000, 128]               --\n",
       "│    └─Linear: 2-10                      [8000, 10]                1,290\n",
       "==========================================================================================\n",
       "Total params: 235,914\n",
       "Trainable params: 235,914\n",
       "Non-trainable params: 0\n",
       "Total mult-adds (Units.GIGABYTES): 1.89\n",
       "==========================================================================================\n",
       "Input size (MB): 25.09\n",
       "Forward/backward pass size (MB): 49.79\n",
       "Params size (MB): 0.94\n",
       "Estimated Total Size (MB): 75.82\n",
       "=========================================================================================="
      ]
     },
     "execution_count": 14,
     "metadata": {},
     "output_type": "execute_result"
    }
   ],
   "source": [
    "from torchinfo import summary\n",
    "# model.state_dict() another way to see the model paramater\n",
    "summary(model , input_size=(8000, 1, 28, 28))"
   ]
  },
  {
   "cell_type": "code",
   "execution_count": 27,
   "metadata": {},
   "outputs": [],
   "source": [
    "# Accuracy function\n",
    "def accuarcy_cal(y_true , y_pred):\n",
    "    correct = torch.eq(y_true, y_pred).sum().item()\n",
    "    acc = correct/len(y_pred)\n",
    "    return acc*100"
   ]
  },
  {
   "cell_type": "code",
   "execution_count": 30,
   "metadata": {},
   "outputs": [
    {
     "data": {
      "application/vnd.jupyter.widget-view+json": {
       "model_id": "6007716376ec475fba99a471699be41b",
       "version_major": 2,
       "version_minor": 0
      },
      "text/plain": [
       "  0%|          | 0/20 [00:00<?, ?it/s]"
      ]
     },
     "metadata": {},
     "output_type": "display_data"
    },
    {
     "name": "stdout",
     "output_type": "stream",
     "text": [
      "Epoch : 1 Train Loss : 0.19762083888053894 Test Loss : 0.12397927790880203 Test accuracy : 96.35\n",
      "Epoch : 2 Train Loss : 0.18322524428367615 Test Loss : 0.1090831309556961 Test accuracy : 96.7\n",
      "Epoch : 3 Train Loss : 0.18791761994361877 Test Loss : 0.1161140650510788 Test accuracy : 96.75\n",
      "Epoch : 4 Train Loss : 0.19434577226638794 Test Loss : 0.1140095442533493 Test accuracy : 96.55\n",
      "Epoch : 5 Train Loss : 0.1900174766778946 Test Loss : 0.11202647536993027 Test accuracy : 96.55\n",
      "Epoch : 6 Train Loss : 0.17241159081459045 Test Loss : 0.1116248071193695 Test accuracy : 96.45\n",
      "Epoch : 7 Train Loss : 0.17933030426502228 Test Loss : 0.1179431676864624 Test accuracy : 96.65\n",
      "Epoch : 8 Train Loss : 0.17379061877727509 Test Loss : 0.11149494349956512 Test accuracy : 96.9\n",
      "Epoch : 9 Train Loss : 0.17881786823272705 Test Loss : 0.12745293974876404 Test accuracy : 96.7\n",
      "Epoch : 10 Train Loss : 0.16799981892108917 Test Loss : 0.11547832936048508 Test accuracy : 96.65\n",
      "Epoch : 11 Train Loss : 0.17866398394107819 Test Loss : 0.116380475461483 Test accuracy : 96.4\n",
      "Epoch : 12 Train Loss : 0.16733774542808533 Test Loss : 0.10951101779937744 Test accuracy : 97.15\n",
      "Epoch : 13 Train Loss : 0.16273026168346405 Test Loss : 0.11467030644416809 Test accuracy : 96.8\n",
      "Epoch : 14 Train Loss : 0.1568620651960373 Test Loss : 0.10760782659053802 Test accuracy : 96.75\n",
      "Epoch : 15 Train Loss : 0.1637653112411499 Test Loss : 0.1229945719242096 Test accuracy : 96.3\n",
      "Epoch : 16 Train Loss : 0.15728142857551575 Test Loss : 0.1175411269068718 Test accuracy : 96.8\n",
      "Epoch : 17 Train Loss : 0.13947618007659912 Test Loss : 0.1181124821305275 Test accuracy : 96.8\n",
      "Epoch : 18 Train Loss : 0.15138284862041473 Test Loss : 0.11393141746520996 Test accuracy : 96.95\n",
      "Epoch : 19 Train Loss : 0.1631350815296173 Test Loss : 0.10747040808200836 Test accuracy : 96.8\n",
      "Epoch : 20 Train Loss : 0.15125955641269684 Test Loss : 0.12217973917722702 Test accuracy : 96.65\n"
     ]
    }
   ],
   "source": [
    "from tqdm.auto import tqdm\n",
    "\n",
    "for epoch in tqdm(range(epochs)):\n",
    "    batch_loss = 0\n",
    "    for batch , (batch_feature , batch_label) in enumerate(train_dataloder):\n",
    "        \n",
    "        # Model in Traning Mode\n",
    "        model.train()\n",
    "        \n",
    "        # Move to device\n",
    "        batch_feature , batch_label = batch_feature.to(device) , batch_label.to(device)\n",
    "        \n",
    "        # forward \n",
    "        y_pred = model(batch_feature) \n",
    "        \n",
    "        # Loss calculation\n",
    "        loss = loss_function(y_pred , batch_label)\n",
    "        batch_loss += loss\n",
    "        \n",
    "        # Backward \n",
    "        opt.zero_grad() \n",
    "        loss.backward()\n",
    "        \n",
    "        # Weight updates\n",
    "        opt.step()\n",
    "        \n",
    "    # model in Evalution model\n",
    "    \n",
    "    test_loss, test_acc = 0 , 0\n",
    "    model.eval()\n",
    "    with torch.inference_mode():\n",
    "        for batch_feature , batch_label in test_dataloder:\n",
    "            \n",
    "            # Forward pass   \n",
    "            y_pred = model(batch_feature)\n",
    "            \n",
    "            # loss caculation\n",
    "            test_loss += loss_function(y_pred , batch_label)\n",
    "            \n",
    "            # Calculate accuracy\n",
    "            \n",
    "            test_acc += accuarcy_cal(y_true= batch_label , y_pred= torch.argmax(y_pred , dim= 1))\n",
    "        \n",
    "        test_loss = test_loss/len(test_dataloder)\n",
    "        test_acc /= len(test_dataloder)\n",
    "    \n",
    "    print(f\"Epoch : {epoch+1} Train Loss : {batch_loss/len(train_dataloder)} Test Loss : {test_loss} Test accuracy : {test_acc}\")"
   ]
  },
  {
   "cell_type": "code",
   "execution_count": 32,
   "metadata": {},
   "outputs": [
    {
     "data": {
      "text/plain": [
       "(tensor([2, 7, 8, 2, 3, 1, 2, 7, 1, 9]),\n",
       " tensor([2, 7, 8, 2, 3, 1, 2, 7, 1, 9]))"
      ]
     },
     "execution_count": 32,
     "metadata": {},
     "output_type": "execute_result"
    }
   ],
   "source": [
    "model.eval()\n",
    "temp = model(test_dataset[:10][0])\n",
    "torch.argmax(temp, dim = 1) , test_dataset[:10][1]"
   ]
  },
  {
   "cell_type": "code",
   "execution_count": 33,
   "metadata": {},
   "outputs": [
    {
     "name": "stdout",
     "output_type": "stream",
     "text": [
      "100.0\n"
     ]
    }
   ],
   "source": [
    "print(accuarcy_cal(torch.argmax(temp, dim = 1) , test_dataset[:10][1]))"
   ]
  },
  {
   "cell_type": "code",
   "execution_count": 128,
   "metadata": {},
   "outputs": [],
   "source": [
    "# CNN Based Model\n",
    "\n",
    "class CNNModel(nn.Module):\n",
    "    def __init__(self ):\n",
    "        super().__init__()\n",
    "        self.conv_block1 = nn.Sequential(\n",
    "            nn.Conv2d(in_channels= 1, out_channels= 10 , bias= True , kernel_size= 3 , padding = \"same\"),\n",
    "            nn.ReLU(),\n",
    "            nn.Conv2d(10 , 10 , 3 , 1 , \"same\"),\n",
    "            nn.ReLU(),\n",
    "            nn.MaxPool2d(kernel_size= 2)\n",
    "        )\n",
    "        \n",
    "        self.conv_block2 = nn.Sequential(\n",
    "            nn.Conv2d(in_channels= 10, out_channels= 10 , bias= True , kernel_size= 3 , padding = \"same\"),\n",
    "            nn.ReLU(),\n",
    "            nn.Conv2d(10 , 10 , 3 , 1 , \"same\"),\n",
    "            nn.ReLU(),\n",
    "            nn.MaxPool2d(kernel_size= 2)  \n",
    "        )\n",
    "        \n",
    "        self.classify = nn.Sequential(\n",
    "            nn.Flatten(),\n",
    "            nn.Linear(in_features= 10*7*7 , out_features= 10)\n",
    "        )\n",
    "        \n",
    "        \n",
    "    def forward(self , features):\n",
    "        out1 = self.conv_block1(features)\n",
    "        # print(out1.shape)  # Trick \n",
    "        out2 = self.conv_block2(out1)\n",
    "        # print(out2.shape)\n",
    "        out3 = self.classify(out2)\n",
    "        # print(out3.shape)\n",
    "        return out3"
   ]
  },
  {
   "cell_type": "code",
   "execution_count": 129,
   "metadata": {},
   "outputs": [
    {
     "data": {
      "text/plain": [
       "==========================================================================================\n",
       "Layer (type:depth-idx)                   Output Shape              Param #\n",
       "==========================================================================================\n",
       "CNNModel                                 [16, 10]                  --\n",
       "├─Sequential: 1-1                        [16, 10, 14, 14]          --\n",
       "│    └─Conv2d: 2-1                       [16, 10, 28, 28]          100\n",
       "│    └─ReLU: 2-2                         [16, 10, 28, 28]          --\n",
       "│    └─Conv2d: 2-3                       [16, 10, 28, 28]          910\n",
       "│    └─ReLU: 2-4                         [16, 10, 28, 28]          --\n",
       "│    └─MaxPool2d: 2-5                    [16, 10, 14, 14]          --\n",
       "├─Sequential: 1-2                        [16, 10, 7, 7]            --\n",
       "│    └─Conv2d: 2-6                       [16, 10, 14, 14]          910\n",
       "│    └─ReLU: 2-7                         [16, 10, 14, 14]          --\n",
       "│    └─Conv2d: 2-8                       [16, 10, 14, 14]          910\n",
       "│    └─ReLU: 2-9                         [16, 10, 14, 14]          --\n",
       "│    └─MaxPool2d: 2-10                   [16, 10, 7, 7]            --\n",
       "├─Sequential: 1-3                        [16, 10]                  --\n",
       "│    └─Flatten: 2-11                     [16, 490]                 --\n",
       "│    └─Linear: 2-12                      [16, 10]                  4,910\n",
       "==========================================================================================\n",
       "Total params: 7,740\n",
       "Trainable params: 7,740\n",
       "Non-trainable params: 0\n",
       "Total mult-adds (Units.MEGABYTES): 18.46\n",
       "==========================================================================================\n",
       "Input size (MB): 0.05\n",
       "Forward/backward pass size (MB): 2.51\n",
       "Params size (MB): 0.03\n",
       "Estimated Total Size (MB): 2.59\n",
       "=========================================================================================="
      ]
     },
     "execution_count": 129,
     "metadata": {},
     "output_type": "execute_result"
    }
   ],
   "source": [
    "# Visualise Model\n",
    "from torchinfo import  summary\n",
    "CNNmodel = CNNModel()\n",
    "summary(CNNmodel , input_size=(16 , 1 , 28 , 28))"
   ]
  },
  {
   "cell_type": "code",
   "execution_count": 130,
   "metadata": {},
   "outputs": [],
   "source": [
    "# Function to Train the model\n",
    "def training_step(model: torch.nn.Module,\n",
    "                  train_dataloder : torch.utils.data.DataLoader,\n",
    "                  loss_function : torch.nn.Module,\n",
    "                  opt: torch.nn.Module,\n",
    "                  accuarcy_cal, \n",
    "                  device: torch.device = device):\n",
    "    batch_loss = 0\n",
    "    traning_acc = 0\n",
    "    for batch , (batch_feature , batch_label) in enumerate(train_dataloder):\n",
    "        \n",
    "        # Model in Traning Mode\n",
    "        model.train()\n",
    "        \n",
    "        # Move to device\n",
    "        batch_feature , batch_label = batch_feature.to(device) , batch_label.to(device)\n",
    "        \n",
    "        # forward \n",
    "        y_pred = model(batch_feature) \n",
    "        \n",
    "        # Loss calculation\n",
    "        loss = loss_function(y_pred , batch_label)\n",
    "        batch_loss += loss\n",
    "        \n",
    "        # loss and accuracy Update\n",
    "        acc = accuarcy_cal(y_true=batch_label , y_pred= torch.argmax(y_pred , dim = 1))\n",
    "        traning_acc += acc\n",
    "        \n",
    "        \n",
    "        # Backward \n",
    "        opt.zero_grad() \n",
    "        loss.backward()\n",
    "        \n",
    "        # Weight updates\n",
    "        opt.step()\n",
    "        \n",
    "    traning_acc /= len(train_dataloder)\n",
    "    batch_loss /= len(train_dataloder)\n",
    "    print(f\"Traning Loss : {batch_loss} , Traning Acc : {traning_acc}\")"
   ]
  },
  {
   "cell_type": "code",
   "execution_count": 131,
   "metadata": {},
   "outputs": [],
   "source": [
    "# function to for model testing\n",
    "def testing_step(model: torch.nn.Module,\n",
    "                  test_dataloder : torch.utils.data.DataLoader,\n",
    "                  loss_function : torch.nn.Module,\n",
    "                  accuarcy_cal,\n",
    "                  device: torch.device = device):\n",
    "    test_loss, test_acc = 0 , 0\n",
    "    model.eval()\n",
    "    with torch.inference_mode():\n",
    "        for batch_feature , batch_label in test_dataloder:\n",
    "            \n",
    "            # for GPU\n",
    "            batch_feature , batch_label = batch_feature.to(device) , batch_label.to(device)\n",
    "            \n",
    "            # Forward pass   \n",
    "            y_pred = model(batch_feature)\n",
    "            \n",
    "            # loss caculation\n",
    "            test_loss += loss_function(y_pred , batch_label)\n",
    "            \n",
    "            # Calculate accuracy\n",
    "            \n",
    "            test_acc += accuarcy_cal(y_true= batch_label , y_pred= torch.argmax(y_pred , dim= 1))\n",
    "        \n",
    "        test_loss /= len(test_dataloder)\n",
    "        test_acc /= len(test_dataloder)\n",
    "    \n",
    "    print(f\"Test Loss : {test_loss}, Test accuracy : {test_acc}\")"
   ]
  },
  {
   "cell_type": "code",
   "execution_count": 132,
   "metadata": {},
   "outputs": [
    {
     "data": {
      "application/vnd.jupyter.widget-view+json": {
       "model_id": "60dbc9d5681844408919eefb31c04a26",
       "version_major": 2,
       "version_minor": 0
      },
      "text/plain": [
       "  0%|          | 0/2 [00:00<?, ?it/s]"
      ]
     },
     "metadata": {},
     "output_type": "display_data"
    },
    {
     "name": "stdout",
     "output_type": "stream",
     "text": [
      "Epoch : 1\n",
      "Traning Loss : 0.13407564163208008 , Traning Acc : 95.775\n",
      "Test Loss : 0.12465064227581024, Test accuracy : 96.75\n",
      "Epoch : 2\n",
      "Traning Loss : 0.14777807891368866 , Traning Acc : 95.3875\n",
      "Test Loss : 0.11641119420528412, Test accuracy : 97.1\n"
     ]
    }
   ],
   "source": [
    "for ep in tqdm(range(2)):\n",
    "    print(f\"Epoch : {ep+1}\")\n",
    "    training_step(model , train_dataloder , loss_function , opt , accuarcy_cal )\n",
    "    testing_step(model  ,test_dataloder , loss_function , accuarcy_cal )\n",
    "    "
   ]
  },
  {
   "cell_type": "code",
   "execution_count": 133,
   "metadata": {},
   "outputs": [],
   "source": [
    "# Hyperparameter\n",
    "lr = 0.01\n",
    "batch_sizes = 16\n",
    "epochs = 20\n",
    "loss_func = nn.CrossEntropyLoss()\n",
    "optimiser = opti.Adam(CNNmodel.parameters() , lr = lr)"
   ]
  },
  {
   "cell_type": "code",
   "execution_count": 134,
   "metadata": {},
   "outputs": [
    {
     "data": {
      "application/vnd.jupyter.widget-view+json": {
       "model_id": "79cf51c4b3774a65b164cc05a377f857",
       "version_major": 2,
       "version_minor": 0
      },
      "text/plain": [
       "  0%|          | 0/20 [00:00<?, ?it/s]"
      ]
     },
     "metadata": {},
     "output_type": "display_data"
    },
    {
     "name": "stdout",
     "output_type": "stream",
     "text": [
      "Epoch: 0\n",
      "---------\n",
      "Traning Loss : 0.4565892815589905 , Traning Acc : 85.0625\n",
      "Test Loss : 0.20806631445884705, Test accuracy : 93.1\n",
      "Epoch: 1\n",
      "---------\n",
      "Traning Loss : 0.1619330197572708 , Traning Acc : 94.9875\n",
      "Test Loss : 0.14040736854076385, Test accuracy : 95.7\n",
      "Epoch: 2\n",
      "---------\n",
      "Traning Loss : 0.13808496296405792 , Traning Acc : 95.6375\n",
      "Test Loss : 0.13501334190368652, Test accuracy : 95.45\n",
      "Epoch: 3\n",
      "---------\n",
      "Traning Loss : 0.10790326446294785 , Traning Acc : 96.425\n",
      "Test Loss : 0.18311966955661774, Test accuracy : 95.45\n",
      "Epoch: 4\n",
      "---------\n",
      "Traning Loss : 0.09458000957965851 , Traning Acc : 96.8\n",
      "Test Loss : 0.15071836113929749, Test accuracy : 95.7\n",
      "Epoch: 5\n",
      "---------\n",
      "Traning Loss : 0.09789732098579407 , Traning Acc : 96.7125\n",
      "Test Loss : 0.14207971096038818, Test accuracy : 96.0\n",
      "Epoch: 6\n",
      "---------\n",
      "Traning Loss : 0.09766189754009247 , Traning Acc : 96.7875\n",
      "Test Loss : 0.15061767399311066, Test accuracy : 96.0\n",
      "Epoch: 7\n",
      "---------\n",
      "Traning Loss : 0.08135518431663513 , Traning Acc : 97.4\n",
      "Test Loss : 0.1507693976163864, Test accuracy : 95.65\n",
      "Epoch: 8\n",
      "---------\n",
      "Traning Loss : 0.09425673633813858 , Traning Acc : 97.1875\n",
      "Test Loss : 0.14566746354103088, Test accuracy : 96.6\n",
      "Epoch: 9\n",
      "---------\n",
      "Traning Loss : 0.07574942708015442 , Traning Acc : 97.45\n",
      "Test Loss : 0.14012642204761505, Test accuracy : 95.65\n",
      "Epoch: 10\n",
      "---------\n",
      "Traning Loss : 0.07074657082557678 , Traning Acc : 97.875\n",
      "Test Loss : 0.14006288349628448, Test accuracy : 95.7\n",
      "Epoch: 11\n",
      "---------\n",
      "Traning Loss : 0.06804150342941284 , Traning Acc : 97.8375\n",
      "Test Loss : 0.1812901794910431, Test accuracy : 95.5\n",
      "Epoch: 12\n",
      "---------\n",
      "Traning Loss : 0.08592130243778229 , Traning Acc : 97.0125\n",
      "Test Loss : 0.1692722588777542, Test accuracy : 96.25\n",
      "Epoch: 13\n",
      "---------\n",
      "Traning Loss : 0.05929286405444145 , Traning Acc : 97.8875\n",
      "Test Loss : 0.1701260209083557, Test accuracy : 96.4\n",
      "Epoch: 14\n",
      "---------\n",
      "Traning Loss : 0.061945974826812744 , Traning Acc : 97.9125\n",
      "Test Loss : 0.1966281533241272, Test accuracy : 95.8\n",
      "Epoch: 15\n",
      "---------\n",
      "Traning Loss : 0.07195623964071274 , Traning Acc : 97.8375\n",
      "Test Loss : 0.15620803833007812, Test accuracy : 96.0\n",
      "Epoch: 16\n",
      "---------\n",
      "Traning Loss : 0.06030920520424843 , Traning Acc : 97.975\n",
      "Test Loss : 0.25267723202705383, Test accuracy : 94.55\n",
      "Epoch: 17\n",
      "---------\n",
      "Traning Loss : 0.07210797816514969 , Traning Acc : 97.7375\n",
      "Test Loss : 0.21317249536514282, Test accuracy : 95.9\n",
      "Epoch: 18\n",
      "---------\n",
      "Traning Loss : 0.06269767880439758 , Traning Acc : 97.8875\n",
      "Test Loss : 0.1612645983695984, Test accuracy : 96.45\n",
      "Epoch: 19\n",
      "---------\n",
      "Traning Loss : 0.07730977237224579 , Traning Acc : 97.6625\n",
      "Test Loss : 0.14812588691711426, Test accuracy : 95.7\n"
     ]
    }
   ],
   "source": [
    "# Train Model\n",
    "for epoch in tqdm(range(epochs)):\n",
    "    print(f\"Epoch: {epoch}\\n---------\")\n",
    "    training_step(CNNmodel , train_dataloder , loss_func , optimiser , accuarcy_cal)\n",
    "    testing_step(CNNmodel , test_dataloder , loss_func , accuarcy_cal)\n"
   ]
  },
  {
   "cell_type": "code",
   "execution_count": 189,
   "metadata": {},
   "outputs": [],
   "source": [
    "# Made Predictions\n",
    "def make_predction(model:nn.Module,\n",
    "                   img: list,\n",
    "                   device: torch.device = device):\n",
    "    model.to(device= device)\n",
    "    model.eval()\n",
    "    \n",
    "    with torch.inference_mode():\n",
    "        # img = torch.tensor(img)\n",
    "        img = torch.unsqueeze(img , dim=0).to(device=device)\n",
    "        output = model(img)\n",
    "        \n",
    "        label = torch.argmax(output.squeeze() , dim = 0).item()\n",
    "        \n",
    "    return torch.tensor(label)   "
   ]
  },
  {
   "cell_type": "code",
   "execution_count": 229,
   "metadata": {},
   "outputs": [],
   "source": [
    "import random\n",
    "# random.seed(42)\n",
    "test_sample = []\n",
    "test_label = []\n",
    "predict_lables = []\n",
    "for sample , label in random.sample(list(test_dataset) , k = 9):\n",
    "    test_sample.append(sample)\n",
    "    test_label.append(label)\n",
    "    predict_lables.append(make_predction(CNNmodel , sample))\n",
    "\n",
    "    "
   ]
  },
  {
   "cell_type": "code",
   "execution_count": 230,
   "metadata": {},
   "outputs": [
    {
     "data": {
      "image/png": "[encoded data removed]",
      "text/plain": [
       "<Figure size 900x900 with 9 Axes>"
      ]
     },
     "metadata": {},
     "output_type": "display_data"
    }
   ],
   "source": [
    "fig = plt.figure(figsize=(9 , 9))\n",
    "row , col = 3 , 3\n",
    "\n",
    "for i , sample in enumerate(test_sample):\n",
    "    \n",
    "    plt.subplot(row , col , i+1)\n",
    "    \n",
    "    plt.imshow(sample.squeeze() , cmap = \"gray\")\n",
    "    \n",
    "    if test_label[i] == predict_lables[i]:\n",
    "        plt.title(f\"Actual lable: {test_label[i].item()}\" , c = \"g\" )\n",
    "        \n",
    "    else:\n",
    "        plt.title(f\"Predicted lable: {predict_lables[i].item()}\" , c = \"r\" )\n",
    "    plt.axis(False)\n",
    "    \n",
    "    "
   ]
  },
  {
   "cell_type": "code",
   "execution_count": 3,
   "metadata": {},
   "outputs": [
    {
     "name": "stdout",
     "output_type": "stream",
     "text": [
      "Requirement already satisfied: torchmetrics in c:\\users\\singh\\appdata\\local\\programs\\python\\python38\\lib\\site-packages (1.5.2)\n",
      "Requirement already satisfied: numpy>1.20.0 in c:\\users\\singh\\appdata\\local\\programs\\python\\python38\\lib\\site-packages (from torchmetrics) (1.24.4)\n",
      "Requirement already satisfied: packaging>17.1 in c:\\users\\singh\\appdata\\local\\programs\\python\\python38\\lib\\site-packages (from torchmetrics) (24.0)\n",
      "Requirement already satisfied: torch>=1.10.0 in c:\\users\\singh\\appdata\\local\\programs\\python\\python38\\lib\\site-packages (from torchmetrics) (2.4.1)\n",
      "Requirement already satisfied: lightning-utilities>=0.8.0 in c:\\users\\singh\\appdata\\local\\programs\\python\\python38\\lib\\site-packages (from torchmetrics) (0.11.9)\n",
      "Requirement already satisfied: typing-extensions in c:\\users\\singh\\appdata\\roaming\\python\\python38\\site-packages (from torchmetrics) (4.11.0)\n",
      "Requirement already satisfied: setuptools in c:\\users\\singh\\appdata\\local\\programs\\python\\python38\\lib\\site-packages (from lightning-utilities>=0.8.0->torchmetrics) (56.0.0)\n",
      "Requirement already satisfied: filelock in c:\\users\\singh\\appdata\\local\\programs\\python\\python38\\lib\\site-packages (from torch>=1.10.0->torchmetrics) (3.16.1)\n",
      "Requirement already satisfied: sympy in c:\\users\\singh\\appdata\\local\\programs\\python\\python38\\lib\\site-packages (from torch>=1.10.0->torchmetrics) (1.13.3)\n",
      "Requirement already satisfied: networkx in c:\\users\\singh\\appdata\\local\\programs\\python\\python38\\lib\\site-packages (from torch>=1.10.0->torchmetrics) (3.1)\n",
      "Requirement already satisfied: jinja2 in c:\\users\\singh\\appdata\\local\\programs\\python\\python38\\lib\\site-packages (from torch>=1.10.0->torchmetrics) (3.1.3)\n",
      "Requirement already satisfied: fsspec in c:\\users\\singh\\appdata\\local\\programs\\python\\python38\\lib\\site-packages (from torch>=1.10.0->torchmetrics) (2024.12.0)\n",
      "Requirement already satisfied: MarkupSafe>=2.0 in c:\\users\\singh\\appdata\\local\\programs\\python\\python38\\lib\\site-packages (from jinja2->torch>=1.10.0->torchmetrics) (2.1.5)\n",
      "Requirement already satisfied: mpmath<1.4,>=1.1.0 in c:\\users\\singh\\appdata\\local\\programs\\python\\python38\\lib\\site-packages (from sympy->torch>=1.10.0->torchmetrics) (1.3.0)\n"
     ]
    },
    {
     "name": "stderr",
     "output_type": "stream",
     "text": [
      "\n",
      "[notice] A new release of pip is available: 24.2 -> 24.3.1\n",
      "[notice] To update, run: C:\\Users\\singh\\AppData\\Local\\Programs\\Python\\Python38\\python.exe -m pip install --upgrade pip\n"
     ]
    }
   ],
   "source": [
    "# Confusion matrix\n",
    "!pip install torchmetrics"
   ]
  },
  {
   "cell_type": "code",
   "execution_count": null,
   "metadata": {},
   "outputs": [],
   "source": []
  }
 ],
 "metadata": {
  "kernelspec": {
   "display_name": "Python 3",
   "language": "python",
   "name": "python3"
  },
  "language_info": {
   "codemirror_mode": {
    "name": "ipython",
    "version": 3
   },
   "file_extension": ".py",
   "mimetype": "text/x-python",
   "name": "python",
   "nbconvert_exporter": "python",
   "pygments_lexer": "ipython3",
   "version": "3.12.2"
  }
 },
 "nbformat": 4,
 "nbformat_minor": 2
}
