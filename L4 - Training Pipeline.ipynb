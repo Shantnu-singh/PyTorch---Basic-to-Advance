{
 "cells": [
  {
   "cell_type": "code",
   "execution_count": 77,
   "metadata": {},
   "outputs": [],
   "source": [
    "import torch\n",
    "import pandas as pd\n",
    "from sklearn.model_selection import train_test_split \n",
    "from sklearn.preprocessing import LabelEncoder , OneHotEncoder , StandardScaler\n",
    "from sklearn.impute import SimpleImputer "
   ]
  },
  {
   "cell_type": "code",
   "execution_count": 78,
   "metadata": {},
   "outputs": [
    {
     "data": {
      "text/html": [
       "<div>\n",
       "<style scoped>\n",
       "    .dataframe tbody tr th:only-of-type {\n",
       "        vertical-align: middle;\n",
       "    }\n",
       "\n",
       "    .dataframe tbody tr th {\n",
       "        vertical-align: top;\n",
       "    }\n",
       "\n",
       "    .dataframe thead th {\n",
       "        text-align: right;\n",
       "    }\n",
       "</style>\n",
       "<table border=\"1\" class=\"dataframe\">\n",
       "  <thead>\n",
       "    <tr style=\"text-align: right;\">\n",
       "      <th></th>\n",
       "      <th>PassengerId</th>\n",
       "      <th>Survived</th>\n",
       "      <th>Pclass</th>\n",
       "      <th>Name</th>\n",
       "      <th>Sex</th>\n",
       "      <th>Age</th>\n",
       "      <th>SibSp</th>\n",
       "      <th>Parch</th>\n",
       "      <th>Ticket</th>\n",
       "      <th>Fare</th>\n",
       "      <th>Cabin</th>\n",
       "      <th>Embarked</th>\n",
       "    </tr>\n",
       "  </thead>\n",
       "  <tbody>\n",
       "    <tr>\n",
       "      <th>417</th>\n",
       "      <td>418</td>\n",
       "      <td>1</td>\n",
       "      <td>2</td>\n",
       "      <td>Silven, Miss. Lyyli Karoliina</td>\n",
       "      <td>female</td>\n",
       "      <td>18.0</td>\n",
       "      <td>0</td>\n",
       "      <td>2</td>\n",
       "      <td>250652</td>\n",
       "      <td>13.0000</td>\n",
       "      <td>NaN</td>\n",
       "      <td>S</td>\n",
       "    </tr>\n",
       "    <tr>\n",
       "      <th>874</th>\n",
       "      <td>875</td>\n",
       "      <td>1</td>\n",
       "      <td>2</td>\n",
       "      <td>Abelson, Mrs. Samuel (Hannah Wizosky)</td>\n",
       "      <td>female</td>\n",
       "      <td>28.0</td>\n",
       "      <td>1</td>\n",
       "      <td>0</td>\n",
       "      <td>P/PP 3381</td>\n",
       "      <td>24.0000</td>\n",
       "      <td>NaN</td>\n",
       "      <td>C</td>\n",
       "    </tr>\n",
       "    <tr>\n",
       "      <th>14</th>\n",
       "      <td>15</td>\n",
       "      <td>0</td>\n",
       "      <td>3</td>\n",
       "      <td>Vestrom, Miss. Hulda Amanda Adolfina</td>\n",
       "      <td>female</td>\n",
       "      <td>14.0</td>\n",
       "      <td>0</td>\n",
       "      <td>0</td>\n",
       "      <td>350406</td>\n",
       "      <td>7.8542</td>\n",
       "      <td>NaN</td>\n",
       "      <td>S</td>\n",
       "    </tr>\n",
       "    <tr>\n",
       "      <th>105</th>\n",
       "      <td>106</td>\n",
       "      <td>0</td>\n",
       "      <td>3</td>\n",
       "      <td>Mionoff, Mr. Stoytcho</td>\n",
       "      <td>male</td>\n",
       "      <td>28.0</td>\n",
       "      <td>0</td>\n",
       "      <td>0</td>\n",
       "      <td>349207</td>\n",
       "      <td>7.8958</td>\n",
       "      <td>NaN</td>\n",
       "      <td>S</td>\n",
       "    </tr>\n",
       "    <tr>\n",
       "      <th>671</th>\n",
       "      <td>672</td>\n",
       "      <td>0</td>\n",
       "      <td>1</td>\n",
       "      <td>Davidson, Mr. Thornton</td>\n",
       "      <td>male</td>\n",
       "      <td>31.0</td>\n",
       "      <td>1</td>\n",
       "      <td>0</td>\n",
       "      <td>F.C. 12750</td>\n",
       "      <td>52.0000</td>\n",
       "      <td>B71</td>\n",
       "      <td>S</td>\n",
       "    </tr>\n",
       "  </tbody>\n",
       "</table>\n",
       "</div>"
      ],
      "text/plain": [
       "     PassengerId  Survived  Pclass                                   Name  \\\n",
       "417          418         1       2          Silven, Miss. Lyyli Karoliina   \n",
       "874          875         1       2  Abelson, Mrs. Samuel (Hannah Wizosky)   \n",
       "14            15         0       3   Vestrom, Miss. Hulda Amanda Adolfina   \n",
       "105          106         0       3                  Mionoff, Mr. Stoytcho   \n",
       "671          672         0       1                 Davidson, Mr. Thornton   \n",
       "\n",
       "        Sex   Age  SibSp  Parch      Ticket     Fare Cabin Embarked  \n",
       "417  female  18.0      0      2      250652  13.0000   NaN        S  \n",
       "874  female  28.0      1      0   P/PP 3381  24.0000   NaN        C  \n",
       "14   female  14.0      0      0      350406   7.8542   NaN        S  \n",
       "105    male  28.0      0      0      349207   7.8958   NaN        S  \n",
       "671    male  31.0      1      0  F.C. 12750  52.0000   B71        S  "
      ]
     },
     "execution_count": 78,
     "metadata": {},
     "output_type": "execute_result"
    }
   ],
   "source": [
    "df = pd.read_csv(\"Dataset/Titanic/train.csv\")\n",
    "df.sample(5)"
   ]
  },
  {
   "cell_type": "code",
   "execution_count": 79,
   "metadata": {},
   "outputs": [
    {
     "name": "stdout",
     "output_type": "stream",
     "text": [
      "<class 'pandas.core.frame.DataFrame'>\n",
      "RangeIndex: 891 entries, 0 to 890\n",
      "Data columns (total 12 columns):\n",
      " #   Column       Non-Null Count  Dtype  \n",
      "---  ------       --------------  -----  \n",
      " 0   PassengerId  891 non-null    int64  \n",
      " 1   Survived     891 non-null    int64  \n",
      " 2   Pclass       891 non-null    int64  \n",
      " 3   Name         891 non-null    object \n",
      " 4   Sex          891 non-null    object \n",
      " 5   Age          714 non-null    float64\n",
      " 6   SibSp        891 non-null    int64  \n",
      " 7   Parch        891 non-null    int64  \n",
      " 8   Ticket       891 non-null    object \n",
      " 9   Fare         891 non-null    float64\n",
      " 10  Cabin        204 non-null    object \n",
      " 11  Embarked     889 non-null    object \n",
      "dtypes: float64(2), int64(5), object(5)\n",
      "memory usage: 83.7+ KB\n"
     ]
    }
   ],
   "source": [
    "df.info()"
   ]
  },
  {
   "cell_type": "code",
   "execution_count": 80,
   "metadata": {},
   "outputs": [
    {
     "data": {
      "text/plain": [
       "PassengerId      0\n",
       "Survived         0\n",
       "Pclass           0\n",
       "Name             0\n",
       "Sex              0\n",
       "Age            177\n",
       "SibSp            0\n",
       "Parch            0\n",
       "Ticket           0\n",
       "Fare             0\n",
       "Cabin          687\n",
       "Embarked         2\n",
       "dtype: int64"
      ]
     },
     "execution_count": 80,
     "metadata": {},
     "output_type": "execute_result"
    }
   ],
   "source": [
    "df.isnull().sum()"
   ]
  },
  {
   "cell_type": "code",
   "execution_count": 81,
   "metadata": {},
   "outputs": [],
   "source": [
    "# Preprocss the datset\n",
    "df = df.drop(columns= ['Name' , 'Cabin' ,\"PassengerId\" , \"Ticket\"])\n",
    "\n",
    "# Split the dataset\n",
    "y = df['Survived']\n",
    "X = df.drop(columns= ['Survived'])\n",
    "X_train , x_test , y_train , y_test = train_test_split(X, y , test_size= 0.2 , random_state= 42)\n",
    "X_train.shape , x_test.shape\n",
    "\n",
    "# impuation for Age\n",
    "Si = SimpleImputer(strategy= \"mean\")\n",
    "X_train['Age'] = Si.fit_transform(X_train[['Age']])\n",
    "x_test['Age'] = Si.transform(x_test[[\"Age\"]])\n",
    "\n",
    "# Impuation for Embarked\n",
    "X_train = X_train.fillna({'Embarked': 'missing'})  # Replace with 'missing' instead of dropping\n",
    "x_test = x_test.fillna({'Embarked': 'missing'})\n",
    "\n",
    "# OHE\n",
    "object_columns = X_train.select_dtypes(include=['object']).columns.tolist()\n",
    "ohe = OneHotEncoder(sparse_output= False)\n",
    "\n",
    "X_train_ohe_encoder = ohe.fit_transform(X_train[object_columns])\n",
    "x_test_ohe_encoder = ohe.transform(x_test[object_columns])\n",
    "\n",
    "X_train_ohe_df = pd.DataFrame(X_train_ohe_encoder , columns= ohe.get_feature_names_out(object_columns), index= X_train.index)\n",
    "x_test_ohe_df = pd.DataFrame(x_test_ohe_encoder , columns= ohe.get_feature_names_out(object_columns) , index= x_test.index)\n",
    "\n",
    "X_train = pd.concat([X_train , X_train_ohe_df] , axis= 1)\n",
    "x_test = pd.concat([x_test , x_test_ohe_df] , axis= 1)\n",
    "\n",
    "X_train = X_train.drop(object_columns , axis= 1)\n",
    "x_test = x_test.drop(object_columns , axis= 1)\n",
    "\n",
    "# Scale Values\n",
    "scaler = StandardScaler()\n",
    "X_train = scaler.fit_transform(X_train)\n",
    "x_test = scaler.transform(x_test)\n"
   ]
  },
  {
   "cell_type": "code",
   "execution_count": 82,
   "metadata": {},
   "outputs": [
    {
     "data": {
      "text/plain": [
       "((712, 11), (712,))"
      ]
     },
     "execution_count": 82,
     "metadata": {},
     "output_type": "execute_result"
    }
   ],
   "source": [
    "# Label Encoder\n",
    "LE = LabelEncoder()\n",
    "y_train = LE.fit_transform(y_train)\n",
    "y_test = LE.transform(y_test)\n",
    "X_train.shape , y_train.shape"
   ]
  },
  {
   "cell_type": "code",
   "execution_count": 83,
   "metadata": {},
   "outputs": [],
   "source": [
    "# Converting into tensor\n",
    "import numpy as np \n",
    "\n",
    "X_train = np.array(X_train)\n",
    "x_test = np.array(x_test)\n",
    "X_train = torch.from_numpy(X_train)\n",
    "x_test = torch.from_numpy(x_test)\n",
    "y_test = torch.from_numpy(y_test)\n",
    "y_train = torch.from_numpy(y_train)"
   ]
  },
  {
   "cell_type": "code",
   "execution_count": 84,
   "metadata": {},
   "outputs": [],
   "source": [
    "# Creating a Neural Network in Pytorch\n",
    "import math\n",
    "class NeuralNetwork():\n",
    "    \n",
    "    def __init__(self , Traning_set):\n",
    "        self.weight = torch.rand(Traning_set.shape[1] , 1 , dtype= torch.float64 , requires_grad= True)\n",
    "        self.bias = torch.zeros(1 , dtype= torch.float64 , requires_grad= True)\n",
    "        \n",
    "    def forward(self , Traning_set):\n",
    "        z = torch.matmul(Traning_set , self.weight) + self.bias\n",
    "        y_pred = torch.sigmoid(z) \n",
    "        return y_pred\n",
    "    \n",
    "    def Loss(self , y_pred , y_true):\n",
    "        eplion = 1e-7\n",
    "        y_pred = torch.clamp(y_pred , eplion , 1-eplion)\n",
    "        \n",
    "        loss = -(y_true * torch.log(y_pred) + (1-y_true) * torch.log(1-y_pred)).mean()\n",
    "        return loss\n",
    "        \n",
    "\n",
    "    \n",
    "        "
   ]
  },
  {
   "cell_type": "code",
   "execution_count": 85,
   "metadata": {},
   "outputs": [],
   "source": [
    "epoch = 20\n",
    "learning_rate = 0.1"
   ]
  },
  {
   "cell_type": "code",
   "execution_count": 86,
   "metadata": {},
   "outputs": [
    {
     "name": "stdout",
     "output_type": "stream",
     "text": [
      "For epoch 1 loss is 0.9859585830982732\n",
      "For epoch 2 loss is 0.9723396298570769\n",
      "For epoch 3 loss is 0.958385652157675\n",
      "For epoch 4 loss is 0.9441560770840487\n",
      "For epoch 5 loss is 0.9297675519945662\n",
      "For epoch 6 loss is 0.9153866220693017\n",
      "For epoch 7 loss is 0.901217843180029\n",
      "For epoch 8 loss is 0.887488114765411\n",
      "For epoch 9 loss is 0.8744284408336233\n"
     ]
    },
    {
     "name": "stdout",
     "output_type": "stream",
     "text": [
      "For epoch 10 loss is 0.8622546752221512\n",
      "For epoch 11 loss is 0.8511490175835349\n",
      "For epoch 12 loss is 0.8412440419822713\n",
      "For epoch 13 loss is 0.8326108274531983\n",
      "For epoch 14 loss is 0.8252523285645896\n",
      "For epoch 15 loss is 0.8191025331803449\n",
      "For epoch 16 loss is 0.8140313045428794\n",
      "For epoch 17 loss is 0.8098542113538892\n",
      "For epoch 18 loss is 0.8063462108112838\n",
      "For epoch 19 loss is 0.8032578187444498\n",
      "For epoch 20 loss is 0.8003323765743451\n"
     ]
    }
   ],
   "source": [
    "# Traning Pipeline\n",
    "\n",
    "model = NeuralNetwork(X_train)\n",
    "model.bias.shape\n",
    "model.weight.shape # is euqual = (X_train.shape[1] , 1)  \n",
    "\n",
    "\n",
    "for ep in range(epoch):\n",
    "    # Forward pass\n",
    "    y_pred = model.forward(X_train)\n",
    "    \n",
    "    # Loss calculate\n",
    "    loss = model.Loss(y_pred , y_train)\n",
    "    \n",
    "    # backward pass\n",
    "    loss.backward()\n",
    "    \n",
    "    # updated weights and bias\n",
    "    with torch.no_grad():\n",
    "        model.weight -= model.weight.grad*learning_rate\n",
    "        model.bias -= model.bias.grad*learning_rate\n",
    "    \n",
    "    # Loss in each epoch \n",
    "    model.weight.grad.zero_()\n",
    "    model.weight.grad.zero_()\n",
    "    print(f\"For epoch {ep+1} loss is {loss}\")\n",
    "    # pass\n",
    "    "
   ]
  },
  {
   "cell_type": "code",
   "execution_count": 93,
   "metadata": {},
   "outputs": [
    {
     "name": "stdout",
     "output_type": "stream",
     "text": [
      "Accuracy: 0.5759495496749878\n"
     ]
    }
   ],
   "source": [
    "# Evaluate the model\n",
    "\n",
    "with torch.no_grad():\n",
    "    y_pred = model.forward(x_test)\n",
    "    y_pred = (y_pred > 0.6).float()  # threshold = 0.6\n",
    "    \n",
    "    acc = (y_pred == y_test).float().mean() # to calculate accuracy\n",
    "    \n",
    "    print(f\"Accuracy: {acc}\")\n",
    "    "
   ]
  }
 ],
 "metadata": {
  "kernelspec": {
   "display_name": "Python 3",
   "language": "python",
   "name": "python3"
  },
  "language_info": {
   "codemirror_mode": {
    "name": "ipython",
    "version": 3
   },
   "file_extension": ".py",
   "mimetype": "text/x-python",
   "name": "python",
   "nbconvert_exporter": "python",
   "pygments_lexer": "ipython3",
   "version": "3.12.2"
  }
 },
 "nbformat": 4,
 "nbformat_minor": 2
}
